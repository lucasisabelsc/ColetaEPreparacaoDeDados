{
 "cells": [
  {
   "cell_type": "markdown",
   "id": "7e3e2a18",
   "metadata": {},
   "source": [
    "<img src=\"imagens/Captura de Tela 2025-06-04 às 22.55.44.png\">"
   ]
  },
  {
   "cell_type": "code",
   "execution_count": 11,
   "id": "02e15498",
   "metadata": {},
   "outputs": [],
   "source": [
    "p1 = [220,1,1000]\n",
    "p2 = [200,4,800]\n",
    "p3 = [300,5,1100]\n",
    "p4 = [250,6,900]"
   ]
  },
  {
   "cell_type": "code",
   "execution_count": 15,
   "id": "06170aa6",
   "metadata": {},
   "outputs": [
    {
     "name": "stdout",
     "output_type": "stream",
     "text": [
      "((220 - 200)**2 + (1 - 4)**2 + (1000 - 800)**2) ** 0.5\n",
      "201.0198995124612\n",
      "((220 - 300)**2 + (1 - 5)**2 + (1000 - 1100)**2) ** 0.5\n",
      "128.12493902437572\n",
      "((220 - 250)**2 + (1 - 6)**2 + (1000 - 900)**2) ** 0.5\n",
      "104.52272480183436\n"
     ]
    }
   ],
   "source": [
    "## distancia entre os pontos\n",
    "def euclidiana(p1, p2):\n",
    "    print(f\"(({p1[0]} - {p2[0]})**2 + ({p1[1]} - {p2[1]})**2 + ({p1[2]} - {p2[2]})**2) ** 0.5\")\n",
    "    return ((p1[0] - p2[0])**2 + (p1[1] - p2[1])**2 + (p1[2] - p2[2])**2) ** 0.5\n",
    "\n",
    "print(euclidiana(p1, p2))\n",
    "print(euclidiana(p1, p3))\n",
    "print(euclidiana(p1, p4))"
   ]
  },
  {
   "cell_type": "code",
   "execution_count": 14,
   "id": "c3f54be9",
   "metadata": {},
   "outputs": [
    {
     "name": "stdout",
     "output_type": "stream",
     "text": [
      "abs(220 - 200) + abs(1 - 4) + abs(1000 - 800)\n",
      "223\n",
      "abs(220 - 300) + abs(1 - 5) + abs(1000 - 1100)\n",
      "184\n",
      "abs(220 - 250) + abs(1 - 6) + abs(1000 - 900)\n",
      "135\n"
     ]
    }
   ],
   "source": [
    "def manhattan(p1, p2):\n",
    "    print(f\"abs({p1[0]} - {p2[0]}) + abs({p1[1]} - {p2[1]}) + abs({p1[2]} - {p2[2]})\")\n",
    "    return abs(p1[0] - p2[0]) + abs(p1[1] - p2[1]) + abs(p1[2] - p2[2])\n",
    "\n",
    "print(manhattan(p1, p2))\n",
    "print(manhattan(p1, p3))\n",
    "print(manhattan(p1, p4))"
   ]
  },
  {
   "cell_type": "code",
   "execution_count": 20,
   "id": "fe97e4fe",
   "metadata": {},
   "outputs": [],
   "source": [
    "x1_min = min(p1[0], p2[0], p3[0], p4[0])\n",
    "x1_max = max(p1[0], p2[0], p3[0], p4[0])\n",
    "x2_min = min(p1[1], p2[1], p3[1], p4[1])\n",
    "x2_max = max(p1[1], p2[1], p3[1], p4[1])\n",
    "x3_min = min(p1[2], p2[2], p3[2], p4[2])\n",
    "x3_max = max(p1[2], p2[2], p3[2], p4[2])\n",
    "\n",
    "p1_normalizado = [(p1[0] - x1_min) / (x1_max - x1_min),\n",
    "                  (p1[1] - x2_min) / (x2_max - x2_min),\n",
    "                  (p1[2] - x3_min) / (x3_max - x3_min)]\n",
    "p2_normalizado = [(p2[0] - x1_min) / (x1_max - x1_min),\n",
    "                  (p2[1] - x2_min) / (x2_max - x2_min),\n",
    "                  (p2[2] - x3_min) / (x3_max - x3_min)]\n",
    "p3_normalizado = [(p3[0] - x1_min) / (x1_max - x1_min),\n",
    "                  (p3[1] - x2_min) / (x2_max - x2_min),\n",
    "                  (p3[2] - x3_min) / (x3_max - x3_min)]\n",
    "p4_normalizado = [(p4[0] - x1_min) / (x1_max - x1_min),\n",
    "                  (p4[1] - x2_min) / (x2_max - x2_min),\n",
    "                  (p4[2] - x3_min) / (x3_max - x3_min)]"
   ]
  },
  {
   "cell_type": "code",
   "execution_count": 21,
   "id": "75470eb0",
   "metadata": {},
   "outputs": [
    {
     "name": "stdout",
     "output_type": "stream",
     "text": [
      "((0.2 - 0.0)**2 + (0.0 - 0.6)**2 + (0.6666666666666666 - 0.0)**2) ** 0.5\n",
      "0.9189365834726815\n",
      "((0.2 - 1.0)**2 + (0.0 - 0.8)**2 + (0.6666666666666666 - 1.0)**2) ** 0.5\n",
      "1.1794537341969422\n",
      "((0.2 - 0.5)**2 + (0.0 - 1.0)**2 + (0.6666666666666666 - 0.3333333333333333)**2) ** 0.5\n",
      "1.0959521481849064\n"
     ]
    }
   ],
   "source": [
    "print(euclidiana(p1_normalizado, p2_normalizado))\n",
    "print(euclidiana(p1_normalizado, p3_normalizado))\n",
    "print(euclidiana(p1_normalizado, p4_normalizado))"
   ]
  }
 ],
 "metadata": {
  "kernelspec": {
   "display_name": "meu_env",
   "language": "python",
   "name": "python3"
  },
  "language_info": {
   "codemirror_mode": {
    "name": "ipython",
    "version": 3
   },
   "file_extension": ".py",
   "mimetype": "text/x-python",
   "name": "python",
   "nbconvert_exporter": "python",
   "pygments_lexer": "ipython3",
   "version": "3.12.6"
  }
 },
 "nbformat": 4,
 "nbformat_minor": 5
}
