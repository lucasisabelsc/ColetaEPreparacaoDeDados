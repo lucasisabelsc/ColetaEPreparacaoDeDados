{
 "cells": [
  {
   "cell_type": "code",
   "execution_count": null,
   "metadata": {},
   "outputs": [],
   "source": [
    "import xml.etree.ElementTree as ET\n",
    "from lxml import etree"
   ]
  },
  {
   "cell_type": "code",
   "execution_count": null,
   "metadata": {},
   "outputs": [],
   "source": [
    "xml_file = ET.parse('./bookstore.xml')\n",
    "root_xml = xml_file.getroot()"
   ]
  },
  {
   "cell_type": "code",
   "execution_count": 5,
   "metadata": {},
   "outputs": [
    {
     "data": {
      "text/plain": [
       "'bookstore'"
      ]
     },
     "execution_count": 5,
     "metadata": {},
     "output_type": "execute_result"
    }
   ],
   "source": [
    "root_xml.tag"
   ]
  },
  {
   "cell_type": "code",
   "execution_count": 6,
   "metadata": {},
   "outputs": [
    {
     "data": {
      "text/plain": [
       "[<Element 'book' at 0x0000022D0D5C21B0>,\n",
       " <Element 'book' at 0x0000022D0D5BBC40>,\n",
       " <Element 'book' at 0x0000022D0D5BB740>,\n",
       " <Element 'book' at 0x0000022D0D5BA570>,\n",
       " <Element 'book' at 0x0000022D0D5BA1B0>]"
      ]
     },
     "execution_count": 6,
     "metadata": {},
     "output_type": "execute_result"
    }
   ],
   "source": [
    "root_xml.findall(r'./book')"
   ]
  },
  {
   "cell_type": "code",
   "execution_count": 8,
   "metadata": {},
   "outputs": [
    {
     "ename": "KeyError",
     "evalue": "'()'",
     "output_type": "error",
     "traceback": [
      "\u001b[1;31m---------------------------------------------------------------------------\u001b[0m",
      "\u001b[1;31mKeyError\u001b[0m                                  Traceback (most recent call last)",
      "File \u001b[1;32mc:\\Users\\lucas\\miniconda3\\envs\\dinamica\\lib\\xml\\etree\\ElementPath.py:370\u001b[0m, in \u001b[0;36miterfind\u001b[1;34m(elem, path, namespaces)\u001b[0m\n\u001b[0;32m    369\u001b[0m \u001b[39mtry\u001b[39;00m:\n\u001b[1;32m--> 370\u001b[0m     selector \u001b[39m=\u001b[39m _cache[cache_key]\n\u001b[0;32m    371\u001b[0m \u001b[39mexcept\u001b[39;00m \u001b[39mKeyError\u001b[39;00m:\n",
      "\u001b[1;31mKeyError\u001b[0m: ('./book[price]/title/text()',)",
      "\nDuring handling of the above exception, another exception occurred:\n",
      "\u001b[1;31mKeyError\u001b[0m                                  Traceback (most recent call last)",
      "Cell \u001b[1;32mIn[8], line 1\u001b[0m\n\u001b[1;32m----> 1\u001b[0m root_xml\u001b[39m.\u001b[39;49mfindall(\u001b[39mr\u001b[39;49m\u001b[39m'\u001b[39;49m\u001b[39m./book[price]/title/text()\u001b[39;49m\u001b[39m'\u001b[39;49m)\n",
      "File \u001b[1;32mc:\\Users\\lucas\\miniconda3\\envs\\dinamica\\lib\\xml\\etree\\ElementPath.py:411\u001b[0m, in \u001b[0;36mfindall\u001b[1;34m(elem, path, namespaces)\u001b[0m\n\u001b[0;32m    410\u001b[0m \u001b[39mdef\u001b[39;00m \u001b[39mfindall\u001b[39m(elem, path, namespaces\u001b[39m=\u001b[39m\u001b[39mNone\u001b[39;00m):\n\u001b[1;32m--> 411\u001b[0m     \u001b[39mreturn\u001b[39;00m \u001b[39mlist\u001b[39m(iterfind(elem, path, namespaces))\n",
      "File \u001b[1;32mc:\\Users\\lucas\\miniconda3\\envs\\dinamica\\lib\\xml\\etree\\ElementPath.py:384\u001b[0m, in \u001b[0;36miterfind\u001b[1;34m(elem, path, namespaces)\u001b[0m\n\u001b[0;32m    382\u001b[0m \u001b[39mwhile\u001b[39;00m \u001b[39m1\u001b[39m:\n\u001b[0;32m    383\u001b[0m     \u001b[39mtry\u001b[39;00m:\n\u001b[1;32m--> 384\u001b[0m         selector\u001b[39m.\u001b[39mappend(ops[token[\u001b[39m0\u001b[39;49m]](\u001b[39mnext\u001b[39m, token))\n\u001b[0;32m    385\u001b[0m     \u001b[39mexcept\u001b[39;00m \u001b[39mStopIteration\u001b[39;00m:\n\u001b[0;32m    386\u001b[0m         \u001b[39mraise\u001b[39;00m \u001b[39mSyntaxError\u001b[39;00m(\u001b[39m\"\u001b[39m\u001b[39minvalid path\u001b[39m\u001b[39m\"\u001b[39m) \u001b[39mfrom\u001b[39;00m \u001b[39mNone\u001b[39m\n",
      "\u001b[1;31mKeyError\u001b[0m: '()'"
     ]
    }
   ],
   "source": [
    "root_xml.findall(r'./book[price]')"
   ]
  },
  {
   "attachments": {},
   "cell_type": "markdown",
   "metadata": {},
   "source": [
    "Ambos recursos utilizados abaixo (text() para selecionar apenas o texto e price>30) são funcionalidades não implementadas no módulo xml do python. Para usar essas funções é necessário trabalhar com outros módulos, por exemplo o lxml."
   ]
  },
  {
   "cell_type": "code",
   "execution_count": 9,
   "metadata": {},
   "outputs": [],
   "source": [
    "tree = etree.parse('./bookstore.xml')"
   ]
  },
  {
   "cell_type": "code",
   "execution_count": 10,
   "metadata": {},
   "outputs": [
    {
     "data": {
      "text/plain": [
       "['30.00', '29.99', '39.95', '35.00', '20.00']"
      ]
     },
     "execution_count": 10,
     "metadata": {},
     "output_type": "execute_result"
    }
   ],
   "source": [
    "tree.xpath(r'/bookstore/book/price/text()')"
   ]
  },
  {
   "cell_type": "code",
   "execution_count": 11,
   "metadata": {},
   "outputs": [
    {
     "data": {
      "text/plain": [
       "['Learning XML', 'Ensaio Sobre a Cegueira']"
      ]
     },
     "execution_count": 11,
     "metadata": {},
     "output_type": "execute_result"
    }
   ],
   "source": [
    "tree.xpath(r'/bookstore/book[price>30]/title/text()')"
   ]
  }
 ],
 "metadata": {
  "kernelspec": {
   "display_name": "dinamica",
   "language": "python",
   "name": "python3"
  },
  "language_info": {
   "codemirror_mode": {
    "name": "ipython",
    "version": 3
   },
   "file_extension": ".py",
   "mimetype": "text/x-python",
   "name": "python",
   "nbconvert_exporter": "python",
   "pygments_lexer": "ipython3",
   "version": "3.10.8"
  },
  "orig_nbformat": 4,
  "vscode": {
   "interpreter": {
    "hash": "83fea9013fa004fa566e04742ae3acfb5b93bc5963c3d022f8eeeeb52dc9bc1c"
   }
  }
 },
 "nbformat": 4,
 "nbformat_minor": 2
}
