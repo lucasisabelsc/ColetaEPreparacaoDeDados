{
 "cells": [
  {
   "cell_type": "markdown",
   "id": "4ac6ccc3",
   "metadata": {},
   "source": [
    "# Beautiful Soup"
   ]
  },
  {
   "cell_type": "markdown",
   "id": "6bea3d52",
   "metadata": {},
   "source": [
    "Como instalar?\n",
    "\n",
    "` pip install bs4 html5lib`"
   ]
  },
  {
   "cell_type": "code",
   "execution_count": 3,
   "id": "7d3e9470",
   "metadata": {},
   "outputs": [],
   "source": [
    "from bs4 import BeautifulSoup"
   ]
  },
  {
   "cell_type": "code",
   "execution_count": 4,
   "id": "292c0d91",
   "metadata": {},
   "outputs": [],
   "source": [
    "html_doc = \"\"\"\n",
    "<html><head><title>The Dormouse's story</title></head>\n",
    "<body>\n",
    "<p class=\"title\"><b>The Dormouse's story</b></p>\n",
    "\n",
    "<p class=\"story\">Once upon a time there were three little sisters; and their names were\n",
    "<a href=\"http://example.com/elsie\" class=\"sister\" id=\"link1\">Elsie</a>,\n",
    "<a href=\"http://example.com/lacie\" class=\"sister\" id=\"link2\">Lacie</a> and\n",
    "<a href=\"http://example.com/tillie\" class=\"sister\" id=\"link3\">Tillie</a>;\n",
    "and they lived at the bottom of a well.</p>\n",
    "\n",
    "<p class=\"story\">...</p>\n",
    "\"\"\"\n"
   ]
  },
  {
   "cell_type": "markdown",
   "id": "95a1fbb6",
   "metadata": {},
   "source": [
    "A função `BeautifulSoup()` faz o parse do HTML e retorna uma tag `soup`"
   ]
  },
  {
   "cell_type": "code",
   "execution_count": 5,
   "id": "25413452",
   "metadata": {},
   "outputs": [],
   "source": [
    "soup = BeautifulSoup(html_doc, 'html5lib')"
   ]
  },
  {
   "cell_type": "code",
   "execution_count": 7,
   "id": "ae2addaa",
   "metadata": {},
   "outputs": [
    {
     "name": "stdout",
     "output_type": "stream",
     "text": [
      "<html>\n",
      " <head>\n",
      "  <title>\n",
      "   The Dormouse's story\n",
      "  </title>\n",
      " </head>\n",
      " <body>\n",
      "  <p class=\"title\">\n",
      "   <b>\n",
      "    The Dormouse's story\n",
      "   </b>\n",
      "  </p>\n",
      "  <p class=\"story\">\n",
      "   Once upon a time there were three little sisters; and their names were\n",
      "   <a class=\"sister\" href=\"http://example.com/elsie\" id=\"link1\">\n",
      "    Elsie\n",
      "   </a>\n",
      "   ,\n",
      "   <a class=\"sister\" href=\"http://example.com/lacie\" id=\"link2\">\n",
      "    Lacie\n",
      "   </a>\n",
      "   and\n",
      "   <a class=\"sister\" href=\"http://example.com/tillie\" id=\"link3\">\n",
      "    Tillie\n",
      "   </a>\n",
      "   ;\n",
      "and they lived at the bottom of a well.\n",
      "  </p>\n",
      "  <p class=\"story\">\n",
      "   ...\n",
      "  </p>\n",
      " </body>\n",
      "</html>\n",
      "\n"
     ]
    }
   ],
   "source": [
    "print(soup.prettify())"
   ]
  },
  {
   "cell_type": "markdown",
   "id": "ddb948ad",
   "metadata": {},
   "source": [
    "# Selenium"
   ]
  },
  {
   "cell_type": "code",
   "execution_count": 12,
   "id": "1c3a8809",
   "metadata": {},
   "outputs": [],
   "source": [
    "from selenium import webdriver\n",
    "\n",
    "\n",
    "driver = webdriver.Chrome()"
   ]
  },
  {
   "cell_type": "code",
   "execution_count": 22,
   "id": "c014537d",
   "metadata": {},
   "outputs": [
    {
     "name": "stdout",
     "output_type": "stream",
     "text": [
      "Biblioteca de Anúncios\n"
     ]
    }
   ],
   "source": [
    "driver.get(r'https://pt-br.facebook.com/ads/library/')\n",
    "print(driver.title)\n",
    "driver.implicitly_wait(0.5)"
   ]
  },
  {
   "cell_type": "code",
   "execution_count": 17,
   "id": "069ed49f",
   "metadata": {},
   "outputs": [],
   "source": [
    "from selenium.webdriver.common.by import By"
   ]
  },
  {
   "cell_type": "code",
   "execution_count": 19,
   "id": "6ad4ed48",
   "metadata": {},
   "outputs": [],
   "source": [
    "search_box = driver.find_element(By.NAME, 'q')\n",
    "search_button = driver.find_element(By.NAME, 'btnK')"
   ]
  },
  {
   "cell_type": "code",
   "execution_count": 20,
   "id": "87c39111",
   "metadata": {},
   "outputs": [],
   "source": [
    "search_box.send_keys('Selenium')"
   ]
  },
  {
   "cell_type": "code",
   "execution_count": 21,
   "id": "e38fb578",
   "metadata": {},
   "outputs": [],
   "source": [
    "search_button.click()"
   ]
  },
  {
   "cell_type": "code",
   "execution_count": null,
   "id": "89754d30",
   "metadata": {},
   "outputs": [],
   "source": [
    "driver.quit()"
   ]
  },
  {
   "cell_type": "markdown",
   "id": "eb747b18",
   "metadata": {},
   "source": [
    "# Visualização de Dados"
   ]
  },
  {
   "cell_type": "markdown",
   "id": "eabdf0d4",
   "metadata": {},
   "source": [
    "## Técnicas Orientada a Pixel\n",
    "\n",
    "Recomendado para encontrar padrões entre dimensões\n",
    "Para um conjunto de dados de m dimensões, criar m janelas na tela, uma para cada dimensão\n",
    "As cores dos pixels refletem os valores\n",
    "\n",
    "<img src=\"Captura de Tela 2025-06-04 às 21.38.40.png\">"
   ]
  },
  {
   "cell_type": "markdown",
   "id": "e3388c19",
   "metadata": {},
   "source": [
    "\n",
    "## Técnica de Projeção Geométrica\n",
    "- Visualização Direta\n",
    "- Matriz de Dispersão (scatter plot)\n",
    "- Paisagens (gráficos 2D/3D)\n",
    "- Coordenadas Paralelas\n",
    "- Baseada em ícones\n",
    "- Hierárquicas\n",
    "- Dados complexos (nuvem de palavraas)"
   ]
  },
  {
   "cell_type": "markdown",
   "id": "9fd2f9c2",
   "metadata": {},
   "source": [
    "## Similaridade e Dissimilaridade"
   ]
  },
  {
   "cell_type": "markdown",
   "id": "6468ff0c",
   "metadata": {},
   "source": [
    "Um cluster é uma coleção de objetos de dados de tal forma que objetos dentro do mesmo cluster são similares e dissimilares de objetos de outros clusters. A análise de anomalia utiliza técnicas de cluster para identificar discrepância de objetos altamente dissimilares dos demais\n",
    "\n",
    "- Medida de Similaridade: quantifica a semelhança entre dois objetos. Varia entre 0 - 1\n",
    "- Medida de Dissimilaridade (distância): quantifica quão diferente dois objetos de dados são. Varia entre 0 - $\\infty$"
   ]
  },
  {
   "cell_type": "markdown",
   "id": "625754c6",
   "metadata": {},
   "source": [
    "### Matriz de Dados\n",
    "\n",
    "Suponha que tenhamos n objetos de dados descritos por p atributos. Criamos uma Matriz de Dados $n\\;x\\;p$"
   ]
  },
  {
   "cell_type": "markdown",
   "id": "f48204fc",
   "metadata": {},
   "source": [
    "### Matriz de Dissimilaridade\n",
    "É uma estrutura que armazena uma coleção de dissimilaridades. Ela normalmente é representada por uma tabela n x n em que temos n objetos de dados nas linhas e os mesmos n objetos de dados nas colunas"
   ]
  },
  {
   "cell_type": "markdown",
   "id": "a1305dcf",
   "metadata": {},
   "source": [
    "### Atributos Nominais"
   ]
  },
  {
   "cell_type": "markdown",
   "id": "39dec4c3",
   "metadata": {},
   "source": [
    "<img src=\"imagens/Captura de Tela 2025-06-04 às 22.13.38.png\">"
   ]
  },
  {
   "cell_type": "markdown",
   "id": "e5008bfe",
   "metadata": {},
   "source": [
    "### Atributos Binários"
   ]
  },
  {
   "cell_type": "markdown",
   "id": "e0528d74",
   "metadata": {},
   "source": [
    "<img src=\"imagens/Captura de Tela 2025-06-04 às 22.15.50.png\">"
   ]
  },
  {
   "cell_type": "markdown",
   "id": "02ada9d1",
   "metadata": {},
   "source": [
    "### Atributos Numéricos"
   ]
  },
  {
   "cell_type": "markdown",
   "id": "04998669",
   "metadata": {},
   "source": [
    "<img src=\"imagens/Captura de Tela 2025-06-04 às 22.23.09.png\">"
   ]
  },
  {
   "cell_type": "markdown",
   "id": "34de3f14",
   "metadata": {},
   "source": [
    "<img src=\"imagens/Captura de Tela 2025-06-04 às 22.25.47.png\">"
   ]
  },
  {
   "cell_type": "markdown",
   "id": "85d83fe8",
   "metadata": {},
   "source": [
    "<img src=\"imagens/Captura de Tela 2025-06-04 às 22.31.18.png\">"
   ]
  },
  {
   "cell_type": "markdown",
   "id": "baa7bd41",
   "metadata": {},
   "source": [
    "### Atributos Ordinais"
   ]
  },
  {
   "cell_type": "markdown",
   "id": "30498f53",
   "metadata": {},
   "source": [
    "<img src=\"imagens/Captura de Tela 2025-06-04 às 22.38.42.png\">\n",
    "<img src=\"imagens/Captura de Tela 2025-06-04 às 22.39.18.png\">"
   ]
  },
  {
   "cell_type": "markdown",
   "id": "0f20d2a4",
   "metadata": {},
   "source": [
    "### Atributos Mistos"
   ]
  },
  {
   "cell_type": "markdown",
   "id": "431c1d64",
   "metadata": {},
   "source": [
    "<img src=\"imagens/Captura de Tela 2025-06-04 às 22.42.33.png\">"
   ]
  },
  {
   "cell_type": "markdown",
   "id": "86f99955",
   "metadata": {},
   "source": [
    "# Integração de Dados"
   ]
  },
  {
   "cell_type": "markdown",
   "id": "64e7cec9",
   "metadata": {},
   "source": [
    "A heterogeneidade semântica e a estrutura dos dados representam grandes desafios na integração de dados"
   ]
  },
  {
   "cell_type": "markdown",
   "id": "32bd675e",
   "metadata": {},
   "source": [
    "**Identificação de Entidades:**\n",
    "Como podemos combinar esquemas e objetos de diferemtes fontes? Algum atributo está correlacionado?\n",
    "\n",
    "**Dados Duplicados:**\n",
    "O uso de dados desnormalizados é uma fonte de redundância de dados."
   ]
  }
 ],
 "metadata": {
  "kernelspec": {
   "display_name": "meu_env",
   "language": "python",
   "name": "python3"
  },
  "language_info": {
   "codemirror_mode": {
    "name": "ipython",
    "version": 3
   },
   "file_extension": ".py",
   "mimetype": "text/x-python",
   "name": "python",
   "nbconvert_exporter": "python",
   "pygments_lexer": "ipython3",
   "version": "3.12.6"
  }
 },
 "nbformat": 4,
 "nbformat_minor": 5
}
