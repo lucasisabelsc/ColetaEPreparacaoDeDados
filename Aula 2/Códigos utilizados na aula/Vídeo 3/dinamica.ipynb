{
 "cells": [
  {
   "cell_type": "code",
   "execution_count": 2,
   "metadata": {},
   "outputs": [],
   "source": [
    "import requests\n",
    "import json"
   ]
  },
  {
   "attachments": {},
   "cell_type": "markdown",
   "metadata": {},
   "source": [
    "Antes de executar as células abaixo, deixe a ```api_exemplo.py``` rodando."
   ]
  },
  {
   "attachments": {},
   "cell_type": "markdown",
   "metadata": {},
   "source": [
    "Uso do método post para criar novo país."
   ]
  },
  {
   "cell_type": "code",
   "execution_count": 3,
   "metadata": {},
   "outputs": [
    {
     "name": "stdout",
     "output_type": "stream",
     "text": [
      "201\n",
      "{'Server': 'Werkzeug/2.2.2 Python/3.10.8', 'Date': 'Wed, 14 Dec 2022 14:31:09 GMT', 'Content-Type': 'application/json', 'Content-Length': '52', 'Connection': 'close'}\n",
      "{\n",
      "    \"name\": \"China\",\n",
      "    \"population\": 12999999\n",
      "}\n",
      "\n"
     ]
    }
   ],
   "source": [
    "nome = input('Digite o nome do país: ')\n",
    "populacao = int(input('Digite a população do país: '))\n",
    "url = r'http://127.0.0.1:5000/country'\n",
    "data = {'name': nome, 'population': populacao}\n",
    "r = requests.post(url, json=data)\n",
    "print(r.status_code)\n",
    "print(r.headers)\n",
    "print(r.text)"
   ]
  },
  {
   "attachments": {},
   "cell_type": "markdown",
   "metadata": {},
   "source": [
    "Consulta de todos os países"
   ]
  },
  {
   "cell_type": "code",
   "execution_count": 4,
   "metadata": {},
   "outputs": [
    {
     "name": "stdout",
     "output_type": "stream",
     "text": [
      "200\n",
      "{'Server': 'Werkzeug/2.2.2 Python/3.10.8', 'Date': 'Wed, 14 Dec 2022 14:31:43 GMT', 'Content-Type': 'application/json', 'Content-Length': '388', 'Connection': 'close'}\n",
      "{\n",
      "    \"1\": {\n",
      "        \"name\": \"Brasil\",\n",
      "        \"population\": 225000000\n",
      "    },\n",
      "    \"2\": {\n",
      "        \"name\": \"Estados Unidos\",\n",
      "        \"population\": 20000000\n",
      "    },\n",
      "    \"3\": {\n",
      "        \"name\": \"Argentina\",\n",
      "        \"population\": 6500000\n",
      "    },\n",
      "    \"4\": {\n",
      "        \"name\": \"Canada\",\n",
      "        \"population\": 37000000\n",
      "    },\n",
      "    \"5\": {\n",
      "        \"name\": \"China\",\n",
      "        \"population\": 12999999\n",
      "    }\n",
      "}\n"
     ]
    }
   ],
   "source": [
    "r = requests.get(url)\n",
    "print(r.status_code)\n",
    "print(r.headers)\n",
    "print(json.dumps(r.json(), indent=4))"
   ]
  },
  {
   "attachments": {},
   "cell_type": "markdown",
   "metadata": {},
   "source": [
    "Exclusão de um país conforme id digitado."
   ]
  },
  {
   "cell_type": "code",
   "execution_count": 6,
   "metadata": {},
   "outputs": [
    {
     "name": "stdout",
     "output_type": "stream",
     "text": [
      "204\n",
      "{'Server': 'Werkzeug/2.2.2 Python/3.10.8', 'Date': 'Wed, 14 Dec 2022 14:33:22 GMT', 'Content-Type': 'application/json', 'Connection': 'close'}\n",
      "\n"
     ]
    }
   ],
   "source": [
    "id_pais = int(input('Digite o id do país para excluir: '))\n",
    "url = '''http://127.0.0.1:5000/country'''\n",
    "r = requests.delete(f'{url}/{id_pais}')\n",
    "print(r.status_code)\n",
    "print(r.headers)\n",
    "print(r.text)"
   ]
  }
 ],
 "metadata": {
  "kernelspec": {
   "display_name": "dinamica",
   "language": "python",
   "name": "python3"
  },
  "language_info": {
   "codemirror_mode": {
    "name": "ipython",
    "version": 3
   },
   "file_extension": ".py",
   "mimetype": "text/x-python",
   "name": "python",
   "nbconvert_exporter": "python",
   "pygments_lexer": "ipython3",
   "version": "3.10.8 | packaged by conda-forge | (main, Nov 24 2022, 14:07:00) [MSC v.1916 64 bit (AMD64)]"
  },
  "orig_nbformat": 4,
  "vscode": {
   "interpreter": {
    "hash": "83fea9013fa004fa566e04742ae3acfb5b93bc5963c3d022f8eeeeb52dc9bc1c"
   }
  }
 },
 "nbformat": 4,
 "nbformat_minor": 2
}
