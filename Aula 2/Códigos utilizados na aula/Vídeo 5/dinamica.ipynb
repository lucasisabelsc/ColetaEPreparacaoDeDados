{
 "cells": [
  {
   "cell_type": "code",
   "execution_count": null,
   "metadata": {},
   "outputs": [],
   "source": [
    "import requests\n",
    "import pandas as pd\n"
   ]
  },
  {
   "attachments": {},
   "cell_type": "markdown",
   "metadata": {},
   "source": [
    "# Questão 1"
   ]
  },
  {
   "cell_type": "code",
   "execution_count": null,
   "metadata": {},
   "outputs": [],
   "source": [
    "r = requests.get(r'https://www.akitaonrails.com/sitemap.xml')\n",
    "print(r.status_code)\n",
    "print(r.headers)\n",
    "xml = r.text\n"
   ]
  },
  {
   "cell_type": "code",
   "execution_count": 4,
   "metadata": {},
   "outputs": [
    {
     "data": {
      "text/plain": [
       "'<?xml version=\"1.0\" encoding=\"UTF-8\"?>\\n<urlset xmlns=\"http://www.sitemaps.org/schemas/sitemap/0.9\">\\n'"
      ]
     },
     "execution_count": 4,
     "metadata": {},
     "output_type": "execute_result"
    }
   ],
   "source": [
    "xml[:100]"
   ]
  },
  {
   "attachments": {},
   "cell_type": "markdown",
   "metadata": {},
   "source": [
    "# Questão 2"
   ]
  },
  {
   "cell_type": "code",
   "execution_count": 5,
   "metadata": {},
   "outputs": [
    {
     "name": "stdout",
     "output_type": "stream",
     "text": [
      "200\n",
      "{'Server': 'Cowboy', 'Date': 'Wed, 14 Dec 2022 15:01:42 GMT', 'Connection': 'keep-alive', 'Last-Modified': 'Tue, 25 Oct 2022 13:36:13 GMT', 'Content-Type': 'text/plain', 'Strict-Transport-Security': 'max-age=63072000; includeSubDomains', 'Content-Length': '287', 'Via': '1.1 vegur'}\n",
      "# See http://www.robotstxt.org/wc/norobots.html for documentation on how to use the robots.txt file\n",
      "#\n",
      "# To ban all spiders from the entire site uncomment the next two lines:\n",
      "# User-Agent: *\n",
      "# Disallow: /\n",
      "Disallow: /admin\n",
      "Disallow: /files\n",
      "Sitemap: http://www.akitaonrails.com/sitemap.xml\n",
      "\n"
     ]
    }
   ],
   "source": [
    "r = requests.get(r'https://www.akitaonrails.com/robots.txt')\n",
    "print(r.status_code)\n",
    "print(r.headers)\n",
    "print(r.text)\n"
   ]
  },
  {
   "attachments": {},
   "cell_type": "markdown",
   "metadata": {},
   "source": [
    "# Questão 3"
   ]
  },
  {
   "cell_type": "code",
   "execution_count": 7,
   "metadata": {},
   "outputs": [
    {
     "data": {
      "text/html": [
       "<div>\n",
       "<style scoped>\n",
       "    .dataframe tbody tr th:only-of-type {\n",
       "        vertical-align: middle;\n",
       "    }\n",
       "\n",
       "    .dataframe tbody tr th {\n",
       "        vertical-align: top;\n",
       "    }\n",
       "\n",
       "    .dataframe thead th {\n",
       "        text-align: right;\n",
       "    }\n",
       "</style>\n",
       "<table border=\"1\" class=\"dataframe\">\n",
       "  <thead>\n",
       "    <tr style=\"text-align: right;\">\n",
       "      <th></th>\n",
       "      <th>loc</th>\n",
       "      <th>priority</th>\n",
       "      <th>lastmod</th>\n",
       "    </tr>\n",
       "  </thead>\n",
       "  <tbody>\n",
       "    <tr>\n",
       "      <th>0</th>\n",
       "      <td>http://www.akitaonrails.com</td>\n",
       "      <td>1.0</td>\n",
       "      <td>None</td>\n",
       "    </tr>\n",
       "    <tr>\n",
       "      <th>1</th>\n",
       "      <td>http://www.akitaonrails.com/Off-Topic</td>\n",
       "      <td>1.0</td>\n",
       "      <td>2018-07-27</td>\n",
       "    </tr>\n",
       "    <tr>\n",
       "      <th>2</th>\n",
       "      <td>http://www.akitaonrails.com/screencasts</td>\n",
       "      <td>1.0</td>\n",
       "      <td>2015-10-13</td>\n",
       "    </tr>\n",
       "    <tr>\n",
       "      <th>3</th>\n",
       "      <td>http://www.akitaonrails.com/2022/12/12/akitand...</td>\n",
       "      <td>0.9</td>\n",
       "      <td>2022-12-12</td>\n",
       "    </tr>\n",
       "    <tr>\n",
       "      <th>4</th>\n",
       "      <td>http://www.akitaonrails.com/2022/11/22/akitand...</td>\n",
       "      <td>0.9</td>\n",
       "      <td>2022-11-22</td>\n",
       "    </tr>\n",
       "  </tbody>\n",
       "</table>\n",
       "</div>"
      ],
      "text/plain": [
       "                                                 loc  priority     lastmod\n",
       "0                        http://www.akitaonrails.com       1.0        None\n",
       "1              http://www.akitaonrails.com/Off-Topic       1.0  2018-07-27\n",
       "2            http://www.akitaonrails.com/screencasts       1.0  2015-10-13\n",
       "3  http://www.akitaonrails.com/2022/12/12/akitand...       0.9  2022-12-12\n",
       "4  http://www.akitaonrails.com/2022/11/22/akitand...       0.9  2022-11-22"
      ]
     },
     "execution_count": 7,
     "metadata": {},
     "output_type": "execute_result"
    }
   ],
   "source": [
    "df = pd.read_xml(xml, encoding='utf-8')\n",
    "df.head()"
   ]
  },
  {
   "attachments": {},
   "cell_type": "markdown",
   "metadata": {},
   "source": [
    "# Questão 4.1"
   ]
  },
  {
   "cell_type": "code",
   "execution_count": 8,
   "metadata": {},
   "outputs": [
    {
     "data": {
      "text/plain": [
       "loc          object\n",
       "priority    float64\n",
       "lastmod      object\n",
       "dtype: object"
      ]
     },
     "execution_count": 8,
     "metadata": {},
     "output_type": "execute_result"
    }
   ],
   "source": [
    "df.dtypes"
   ]
  },
  {
   "cell_type": "code",
   "execution_count": 9,
   "metadata": {},
   "outputs": [
    {
     "name": "stdout",
     "output_type": "stream",
     "text": [
      "loc                 object\n",
      "priority           float64\n",
      "lastmod     datetime64[ns]\n",
      "dtype: object\n"
     ]
    }
   ],
   "source": [
    "# print column dtypes\n",
    "df.lastmod = df.lastmod.astype('datetime64[ns]')\n",
    "print(df.dtypes)\n"
   ]
  },
  {
   "cell_type": "code",
   "execution_count": 10,
   "metadata": {},
   "outputs": [
    {
     "data": {
      "text/plain": [
       "lastmod\n",
       "2015.0    1008\n",
       "2016.0      39\n",
       "2017.0      70\n",
       "2018.0       9\n",
       "2019.0      64\n",
       "2020.0      27\n",
       "2021.0      27\n",
       "2022.0      23\n",
       "Name: lastmod, dtype: int64"
      ]
     },
     "execution_count": 10,
     "metadata": {},
     "output_type": "execute_result"
    }
   ],
   "source": [
    "(\n",
    "    df\n",
    "    .lastmod\n",
    "    .groupby(df.lastmod.dt.year)\n",
    "    .count()\n",
    ")\n"
   ]
  },
  {
   "attachments": {},
   "cell_type": "markdown",
   "metadata": {},
   "source": [
    "# Questão 4.2"
   ]
  },
  {
   "attachments": {},
   "cell_type": "markdown",
   "metadata": {},
   "source": [
    "Primeiro passo é aplicar um split na coluna *loc* pelo caractere ```/```. \n",
    "Depois temos que remover as informações que ficaram de forma inválida nessas células para casos onde a URL não tinha uma data."
   ]
  },
  {
   "cell_type": "code",
   "execution_count": 11,
   "metadata": {},
   "outputs": [
    {
     "data": {
      "text/html": [
       "<div>\n",
       "<style scoped>\n",
       "    .dataframe tbody tr th:only-of-type {\n",
       "        vertical-align: middle;\n",
       "    }\n",
       "\n",
       "    .dataframe tbody tr th {\n",
       "        vertical-align: top;\n",
       "    }\n",
       "\n",
       "    .dataframe thead th {\n",
       "        text-align: right;\n",
       "    }\n",
       "</style>\n",
       "<table border=\"1\" class=\"dataframe\">\n",
       "  <thead>\n",
       "    <tr style=\"text-align: right;\">\n",
       "      <th></th>\n",
       "      <th>loc</th>\n",
       "      <th>priority</th>\n",
       "      <th>lastmod</th>\n",
       "      <th>3</th>\n",
       "      <th>4</th>\n",
       "    </tr>\n",
       "  </thead>\n",
       "  <tbody>\n",
       "    <tr>\n",
       "      <th>0</th>\n",
       "      <td>http://www.akitaonrails.com</td>\n",
       "      <td>1.0</td>\n",
       "      <td>NaT</td>\n",
       "      <td>None</td>\n",
       "      <td>None</td>\n",
       "    </tr>\n",
       "    <tr>\n",
       "      <th>1</th>\n",
       "      <td>http://www.akitaonrails.com/Off-Topic</td>\n",
       "      <td>1.0</td>\n",
       "      <td>2018-07-27</td>\n",
       "      <td>Off-Topic</td>\n",
       "      <td>None</td>\n",
       "    </tr>\n",
       "    <tr>\n",
       "      <th>2</th>\n",
       "      <td>http://www.akitaonrails.com/screencasts</td>\n",
       "      <td>1.0</td>\n",
       "      <td>2015-10-13</td>\n",
       "      <td>screencasts</td>\n",
       "      <td>None</td>\n",
       "    </tr>\n",
       "    <tr>\n",
       "      <th>3</th>\n",
       "      <td>http://www.akitaonrails.com/2022/12/12/akitand...</td>\n",
       "      <td>0.9</td>\n",
       "      <td>2022-12-12</td>\n",
       "      <td>2022</td>\n",
       "      <td>12</td>\n",
       "    </tr>\n",
       "    <tr>\n",
       "      <th>4</th>\n",
       "      <td>http://www.akitaonrails.com/2022/11/22/akitand...</td>\n",
       "      <td>0.9</td>\n",
       "      <td>2022-11-22</td>\n",
       "      <td>2022</td>\n",
       "      <td>11</td>\n",
       "    </tr>\n",
       "    <tr>\n",
       "      <th>5</th>\n",
       "      <td>http://www.akitaonrails.com/2022/11/08/akitand...</td>\n",
       "      <td>0.9</td>\n",
       "      <td>2022-11-08</td>\n",
       "      <td>2022</td>\n",
       "      <td>11</td>\n",
       "    </tr>\n",
       "  </tbody>\n",
       "</table>\n",
       "</div>"
      ],
      "text/plain": [
       "                                                 loc  priority    lastmod  \\\n",
       "0                        http://www.akitaonrails.com       1.0        NaT   \n",
       "1              http://www.akitaonrails.com/Off-Topic       1.0 2018-07-27   \n",
       "2            http://www.akitaonrails.com/screencasts       1.0 2015-10-13   \n",
       "3  http://www.akitaonrails.com/2022/12/12/akitand...       0.9 2022-12-12   \n",
       "4  http://www.akitaonrails.com/2022/11/22/akitand...       0.9 2022-11-22   \n",
       "5  http://www.akitaonrails.com/2022/11/08/akitand...       0.9 2022-11-08   \n",
       "\n",
       "             3     4  \n",
       "0         None  None  \n",
       "1    Off-Topic  None  \n",
       "2  screencasts  None  \n",
       "3         2022    12  \n",
       "4         2022    11  \n",
       "5         2022    11  "
      ]
     },
     "execution_count": 11,
     "metadata": {},
     "output_type": "execute_result"
    }
   ],
   "source": [
    "df = pd.concat([df,\n",
    "                (df['loc']\n",
    "                 .str\n",
    "                 .split('/', expand=True)\n",
    "                 .loc[:, [3, 4]])],\n",
    "               axis=1)\n",
    "df.head(6)\n"
   ]
  },
  {
   "attachments": {},
   "cell_type": "markdown",
   "metadata": {},
   "source": [
    "Agora vamos renomear as colunas novas para *year* e *month* e vamos aproveitar para converte-las para numérico. \n",
    "Mantendo ```NaN``` em caso de informação não ser numérica."
   ]
  },
  {
   "cell_type": "code",
   "execution_count": 12,
   "metadata": {},
   "outputs": [
    {
     "data": {
      "text/html": [
       "<div>\n",
       "<style scoped>\n",
       "    .dataframe tbody tr th:only-of-type {\n",
       "        vertical-align: middle;\n",
       "    }\n",
       "\n",
       "    .dataframe tbody tr th {\n",
       "        vertical-align: top;\n",
       "    }\n",
       "\n",
       "    .dataframe thead th {\n",
       "        text-align: right;\n",
       "    }\n",
       "</style>\n",
       "<table border=\"1\" class=\"dataframe\">\n",
       "  <thead>\n",
       "    <tr style=\"text-align: right;\">\n",
       "      <th></th>\n",
       "      <th>loc</th>\n",
       "      <th>priority</th>\n",
       "      <th>lastmod</th>\n",
       "      <th>year</th>\n",
       "      <th>month</th>\n",
       "    </tr>\n",
       "  </thead>\n",
       "  <tbody>\n",
       "    <tr>\n",
       "      <th>0</th>\n",
       "      <td>http://www.akitaonrails.com</td>\n",
       "      <td>1.0</td>\n",
       "      <td>NaT</td>\n",
       "      <td>NaN</td>\n",
       "      <td>NaN</td>\n",
       "    </tr>\n",
       "    <tr>\n",
       "      <th>1</th>\n",
       "      <td>http://www.akitaonrails.com/Off-Topic</td>\n",
       "      <td>1.0</td>\n",
       "      <td>2018-07-27</td>\n",
       "      <td>NaN</td>\n",
       "      <td>NaN</td>\n",
       "    </tr>\n",
       "    <tr>\n",
       "      <th>2</th>\n",
       "      <td>http://www.akitaonrails.com/screencasts</td>\n",
       "      <td>1.0</td>\n",
       "      <td>2015-10-13</td>\n",
       "      <td>NaN</td>\n",
       "      <td>NaN</td>\n",
       "    </tr>\n",
       "    <tr>\n",
       "      <th>3</th>\n",
       "      <td>http://www.akitaonrails.com/2022/12/12/akitand...</td>\n",
       "      <td>0.9</td>\n",
       "      <td>2022-12-12</td>\n",
       "      <td>2022.0</td>\n",
       "      <td>12.0</td>\n",
       "    </tr>\n",
       "    <tr>\n",
       "      <th>4</th>\n",
       "      <td>http://www.akitaonrails.com/2022/11/22/akitand...</td>\n",
       "      <td>0.9</td>\n",
       "      <td>2022-11-22</td>\n",
       "      <td>2022.0</td>\n",
       "      <td>11.0</td>\n",
       "    </tr>\n",
       "  </tbody>\n",
       "</table>\n",
       "</div>"
      ],
      "text/plain": [
       "                                                 loc  priority    lastmod  \\\n",
       "0                        http://www.akitaonrails.com       1.0        NaT   \n",
       "1              http://www.akitaonrails.com/Off-Topic       1.0 2018-07-27   \n",
       "2            http://www.akitaonrails.com/screencasts       1.0 2015-10-13   \n",
       "3  http://www.akitaonrails.com/2022/12/12/akitand...       0.9 2022-12-12   \n",
       "4  http://www.akitaonrails.com/2022/11/22/akitand...       0.9 2022-11-22   \n",
       "\n",
       "     year  month  \n",
       "0     NaN    NaN  \n",
       "1     NaN    NaN  \n",
       "2     NaN    NaN  \n",
       "3  2022.0   12.0  \n",
       "4  2022.0   11.0  "
      ]
     },
     "execution_count": 12,
     "metadata": {},
     "output_type": "execute_result"
    }
   ],
   "source": [
    "df.rename(columns={3: 'year', 4: 'month'}, inplace=True)\n",
    "df = df.assign(year=pd.to_numeric(df['year'], errors='coerce'),\n",
    "               month=pd.to_numeric(df['month'], errors='coerce'))\n",
    "df.head(5)\n"
   ]
  },
  {
   "attachments": {},
   "cell_type": "markdown",
   "metadata": {},
   "source": [
    "# Questão 4.3"
   ]
  },
  {
   "cell_type": "code",
   "execution_count": 13,
   "metadata": {},
   "outputs": [
    {
     "data": {
      "text/plain": [
       "2006.0     87\n",
       "2007.0    215\n",
       "2008.0    251\n",
       "2009.0    122\n",
       "2010.0    110\n",
       "2011.0     48\n",
       "2012.0     42\n",
       "2013.0     90\n",
       "2014.0     48\n",
       "2015.0     42\n",
       "2016.0     38\n",
       "2017.0     31\n",
       "2018.0     39\n",
       "2019.0     37\n",
       "2020.0     21\n",
       "2021.0     21\n",
       "2022.0     23\n",
       "Name: year, dtype: int64"
      ]
     },
     "execution_count": 13,
     "metadata": {},
     "output_type": "execute_result"
    }
   ],
   "source": [
    "df.year.value_counts().sort_index()\n"
   ]
  },
  {
   "attachments": {},
   "cell_type": "markdown",
   "metadata": {},
   "source": [
    "# Questão 4.4"
   ]
  },
  {
   "cell_type": "code",
   "execution_count": 14,
   "metadata": {},
   "outputs": [
    {
     "data": {
      "text/plain": [
       "1.0     111\n",
       "2.0      73\n",
       "3.0      68\n",
       "4.0     106\n",
       "5.0      94\n",
       "6.0     100\n",
       "7.0     101\n",
       "8.0     122\n",
       "9.0     125\n",
       "10.0    126\n",
       "11.0    127\n",
       "12.0    112\n",
       "Name: month, dtype: int64"
      ]
     },
     "execution_count": 14,
     "metadata": {},
     "output_type": "execute_result"
    }
   ],
   "source": [
    "df.month.value_counts().sort_index()\n"
   ]
  },
  {
   "attachments": {},
   "cell_type": "markdown",
   "metadata": {},
   "source": [
    "# Bonus"
   ]
  },
  {
   "cell_type": "code",
   "execution_count": null,
   "metadata": {},
   "outputs": [],
   "source": [
    "(df.groupby(['year', 'month'])\n",
    " .aggregate({'loc': 'count'})).to_markdown('published_posts.md')\n"
   ]
  }
 ],
 "metadata": {
  "kernelspec": {
   "display_name": "pucrs",
   "language": "python",
   "name": "python3"
  },
  "language_info": {
   "codemirror_mode": {
    "name": "ipython",
    "version": 3
   },
   "file_extension": ".py",
   "mimetype": "text/x-python",
   "name": "python",
   "nbconvert_exporter": "python",
   "pygments_lexer": "ipython3",
   "version": "3.10.4 | packaged by conda-forge | (main, Mar 30 2022, 08:38:02) [MSC v.1916 64 bit (AMD64)]"
  },
  "orig_nbformat": 4,
  "vscode": {
   "interpreter": {
    "hash": "2f31a1bc2b89d9cab188bc7b737986308005aaf03df66d3e9740d41961064865"
   }
  }
 },
 "nbformat": 4,
 "nbformat_minor": 2
}
