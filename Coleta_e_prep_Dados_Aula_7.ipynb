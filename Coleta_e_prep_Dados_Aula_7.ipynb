{
  "nbformat": 4,
  "nbformat_minor": 0,
  "metadata": {
    "colab": {
      "provenance": []
    },
    "kernelspec": {
      "name": "python3",
      "display_name": "Python 3"
    },
    "language_info": {
      "name": "python"
    }
  },
  "cells": [
    {
      "cell_type": "markdown",
      "source": [
        "Neste notebook faremos alguns exerícios de para manipulação de dados e aplicação de estatísticas descritivas."
      ],
      "metadata": {
        "id": "pTKWqcjbI9un"
      }
    },
    {
      "cell_type": "code",
      "source": [
        "#começamos importando a biblioteca de operações numéricas numpy\n",
        "import numpy as np"
      ],
      "metadata": {
        "id": "l-T9X7fzJtnj"
      },
      "execution_count": null,
      "outputs": []
    },
    {
      "cell_type": "code",
      "source": [
        "#para estes exercícios iremos utilizar a está versão do numpy.\n",
        "np.__version__"
      ],
      "metadata": {
        "colab": {
          "base_uri": "https://localhost:8080/",
          "height": 35
        },
        "id": "7Z7XBlUmKHeY",
        "outputId": "c0273abc-c43c-48fa-ae20-01e15f87edd1"
      },
      "execution_count": null,
      "outputs": [
        {
          "output_type": "execute_result",
          "data": {
            "text/plain": [
              "'1.21.6'"
            ],
            "application/vnd.google.colaboratory.intrinsic+json": {
              "type": "string"
            }
          },
          "metadata": {},
          "execution_count": 2
        }
      ]
    },
    {
      "cell_type": "markdown",
      "source": [
        "Vamos repetir o exercício de sala de aula:\n",
        "\n",
        "Suponha que possuímos os seguintes valores de salário (em milhares) em ordem crescente 30, 36, 47, 50, 52, 52, 56, 60, 63, 70, 70 e 110. \n",
        "\n",
        "Calcule:\n",
        "* Salário médio\n",
        "* Salário mediano\n",
        "* A moda dos salários\n",
        "\n"
      ],
      "metadata": {
        "id": "N9F7VewLKiED"
      }
    },
    {
      "cell_type": "code",
      "execution_count": null,
      "metadata": {
        "colab": {
          "base_uri": "https://localhost:8080/"
        },
        "id": "M3Vp4JDMI0U_",
        "outputId": "c99578df-091a-468c-92d2-b79f02ce86b0"
      },
      "outputs": [
        {
          "output_type": "execute_result",
          "data": {
            "text/plain": [
              "array([ 30,  36,  47,  50,  52,  52,  56,  60,  63,  70,  70, 110])"
            ]
          },
          "metadata": {},
          "execution_count": 3
        }
      ],
      "source": [
        "#primeiro vamos montar um vetor de dados numpy para armazenar o valor dos salários.\n",
        "salario = np.array([30, 36, 47, 50, 52, 52, 56, 60, 63, 70, 70, 110])\n",
        "\n",
        "salario"
      ]
    },
    {
      "cell_type": "markdown",
      "source": [
        "# Estatistica Descritiva - Medidas de Tendência Central"
      ],
      "metadata": {
        "id": "5WEEyl-uvetb"
      }
    },
    {
      "cell_type": "code",
      "source": [
        "#a função type nos informa o tipo de objeto da variável salario.\n",
        "type(salario)"
      ],
      "metadata": {
        "colab": {
          "base_uri": "https://localhost:8080/"
        },
        "id": "tIVUCaiJJo9w",
        "outputId": "002cae5b-a630-4b83-e4d4-7b2636b6a8b9"
      },
      "execution_count": null,
      "outputs": [
        {
          "output_type": "execute_result",
          "data": {
            "text/plain": [
              "numpy.ndarray"
            ]
          },
          "metadata": {},
          "execution_count": 4
        }
      ]
    },
    {
      "cell_type": "code",
      "source": [
        "#agora vamos verificar a quantidade de data points existe no vetor de salarios.\n",
        "np.size(salario)"
      ],
      "metadata": {
        "colab": {
          "base_uri": "https://localhost:8080/"
        },
        "id": "kg0-Q3mxJ4Gg",
        "outputId": "1e9af69f-7541-4f86-dca9-3b5fb525b8a4"
      },
      "execution_count": null,
      "outputs": [
        {
          "output_type": "execute_result",
          "data": {
            "text/plain": [
              "12"
            ]
          },
          "metadata": {},
          "execution_count": 5
        }
      ]
    },
    {
      "cell_type": "code",
      "source": [
        "#média dos salários\n",
        "np.mean(salario)"
      ],
      "metadata": {
        "colab": {
          "base_uri": "https://localhost:8080/"
        },
        "id": "x3qxpcUMLScn",
        "outputId": "fa965b13-e27a-4109-8b9f-56c2404e8202"
      },
      "execution_count": null,
      "outputs": [
        {
          "output_type": "execute_result",
          "data": {
            "text/plain": [
              "58.0"
            ]
          },
          "metadata": {},
          "execution_count": 6
        }
      ]
    },
    {
      "cell_type": "code",
      "source": [
        "#mediana dos salários\n",
        "np.median(salario)"
      ],
      "metadata": {
        "colab": {
          "base_uri": "https://localhost:8080/"
        },
        "id": "es0X9vLUMGLc",
        "outputId": "19ee25a9-e80f-4ad5-84c3-b52117d8a790"
      },
      "execution_count": null,
      "outputs": [
        {
          "output_type": "execute_result",
          "data": {
            "text/plain": [
              "54.0"
            ]
          },
          "metadata": {},
          "execution_count": 7
        }
      ]
    },
    {
      "cell_type": "markdown",
      "source": [
        "O pacote numpy não possui uma função de moda.\n",
        "\n",
        "Para computar a moda contar quantas vezes cada salário aparece na base, com a função np.unique com o parâmetro return_counts ativado para obtermos uma contagem de cada salario."
      ],
      "metadata": {
        "id": "KDCokJP3NFr1"
      }
    },
    {
      "cell_type": "code",
      "source": [
        "#moda dos salários\n",
        "sal, freq = np.unique(salario, return_counts=True)\n",
        "\n",
        "[sal, freq]"
      ],
      "metadata": {
        "colab": {
          "base_uri": "https://localhost:8080/"
        },
        "id": "XKfy726-MTAF",
        "outputId": "e8b3fc84-b97e-4b64-eb7b-3dc041e3d093"
      },
      "execution_count": null,
      "outputs": [
        {
          "output_type": "execute_result",
          "data": {
            "text/plain": [
              "[array([ 30,  36,  47,  50,  52,  56,  60,  63,  70, 110]),\n",
              " array([1, 1, 1, 1, 2, 1, 1, 1, 2, 1])]"
            ]
          },
          "metadata": {},
          "execution_count": 8
        }
      ]
    },
    {
      "cell_type": "code",
      "source": [
        "for i in np.arange(0,np.size(sal)):\n",
        "  print(\"Salário: {}, Frequencia: {}\".format(sal[i], freq[i]))"
      ],
      "metadata": {
        "colab": {
          "base_uri": "https://localhost:8080/"
        },
        "id": "O_MFXEg9SA9B",
        "outputId": "aee41763-0674-4682-828a-4672acd7886c"
      },
      "execution_count": null,
      "outputs": [
        {
          "output_type": "stream",
          "name": "stdout",
          "text": [
            "Salário: 30, Frequencia: 1\n",
            "Salário: 36, Frequencia: 1\n",
            "Salário: 47, Frequencia: 1\n",
            "Salário: 50, Frequencia: 1\n",
            "Salário: 52, Frequencia: 2\n",
            "Salário: 56, Frequencia: 1\n",
            "Salário: 60, Frequencia: 1\n",
            "Salário: 63, Frequencia: 1\n",
            "Salário: 70, Frequencia: 2\n",
            "Salário: 110, Frequencia: 1\n"
          ]
        }
      ]
    },
    {
      "cell_type": "markdown",
      "source": [
        "Agora vamos verificar como os valores da média e mediana são afetados por valores extremos."
      ],
      "metadata": {
        "id": "DJvF_qQvSxlU"
      }
    },
    {
      "cell_type": "code",
      "source": [
        "#vamos adicionar os valores de 1000 e 20000 na base e recalcular média e mediana.\n",
        "\n",
        "salario_extremos = np.append(salario, [1000,20000])\n",
        "salario_extremos"
      ],
      "metadata": {
        "colab": {
          "base_uri": "https://localhost:8080/"
        },
        "id": "evX8iNAiS5hm",
        "outputId": "646da72b-d68d-4fdb-b5ff-2285d44fa6eb"
      },
      "execution_count": null,
      "outputs": [
        {
          "output_type": "execute_result",
          "data": {
            "text/plain": [
              "array([   30,    36,    47,    50,    52,    52,    56,    60,    63,\n",
              "          70,    70,   110,  1000, 20000])"
            ]
          },
          "metadata": {},
          "execution_count": 10
        }
      ]
    },
    {
      "cell_type": "code",
      "source": [
        "print(\"Média Salários: {} --- Média Salários Extremos: {}\".format(np.mean(salario), np.mean(salario_extremos)))\n",
        "print(\"Mediana Salários: {} --- Mediana Salários Extremos: {}\".format(np.median(salario), np.median(salario_extremos)))"
      ],
      "metadata": {
        "colab": {
          "base_uri": "https://localhost:8080/"
        },
        "id": "MwX3gowGT6tS",
        "outputId": "b13eef1e-90e3-4489-9090-d77bafd2f2f7"
      },
      "execution_count": null,
      "outputs": [
        {
          "output_type": "stream",
          "name": "stdout",
          "text": [
            "Média Salários: 58.0 --- Média Salários Extremos: 1549.7142857142858\n",
            "Mediana Salários: 54.0 --- Mediana Salários Extremos: 58.0\n"
          ]
        }
      ]
    },
    {
      "cell_type": "markdown",
      "source": [
        "Calculando a média ponderada.\n",
        "\n",
        "A média final de uma disciplina composta por um trabalho (T) que vale 4 pontos da nota final e duas provas (P_1, P_2) valendo 3 pontos cada.\n",
        "\n",
        "Para o aluno que tirou 6 no trabalho, 7 na P_1 e 8 na P_2 calcule a média."
      ],
      "metadata": {
        "id": "INeEkECDUt9i"
      }
    },
    {
      "cell_type": "code",
      "source": [
        "#primeiro descrevemos o vetor de pesos\n",
        "w = np.array([4,3,3])\n",
        "\n",
        "#vetor de notas\n",
        "notas = np.array([6.0,7.0,8.0])\n",
        "\n",
        "#média ponderada\n",
        "np.average(notas, weights=w)"
      ],
      "metadata": {
        "colab": {
          "base_uri": "https://localhost:8080/"
        },
        "id": "cJj419r6Ue7b",
        "outputId": "d2c0df28-285f-490b-9c25-a33be39a9037"
      },
      "execution_count": null,
      "outputs": [
        {
          "output_type": "execute_result",
          "data": {
            "text/plain": [
              "6.9"
            ]
          },
          "metadata": {},
          "execution_count": 12
        }
      ]
    },
    {
      "cell_type": "markdown",
      "source": [
        "#Estatistica Descritiva - Medidas de Dispersão"
      ],
      "metadata": {
        "id": "Oo7HjgTxvsiE"
      }
    },
    {
      "cell_type": "code",
      "source": [
        "#Amplitude\n",
        "\n",
        "amplitude = np.max(salario) - np.min(salario)\n",
        "amplitude"
      ],
      "metadata": {
        "colab": {
          "base_uri": "https://localhost:8080/"
        },
        "id": "lc6KXdjkfw1c",
        "outputId": "129f8358-ebc5-43ac-8f1d-c673d9def858"
      },
      "execution_count": null,
      "outputs": [
        {
          "output_type": "execute_result",
          "data": {
            "text/plain": [
              "80"
            ]
          },
          "metadata": {},
          "execution_count": 13
        }
      ]
    },
    {
      "cell_type": "code",
      "source": [
        "#Quartis\n",
        "\n",
        "#função para obter os quartis da distribuição\n",
        "\n",
        "print(\"Q1: {} --> 25% dos dados\".format(np.quantile(salario,q=0.25, interpolation=\"lower\")))\n",
        "print(\"Q2: {} --> 50% dos dados\".format(np.quantile(salario,q=0.50, interpolation=\"lower\")))\n",
        "print(\"Q3: {} --> 75% dos dados\".format(np.quantile(salario,q=0.75, interpolation=\"lower\")))\n"
      ],
      "metadata": {
        "colab": {
          "base_uri": "https://localhost:8080/"
        },
        "id": "LMQazLZEeZls",
        "outputId": "893aa7cb-51f2-4a09-c35b-69095c11f923"
      },
      "execution_count": null,
      "outputs": [
        {
          "output_type": "stream",
          "name": "stdout",
          "text": [
            "Q1: 47 --> 25% dos dados\n",
            "Q2: 52 --> 50% dos dados\n",
            "Q3: 63 --> 75% dos dados\n"
          ]
        }
      ]
    },
    {
      "cell_type": "code",
      "source": [
        "#Variancia\n",
        "\n",
        "np.var(salario, ddof=1)"
      ],
      "metadata": {
        "colab": {
          "base_uri": "https://localhost:8080/"
        },
        "id": "qrkZm656xKd-",
        "outputId": "12c87655-a6ad-4017-85a4-65c3f5e0affe"
      },
      "execution_count": null,
      "outputs": [
        {
          "output_type": "execute_result",
          "data": {
            "text/plain": [
              "413.6363636363636"
            ]
          },
          "metadata": {},
          "execution_count": 15
        }
      ]
    },
    {
      "cell_type": "code",
      "source": [
        "#Desvio Padrão\n",
        "\n",
        "np.std(salario, ddof=1)"
      ],
      "metadata": {
        "colab": {
          "base_uri": "https://localhost:8080/"
        },
        "id": "hBsBYRs5xtVO",
        "outputId": "6e329868-80bd-412c-b454-35c123a4bb65"
      },
      "execution_count": null,
      "outputs": [
        {
          "output_type": "execute_result",
          "data": {
            "text/plain": [
              "20.338052110179177"
            ]
          },
          "metadata": {},
          "execution_count": 16
        }
      ]
    },
    {
      "cell_type": "code",
      "source": [
        "np.sqrt(np.var(salario, ddof=1))"
      ],
      "metadata": {
        "colab": {
          "base_uri": "https://localhost:8080/"
        },
        "id": "_9abLhuWx92y",
        "outputId": "0176131e-4864-4aca-b493-2c64ce2d0ab9"
      },
      "execution_count": null,
      "outputs": [
        {
          "output_type": "execute_result",
          "data": {
            "text/plain": [
              "20.338052110179177"
            ]
          },
          "metadata": {},
          "execution_count": 17
        }
      ]
    },
    {
      "cell_type": "markdown",
      "source": [
        "#Resumo da nossa base de salários"
      ],
      "metadata": {
        "id": "DJDNxL51yMYd"
      }
    },
    {
      "cell_type": "code",
      "source": [
        "print(\"Quantidade de valores: {}\".format(np.size(salario)))\n",
        "print(\"Mínimo: {}\".format(np.min(salario)))\n",
        "print(\"Máximo: {}\".format(np.max(salario)))\n",
        "print(\"Média: {}\".format(np.mean(salario)))\n",
        "print(\"Mediana: {}\".format(np.median(salario)))\n",
        "print(\"Amplitde: {}\".format(amplitude))\n",
        "print(\"Q1: {} --> 25% dos dados\".format(np.quantile(salario,q=0.25, interpolation=\"lower\")))\n",
        "print(\"Q2: {} --> 50% dos dados\".format(np.quantile(salario,q=0.50, interpolation=\"lower\")))\n",
        "print(\"Q3: {} --> 75% dos dados\".format(np.quantile(salario,q=0.75, interpolation=\"lower\")))\n",
        "print(\"Variância: {:.2f}\".format(np.var(salario, ddof=1)))\n",
        "print(\"Desvio Padrão: {:.2f}\".format(np.std(salario, ddof=1)))"
      ],
      "metadata": {
        "colab": {
          "base_uri": "https://localhost:8080/"
        },
        "id": "DAAVUeIyyPhH",
        "outputId": "5a8d7a9f-c26f-4f29-c6c3-3322f089d781"
      },
      "execution_count": null,
      "outputs": [
        {
          "output_type": "stream",
          "name": "stdout",
          "text": [
            "Quantidade de valores: 12\n",
            "Mínimo: 30\n",
            "Máximo: 110\n",
            "Média: 58.0\n",
            "Mediana: 54.0\n",
            "Amplitde: 80\n",
            "Q1: 47 --> 25% dos dados\n",
            "Q2: 52 --> 50% dos dados\n",
            "Q3: 63 --> 75% dos dados\n",
            "Variância: 413.64\n",
            "Desvio Padrão: 20.34\n"
          ]
        }
      ]
    },
    {
      "cell_type": "markdown",
      "source": [
        "#Gráficos da Estatísticas básicas"
      ],
      "metadata": {
        "id": "RHWUoVzzB5QP"
      }
    },
    {
      "cell_type": "code",
      "source": [
        "#importando a biblioteca da gráficos\n",
        "import matplotlib.pyplot as plt\n",
        "%matplotlib inline\n",
        "\n",
        "import matplotlib\n",
        "\n",
        "matplotlib.__version__\n"
      ],
      "metadata": {
        "colab": {
          "base_uri": "https://localhost:8080/",
          "height": 35
        },
        "id": "CqY6Y3W0B9KB",
        "outputId": "59a5721b-5ffc-40e3-d28d-7631257c6958"
      },
      "execution_count": null,
      "outputs": [
        {
          "output_type": "execute_result",
          "data": {
            "text/plain": [
              "'3.2.2'"
            ],
            "application/vnd.google.colaboratory.intrinsic+json": {
              "type": "string"
            }
          },
          "metadata": {},
          "execution_count": 19
        }
      ]
    },
    {
      "cell_type": "code",
      "source": [
        "#histograma para os salários\n",
        "bins = plt.hist(salario)\n",
        "plt.title(\"Histograma Salários\")\n",
        "plt.show()"
      ],
      "metadata": {
        "colab": {
          "base_uri": "https://localhost:8080/",
          "height": 281
        },
        "id": "t80McEMxCNtU",
        "outputId": "b91fb723-1197-4cb4-f185-dff25354addb"
      },
      "execution_count": null,
      "outputs": [
        {
          "output_type": "display_data",
          "data": {
            "text/plain": [
              "<Figure size 432x288 with 1 Axes>"
            ],
            "image/png": "[encoded data removed]"
          },
          "metadata": {
            "needs_background": "light"
          }
        }
      ]
    },
    {
      "cell_type": "code",
      "source": [
        "#os intervalos e respectivas frequencias que foram gerados para o vetor de salários.\n",
        "bins[0],bins[1]"
      ],
      "metadata": {
        "colab": {
          "base_uri": "https://localhost:8080/"
        },
        "id": "N_ITaikpEsWG",
        "outputId": "d9127149-31fe-4036-c296-65b8fad9bd09"
      },
      "execution_count": null,
      "outputs": [
        {
          "output_type": "execute_result",
          "data": {
            "text/plain": [
              "(array([2., 0., 4., 2., 1., 2., 0., 0., 0., 1.]),\n",
              " array([ 30.,  38.,  46.,  54.,  62.,  70.,  78.,  86.,  94., 102., 110.]))"
            ]
          },
          "metadata": {},
          "execution_count": 21
        }
      ]
    },
    {
      "cell_type": "code",
      "source": [
        "#frequencia de cada valor do dados de salário.\n",
        "sal, freq = np.unique(salario, return_counts=True)\n",
        "\n",
        "for i in np.arange(0,np.size(sal)):\n",
        "  print(\"Salário: {}, Frequencia: {}\".format(sal[i], freq[i]))\n",
        "\n",
        "#gráfico de barras com as contágens de quantas vezes cada salário ocorre.\n",
        "plt.bar(sal,freq)\n",
        "plt.title(\"Gráfico de Barras -  Salários\")\n",
        "plt.show()"
      ],
      "metadata": {
        "colab": {
          "base_uri": "https://localhost:8080/",
          "height": 460
        },
        "id": "5S2oyniOEKue",
        "outputId": "03e99d89-8cb1-45e0-8ee8-7f75ce5630d9"
      },
      "execution_count": null,
      "outputs": [
        {
          "output_type": "stream",
          "name": "stdout",
          "text": [
            "Salário: 30, Frequencia: 1\n",
            "Salário: 36, Frequencia: 1\n",
            "Salário: 47, Frequencia: 1\n",
            "Salário: 50, Frequencia: 1\n",
            "Salário: 52, Frequencia: 2\n",
            "Salário: 56, Frequencia: 1\n",
            "Salário: 60, Frequencia: 1\n",
            "Salário: 63, Frequencia: 1\n",
            "Salário: 70, Frequencia: 2\n",
            "Salário: 110, Frequencia: 1\n"
          ]
        },
        {
          "output_type": "display_data",
          "data": {
            "text/plain": [
              "<Figure size 432x288 with 1 Axes>"
            ],
            "image/png": "[encoded data removed]"
          },
          "metadata": {
            "needs_background": "light"
          }
        }
      ]
    },
    {
      "cell_type": "code",
      "source": [
        "#boxplot\n",
        "plt.boxplot(salario, vert=False)\n",
        "plt.title(\"Gráfico de Caixa - Salários\")\n",
        "plt.show()"
      ],
      "metadata": {
        "colab": {
          "base_uri": "https://localhost:8080/",
          "height": 281
        },
        "id": "-_QH1NZzjolN",
        "outputId": "f1f7e691-bbe2-40fd-ee36-6ee4a9ebd89e"
      },
      "execution_count": null,
      "outputs": [
        {
          "output_type": "display_data",
          "data": {
            "text/plain": [
              "<Figure size 432x288 with 1 Axes>"
            ],
            "image/png": "[encoded data removed]"
          },
          "metadata": {
            "needs_background": "light"
          }
        }
      ]
    },
    {
      "cell_type": "code",
      "source": [
        "#para plotar os gráficos de quartil, importamos a biblioteca stastmodels.api\n",
        "\n",
        "import statsmodels.api as sm\n",
        "\n",
        "sm.__version__"
      ],
      "metadata": {
        "colab": {
          "base_uri": "https://localhost:8080/",
          "height": 35
        },
        "id": "oMxjFP74mubW",
        "outputId": "4ee4feb0-4b72-4ffa-ff3d-4c0466c5f00d"
      },
      "execution_count": null,
      "outputs": [
        {
          "output_type": "execute_result",
          "data": {
            "text/plain": [
              "'0.12.2'"
            ],
            "application/vnd.google.colaboratory.intrinsic+json": {
              "type": "string"
            }
          },
          "metadata": {},
          "execution_count": 26
        }
      ]
    },
    {
      "cell_type": "code",
      "source": [
        "sm.qqplot(salario, fit=True, line ='45')\n",
        "plt.title(\"QQ Plot - Quartil em Quartil\")\n",
        "plt.show()"
      ],
      "metadata": {
        "colab": {
          "base_uri": "https://localhost:8080/",
          "height": 295
        },
        "id": "lBYdVUW1n0Ye",
        "outputId": "70c34524-362c-40d8-c49c-d276d6c22c02"
      },
      "execution_count": null,
      "outputs": [
        {
          "output_type": "display_data",
          "data": {
            "text/plain": [
              "<Figure size 432x288 with 1 Axes>"
            ],
            "image/png": "[encoded data removed]"
          },
          "metadata": {
            "needs_background": "light"
          }
        }
      ]
    },
    {
      "cell_type": "markdown",
      "source": [
        "#Case Aula 7 - Vídeo 5\n"
      ],
      "metadata": {
        "id": "OolGeJpB9znS"
      }
    },
    {
      "cell_type": "markdown",
      "source": [
        "Você está conduzindo uma análise exploratória do atributo ticket médio de venda de um marketplace. A base de dados possui as seguintes entradas para ticket médio: 260, 300, 320, 320, 380, 400, 400, 420, 420, 440, 440, 500, 500, 520, 600, 660, 660, 680, 700, 700, 740, 740, 740, 900, 920, 1040, 1400. Com base nesses dados faça as seguintes atividades:\n",
        "\n",
        "0. Calcule o todal de valores na base.\n",
        "1. Calcule a Média.\n",
        "2. Calcule a Mediana.\n",
        "3. Calcule a Moda.\n",
        "4. Calcule a Min\n",
        "5. Calcule a Max\n",
        "6. Identifique os percentis 25%, 50% e 75%\n",
        "7. Calcule a variância\n",
        "8. Calcule o desvio padrão\n",
        "9. Monte um histograma\n",
        "10. Monte um gráfico de caixa\n",
        "11. Monte um gráfico de quartil-em-quartil\n",
        "12. Use as informações acima para descrever o comportamento do ticket médio de venda deste marketplace."
      ],
      "metadata": {
        "id": "u3FXk0wP951f"
      }
    },
    {
      "cell_type": "code",
      "source": [
        "#começamos importando a biblioteca de operções numéricas numpy\n",
        "import numpy as np"
      ],
      "metadata": {
        "id": "EbcZCplWHpUK"
      },
      "execution_count": null,
      "outputs": []
    },
    {
      "cell_type": "code",
      "source": [
        "#para estes exercícios iremos utilizar a está versão do numpy.\n",
        "np.__version__"
      ],
      "metadata": {
        "colab": {
          "base_uri": "https://localhost:8080/",
          "height": 35
        },
        "outputId": "198dfd94-11f1-4688-9944-ddce76bfec3e",
        "id": "auw1Va7FHpUW"
      },
      "execution_count": null,
      "outputs": [
        {
          "output_type": "execute_result",
          "data": {
            "text/plain": [
              "'1.21.6'"
            ],
            "application/vnd.google.colaboratory.intrinsic+json": {
              "type": "string"
            }
          },
          "metadata": {},
          "execution_count": 29
        }
      ]
    },
    {
      "cell_type": "code",
      "source": [
        "#preparando o vetor de dados\n",
        "ticket_medio = np.array([260, 300, 320, 320, 380, 400, 400, 420, 420, 440, 440, 500,\n",
        "                          500, 520, 600, 660, 660, 680, 700, 700, 740, 740, 740, 900, \n",
        "                          920, 1040, 1400])\n",
        "\n",
        "ticket_medio"
      ],
      "metadata": {
        "colab": {
          "base_uri": "https://localhost:8080/"
        },
        "id": "y-LA-4al95RA",
        "outputId": "102d42ec-73cb-4fdb-d8c4-411f2ff815e2"
      },
      "execution_count": null,
      "outputs": [
        {
          "output_type": "execute_result",
          "data": {
            "text/plain": [
              "array([ 260,  300,  320,  320,  380,  400,  400,  420,  420,  440,  440,\n",
              "        500,  500,  520,  600,  660,  660,  680,  700,  700,  740,  740,\n",
              "        740,  900,  920, 1040, 1400])"
            ]
          },
          "metadata": {},
          "execution_count": 30
        }
      ]
    },
    {
      "cell_type": "code",
      "source": [
        "#calculando a média\n",
        "total_n = np.size(ticket_medio)\n",
        "\n",
        "print(\"0. Total de Tickets na base: {:.2f}\".format(total_n))"
      ],
      "metadata": {
        "colab": {
          "base_uri": "https://localhost:8080/"
        },
        "id": "q56KDONGDreX",
        "outputId": "2111c9f2-43a1-4f31-b08e-bfae8c2a21f2"
      },
      "execution_count": null,
      "outputs": [
        {
          "output_type": "stream",
          "name": "stdout",
          "text": [
            "0. Total de Tickets na base: 27.00\n"
          ]
        }
      ]
    },
    {
      "cell_type": "code",
      "source": [
        "#calculando a média\n",
        "media = np.mean(ticket_medio)\n",
        "\n",
        "print(\"1. Media: {:.2f}\".format(media))"
      ],
      "metadata": {
        "colab": {
          "base_uri": "https://localhost:8080/"
        },
        "id": "NIV-oQVD-5WO",
        "outputId": "00ab4d64-c4ec-4d3a-a528-c4fc9274920c"
      },
      "execution_count": null,
      "outputs": [
        {
          "output_type": "stream",
          "name": "stdout",
          "text": [
            "1. Media: 596.30\n"
          ]
        }
      ]
    },
    {
      "cell_type": "code",
      "source": [
        "#calculando a mediana\n",
        "mediana = np.median(ticket_medio)\n",
        "\n",
        "print(\"2. Mediana: {:.2f}\".format(mediana))"
      ],
      "metadata": {
        "colab": {
          "base_uri": "https://localhost:8080/"
        },
        "id": "aOJsVgwl_QVT",
        "outputId": "61d76686-e2b6-4412-afc0-0b8404ee2ab6"
      },
      "execution_count": null,
      "outputs": [
        {
          "output_type": "stream",
          "name": "stdout",
          "text": [
            "2. Mediana: 520.00\n"
          ]
        }
      ]
    },
    {
      "cell_type": "code",
      "source": [
        "#calcula a frequencia de cada ticket médio na base\n",
        "ticket, freq = np.unique(ticket_medio, return_counts=True)\n",
        "\n",
        "for i in np.arange(0,np.size(ticket)):\n",
        "  print(\"Tickets Médios: {}, Frequencia: {}\".format(ticket[i], freq[i]))\n"
      ],
      "metadata": {
        "colab": {
          "base_uri": "https://localhost:8080/"
        },
        "id": "VWltWA8d_Zl0",
        "outputId": "f8713029-07f1-4d2f-a376-401c62dcc177"
      },
      "execution_count": null,
      "outputs": [
        {
          "output_type": "stream",
          "name": "stdout",
          "text": [
            "Tickets Médios: 260, Frequencia: 1\n",
            "Tickets Médios: 300, Frequencia: 1\n",
            "Tickets Médios: 320, Frequencia: 2\n",
            "Tickets Médios: 380, Frequencia: 1\n",
            "Tickets Médios: 400, Frequencia: 2\n",
            "Tickets Médios: 420, Frequencia: 2\n",
            "Tickets Médios: 440, Frequencia: 2\n",
            "Tickets Médios: 500, Frequencia: 2\n",
            "Tickets Médios: 520, Frequencia: 1\n",
            "Tickets Médios: 600, Frequencia: 1\n",
            "Tickets Médios: 660, Frequencia: 2\n",
            "Tickets Médios: 680, Frequencia: 1\n",
            "Tickets Médios: 700, Frequencia: 2\n",
            "Tickets Médios: 740, Frequencia: 3\n",
            "Tickets Médios: 900, Frequencia: 1\n",
            "Tickets Médios: 920, Frequencia: 1\n",
            "Tickets Médios: 1040, Frequencia: 1\n",
            "Tickets Médios: 1400, Frequencia: 1\n"
          ]
        }
      ]
    },
    {
      "cell_type": "code",
      "source": [
        "freq"
      ],
      "metadata": {
        "colab": {
          "base_uri": "https://localhost:8080/"
        },
        "id": "BATGC3Z03Jb1",
        "outputId": "bda5ab27-ae00-46d7-89e6-3cb52b6d70f5"
      },
      "execution_count": null,
      "outputs": [
        {
          "output_type": "execute_result",
          "data": {
            "text/plain": [
              "array([1, 1, 2, 1, 2, 2, 2, 2, 1, 1, 2, 1, 2, 3, 1, 1, 1, 1])"
            ]
          },
          "metadata": {},
          "execution_count": 35
        }
      ]
    },
    {
      "cell_type": "code",
      "source": [
        "np.argmax(freq)"
      ],
      "metadata": {
        "colab": {
          "base_uri": "https://localhost:8080/"
        },
        "id": "ZfSbW1dc3UOc",
        "outputId": "7746acde-3c82-4261-cae5-cb3b890e7c73"
      },
      "execution_count": null,
      "outputs": [
        {
          "output_type": "execute_result",
          "data": {
            "text/plain": [
              "13"
            ]
          },
          "metadata": {},
          "execution_count": 36
        }
      ]
    },
    {
      "cell_type": "code",
      "source": [
        "ticket"
      ],
      "metadata": {
        "colab": {
          "base_uri": "https://localhost:8080/"
        },
        "id": "eDGdvc4i3aO6",
        "outputId": "9691bbc9-7ffb-4ad4-8250-3e20a567d152"
      },
      "execution_count": null,
      "outputs": [
        {
          "output_type": "execute_result",
          "data": {
            "text/plain": [
              "array([ 260,  300,  320,  380,  400,  420,  440,  500,  520,  600,  660,\n",
              "        680,  700,  740,  900,  920, 1040, 1400])"
            ]
          },
          "metadata": {},
          "execution_count": 37
        }
      ]
    },
    {
      "cell_type": "code",
      "source": [
        "#busca o ticket médio com a maior frequencia\n",
        "moda = ticket[np.argmax(freq)]\n",
        "\n",
        "print(\"3. Moda: {}\".format(moda))"
      ],
      "metadata": {
        "colab": {
          "base_uri": "https://localhost:8080/"
        },
        "id": "IJvxlMnxANb1",
        "outputId": "92402e47-bc80-405a-c830-7b428a5d23fd"
      },
      "execution_count": null,
      "outputs": [
        {
          "output_type": "stream",
          "name": "stdout",
          "text": [
            "3. Moda: 740\n"
          ]
        }
      ]
    },
    {
      "cell_type": "code",
      "source": [
        "#calculando o minimo\n",
        "minimo = np.min(ticket_medio)\n",
        "\n",
        "print(\"4. Mínimo: {:.2f}\".format(minimo))"
      ],
      "metadata": {
        "colab": {
          "base_uri": "https://localhost:8080/"
        },
        "id": "SkWVT5wYBYUn",
        "outputId": "4c5cd14a-54ee-4072-fff7-746e57c05d05"
      },
      "execution_count": null,
      "outputs": [
        {
          "output_type": "stream",
          "name": "stdout",
          "text": [
            "4. Mínimo: 260.00\n"
          ]
        }
      ]
    },
    {
      "cell_type": "code",
      "source": [
        "#calculando o máximo\n",
        "maximo = np.max(ticket_medio)\n",
        "\n",
        "print(\"5. Máximo: {:.2f}\".format(maximo))"
      ],
      "metadata": {
        "colab": {
          "base_uri": "https://localhost:8080/"
        },
        "id": "9mzcm_AeBkx_",
        "outputId": "2afaf7f1-f53b-4c32-cc6b-fcf4f53b3b54"
      },
      "execution_count": null,
      "outputs": [
        {
          "output_type": "stream",
          "name": "stdout",
          "text": [
            "5. Máximo: 1400.00\n"
          ]
        }
      ]
    },
    {
      "cell_type": "code",
      "source": [
        "#calculando os percentils\n",
        "\n",
        "Q1 = np.quantile(ticket_medio,q=0.25, interpolation=\"lower\")\n",
        "Q2 = np.quantile(ticket_medio,q=0.50, interpolation=\"lower\")\n",
        "Q3 = np.quantile(ticket_medio,q=0.75, interpolation=\"lower\")\n",
        "\n",
        "print(\"6. Percentils\")\n",
        "print(\"Q1: {} --> 25% dos dados\".format(Q1))\n",
        "print(\"Q2: {} --> 50% dos dados\".format(Q2))\n",
        "print(\"Q3: {} --> 75% dos dados\".format(Q3))\n"
      ],
      "metadata": {
        "colab": {
          "base_uri": "https://localhost:8080/"
        },
        "id": "upaqjHajBzKS",
        "outputId": "61d6b0db-45d2-4881-f526-b6a3e8e2f572"
      },
      "execution_count": null,
      "outputs": [
        {
          "output_type": "stream",
          "name": "stdout",
          "text": [
            "6. Percentils\n",
            "Q1: 400 --> 25% dos dados\n",
            "Q2: 520 --> 50% dos dados\n",
            "Q3: 700 --> 75% dos dados\n"
          ]
        }
      ]
    },
    {
      "cell_type": "code",
      "source": [
        "#calculando a amplitude\n",
        "\n",
        "amplitude = maximo - minimo\n",
        "\n",
        "amplitude\n",
        "\n",
        "print(\"6.5. Amplitude: {:.2f}\".format(amplitude))"
      ],
      "metadata": {
        "colab": {
          "base_uri": "https://localhost:8080/"
        },
        "id": "YgH6qDJv4HLS",
        "outputId": "3b1669ca-5bdd-466d-b74b-d2c11e31081f"
      },
      "execution_count": null,
      "outputs": [
        {
          "output_type": "stream",
          "name": "stdout",
          "text": [
            "6.5. Amplitude: 1140.00\n"
          ]
        }
      ]
    },
    {
      "cell_type": "code",
      "source": [
        "#calculando a variância\n",
        "variancia = np.var(ticket_medio, ddof=1)\n",
        "\n",
        "print(\"7. Variância: {:.2f}\".format(variancia))"
      ],
      "metadata": {
        "colab": {
          "base_uri": "https://localhost:8080/"
        },
        "id": "4QPtM6M7CVvW",
        "outputId": "9c7be3f1-1be5-4add-ccb1-600b07fb3734"
      },
      "execution_count": null,
      "outputs": [
        {
          "output_type": "stream",
          "name": "stdout",
          "text": [
            "7. Variância: 67354.99\n"
          ]
        }
      ]
    },
    {
      "cell_type": "code",
      "source": [
        "#calculando o desvio padrão\n",
        "desvio_padrao = np.std(ticket_medio, ddof=1)\n",
        "\n",
        "print(\"8. Desvio Padrão: {:.2f}\".format(desvio_padrao))"
      ],
      "metadata": {
        "colab": {
          "base_uri": "https://localhost:8080/"
        },
        "id": "EhgDpAs4CdpM",
        "outputId": "cc504f15-3b6f-4204-de9b-a96a46671614"
      },
      "execution_count": null,
      "outputs": [
        {
          "output_type": "stream",
          "name": "stdout",
          "text": [
            "8. Desvio Padrão: 259.53\n"
          ]
        }
      ]
    },
    {
      "cell_type": "code",
      "source": [
        "#importando a biblioteca da gráficos\n",
        "import matplotlib.pyplot as plt\n",
        "%matplotlib inline\n",
        "\n",
        "import matplotlib\n",
        "\n",
        "matplotlib.__version__\n"
      ],
      "metadata": {
        "colab": {
          "base_uri": "https://localhost:8080/",
          "height": 35
        },
        "outputId": "f8fe94b5-88d4-4a5c-c438-0edc728f87aa",
        "id": "vWPhZOkxHyYT"
      },
      "execution_count": null,
      "outputs": [
        {
          "output_type": "execute_result",
          "data": {
            "text/plain": [
              "'3.2.2'"
            ],
            "application/vnd.google.colaboratory.intrinsic+json": {
              "type": "string"
            }
          },
          "metadata": {},
          "execution_count": 46
        }
      ]
    },
    {
      "cell_type": "code",
      "source": [
        "#histograma para os tickets médios\n",
        "bins = plt.hist(ticket_medio)\n",
        "plt.title(\"9. Histograma Ticket Médio\")\n",
        "plt.show()"
      ],
      "metadata": {
        "colab": {
          "base_uri": "https://localhost:8080/",
          "height": 281
        },
        "id": "vVgRGfnuC6AM",
        "outputId": "f7895e6b-669a-4800-cde6-81da5e0260d2"
      },
      "execution_count": null,
      "outputs": [
        {
          "output_type": "display_data",
          "data": {
            "text/plain": [
              "<Figure size 432x288 with 1 Axes>"
            ],
            "image/png": "[encoded data removed]"
          },
          "metadata": {
            "needs_background": "light"
          }
        }
      ]
    },
    {
      "cell_type": "code",
      "source": [
        "#boxplot\n",
        "plt.boxplot(ticket_medio, vert=False)\n",
        "plt.title(\"10. Gráfico de Caixa - Ticket Médio\")\n",
        "plt.show()"
      ],
      "metadata": {
        "colab": {
          "base_uri": "https://localhost:8080/",
          "height": 281
        },
        "id": "WGmbPjUIDJWG",
        "outputId": "921205a5-6738-437a-da9f-8b940fa6ef79"
      },
      "execution_count": null,
      "outputs": [
        {
          "output_type": "display_data",
          "data": {
            "text/plain": [
              "<Figure size 432x288 with 1 Axes>"
            ],
            "image/png": "[encoded data removed]"
          },
          "metadata": {
            "needs_background": "light"
          }
        }
      ]
    },
    {
      "cell_type": "code",
      "source": [
        "#para plotar os gráficos de quartil, importamos a biblioteca stastmodels.api\n",
        "\n",
        "import statsmodels.api as sm\n",
        "\n",
        "sm.__version__"
      ],
      "metadata": {
        "colab": {
          "base_uri": "https://localhost:8080/",
          "height": 35
        },
        "outputId": "2f95be66-f4c9-4797-fe63-79380e346336",
        "id": "VMxqF9llIAhG"
      },
      "execution_count": null,
      "outputs": [
        {
          "output_type": "execute_result",
          "data": {
            "text/plain": [
              "'0.12.2'"
            ],
            "application/vnd.google.colaboratory.intrinsic+json": {
              "type": "string"
            }
          },
          "metadata": {},
          "execution_count": 49
        }
      ]
    },
    {
      "cell_type": "code",
      "source": [
        "sm.qqplot(ticket_medio, fit=True, line ='45')\n",
        "plt.title(\"11. QQ Plot - Quartil em Quartil\")\n",
        "plt.show()"
      ],
      "metadata": {
        "colab": {
          "base_uri": "https://localhost:8080/",
          "height": 295
        },
        "id": "aY4OzjvgDTv_",
        "outputId": "19544bd3-248a-447b-99fc-d0be68ce7a3a"
      },
      "execution_count": null,
      "outputs": [
        {
          "output_type": "display_data",
          "data": {
            "text/plain": [
              "<Figure size 432x288 with 1 Axes>"
            ],
            "image/png": "[encoded data removed]"
          },
          "metadata": {
            "needs_background": "light"
          }
        }
      ]
    },
    {
      "cell_type": "code",
      "source": [
        "print(\"0. Quantidade de valores: {}\".format(total_n))\n",
        "print(\"1. Media: {:.2f}\".format(media))\n",
        "print(\"2. Mediana: {:.2f}\".format(mediana))\n",
        "print(\"3. Moda: {}\".format(moda))\n",
        "print(\"4. Mínimo: {:.2f}\".format(minimo))\n",
        "print(\"5. Máximo: {:.2f}\".format(maximo))\n",
        "print(\"6. Percentils\")\n",
        "print(\"   Q1: {} --> 25% dos dados\".format(Q1))\n",
        "print(\"   Q2: {} --> 50% dos dados\".format(Q2))\n",
        "print(\"   Q3: {} --> 75% dos dados\".format(Q3))\n",
        "print(\"6.5. Amplitude: {:.2f}\".format(amplitude))\n",
        "print(\"7. Variância: {:.2f}\".format(variancia))\n",
        "print(\"8. Desvio Padrão: {:.2f}\".format(desvio_padrao))"
      ],
      "metadata": {
        "colab": {
          "base_uri": "https://localhost:8080/"
        },
        "id": "dttZP_EcDfa_",
        "outputId": "8cddda0d-3710-4f6b-9efc-6851b4e409a2"
      },
      "execution_count": null,
      "outputs": [
        {
          "output_type": "stream",
          "name": "stdout",
          "text": [
            "0. Quantidade de valores: 27\n",
            "1. Media: 596.30\n",
            "2. Mediana: 520.00\n",
            "3. Moda: 740\n",
            "4. Mínimo: 260.00\n",
            "5. Máximo: 1400.00\n",
            "6. Percentils\n",
            "   Q1: 400 --> 25% dos dados\n",
            "   Q2: 520 --> 50% dos dados\n",
            "   Q3: 700 --> 75% dos dados\n",
            "6.5. Amplitude: 1140.00\n",
            "7. Variância: 67354.99\n",
            "8. Desvio Padrão: 259.53\n"
          ]
        }
      ]
    },
    {
      "cell_type": "markdown",
      "source": [
        "* O valor médio do ticket médio é de \\$596,30. \n",
        "* O menor ticket consumido é de \\$260 e o maior ticket é de \\$1400. \n",
        "* A base apresenta concentrações nos tickets de \\$740. \n",
        "* 50% dos tickets possuem valores entre \\$400 e \\$700. \n",
        "* O desvio padrão dos tickets é de 259.53.\n",
        "* Os tickets não são normalmente distribuídos.\n",
        "* O ticket médio de \\$1.400 aparenta ser uma anomalia."
      ],
      "metadata": {
        "id": "Gz18g1jPEtk9"
      }
    }
  ]
}