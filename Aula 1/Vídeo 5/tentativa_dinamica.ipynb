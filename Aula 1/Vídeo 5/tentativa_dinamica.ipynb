{
 "cells": [
  {
   "cell_type": "code",
   "execution_count": 25,
   "id": "b9915d93",
   "metadata": {},
   "outputs": [],
   "source": [
    "import pandas as pd\n",
    "\n",
    "df = pd.read_json('./actual_data/chipotle.json')"
   ]
  },
  {
   "cell_type": "code",
   "execution_count": 4,
   "id": "2a998e9c",
   "metadata": {},
   "outputs": [
    {
     "name": "stdout",
     "output_type": "stream",
     "text": [
      "Instancias: 4622\n"
     ]
    }
   ],
   "source": [
    "instancias = df.shape[0]\n",
    "print(f'Instancias: {instancias}')"
   ]
  },
  {
   "cell_type": "code",
   "execution_count": 5,
   "id": "27926f32",
   "metadata": {},
   "outputs": [
    {
     "name": "stdout",
     "output_type": "stream",
     "text": [
      "Colunas: 4\n"
     ]
    }
   ],
   "source": [
    "colunas = df.shape[1]\n",
    "print(f'Colunas: {colunas}')"
   ]
  },
  {
   "cell_type": "code",
   "execution_count": 7,
   "id": "39c79400",
   "metadata": {},
   "outputs": [
    {
     "data": {
      "text/html": [
       "<div>\n",
       "<style scoped>\n",
       "    .dataframe tbody tr th:only-of-type {\n",
       "        vertical-align: middle;\n",
       "    }\n",
       "\n",
       "    .dataframe tbody tr th {\n",
       "        vertical-align: top;\n",
       "    }\n",
       "\n",
       "    .dataframe thead th {\n",
       "        text-align: right;\n",
       "    }\n",
       "</style>\n",
       "<table border=\"1\" class=\"dataframe\">\n",
       "  <thead>\n",
       "    <tr style=\"text-align: right;\">\n",
       "      <th></th>\n",
       "      <th>order_id</th>\n",
       "      <th>quantity</th>\n",
       "      <th>item_name</th>\n",
       "      <th>item_price</th>\n",
       "    </tr>\n",
       "  </thead>\n",
       "  <tbody>\n",
       "    <tr>\n",
       "      <th>0</th>\n",
       "      <td>1</td>\n",
       "      <td>1</td>\n",
       "      <td>Chips and Fresh Tomato Salsa</td>\n",
       "      <td>$2.39</td>\n",
       "    </tr>\n",
       "    <tr>\n",
       "      <th>1</th>\n",
       "      <td>1</td>\n",
       "      <td>1</td>\n",
       "      <td>Izze</td>\n",
       "      <td>$3.39</td>\n",
       "    </tr>\n",
       "    <tr>\n",
       "      <th>2</th>\n",
       "      <td>1</td>\n",
       "      <td>1</td>\n",
       "      <td>Nantucket Nectar</td>\n",
       "      <td>$3.39</td>\n",
       "    </tr>\n",
       "    <tr>\n",
       "      <th>3</th>\n",
       "      <td>1</td>\n",
       "      <td>1</td>\n",
       "      <td>Chips and Tomatillo-Green Chili Salsa</td>\n",
       "      <td>$2.39</td>\n",
       "    </tr>\n",
       "    <tr>\n",
       "      <th>4</th>\n",
       "      <td>2</td>\n",
       "      <td>2</td>\n",
       "      <td>Chicken Bowl</td>\n",
       "      <td>$16.98</td>\n",
       "    </tr>\n",
       "  </tbody>\n",
       "</table>\n",
       "</div>"
      ],
      "text/plain": [
       "   order_id  quantity                              item_name item_price\n",
       "0         1         1           Chips and Fresh Tomato Salsa     $2.39 \n",
       "1         1         1                                   Izze     $3.39 \n",
       "2         1         1                       Nantucket Nectar     $3.39 \n",
       "3         1         1  Chips and Tomatillo-Green Chili Salsa     $2.39 \n",
       "4         2         2                           Chicken Bowl    $16.98 "
      ]
     },
     "execution_count": 7,
     "metadata": {},
     "output_type": "execute_result"
    }
   ],
   "source": [
    "df.head()"
   ]
  },
  {
   "cell_type": "code",
   "execution_count": 39,
   "id": "8c6dfbe3",
   "metadata": {},
   "outputs": [
    {
     "name": "stdout",
     "output_type": "stream",
     "text": [
      "Chips and Fresh Tomato Salsa foi o item mais pedido. 15 vezes\n"
     ]
    }
   ],
   "source": [
    "print(f'{df['item_name'][df.quantity.idxmax()]} foi o item mais pedido. {df.quantity.max()} vezes')"
   ]
  },
  {
   "cell_type": "code",
   "execution_count": 17,
   "id": "72490faf",
   "metadata": {},
   "outputs": [
    {
     "name": "stdout",
     "output_type": "stream",
     "text": [
      "Foram pedidos 4972 itens\n"
     ]
    }
   ],
   "source": [
    "print(f'Foram pedidos {df['quantity'].sum()} itens')"
   ]
  },
  {
   "cell_type": "code",
   "execution_count": 30,
   "id": "cdfe4adb",
   "metadata": {},
   "outputs": [
    {
     "data": {
      "text/plain": [
       "0        2.39\n",
       "1        3.39\n",
       "2        3.39\n",
       "3        2.39\n",
       "4       16.98\n",
       "        ...  \n",
       "4617    11.75\n",
       "4618    11.75\n",
       "4619    11.25\n",
       "4620     8.75\n",
       "4621     8.75\n",
       "Name: item_price_float, Length: 4622, dtype: float64"
      ]
     },
     "execution_count": 30,
     "metadata": {},
     "output_type": "execute_result"
    }
   ],
   "source": [
    "df['item_price_float'] = df['item_price'].apply(lambda x: float(x[1:].strip()))\n",
    "df.item_price_float"
   ]
  },
  {
   "cell_type": "code",
   "execution_count": 38,
   "id": "6fd5ff73",
   "metadata": {},
   "outputs": [
    {
     "name": "stdout",
     "output_type": "stream",
     "text": [
      "Existem 50 itens diferentes\n"
     ]
    }
   ],
   "source": [
    "print(f'Existem {len(df['item_name'].unique())} itens diferentes')"
   ]
  },
  {
   "cell_type": "code",
   "execution_count": null,
   "id": "609a8c46",
   "metadata": {},
   "outputs": [],
   "source": []
  }
 ],
 "metadata": {
  "kernelspec": {
   "display_name": "meu_env",
   "language": "python",
   "name": "python3"
  },
  "language_info": {
   "codemirror_mode": {
    "name": "ipython",
    "version": 3
   },
   "file_extension": ".py",
   "mimetype": "text/x-python",
   "name": "python",
   "nbconvert_exporter": "python",
   "pygments_lexer": "ipython3",
   "version": "3.12.6"
  }
 },
 "nbformat": 4,
 "nbformat_minor": 5
}
