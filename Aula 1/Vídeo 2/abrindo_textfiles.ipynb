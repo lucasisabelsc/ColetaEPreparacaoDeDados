{
 "cells": [
  {
   "cell_type": "markdown",
   "metadata": {},
   "source": [
    "### Esse jupyter notebook tem o objetivo de exemplificar algumas formas de leitura de arquivos texto.\n",
    "autor: prof. Lucas Silveira Kupssinskü"
   ]
  },
  {
   "cell_type": "code",
   "execution_count": 1,
   "metadata": {},
   "outputs": [],
   "source": [
    "from dataclasses import dataclass\n",
    "import pandas as pd\n"
   ]
  },
  {
   "cell_type": "markdown",
   "metadata": {},
   "source": [
    "### O primeiro arquivo que vamos abrir é o pessoa.txt\n",
    "\n",
    "Esse arquivo armazena dados de três pessoas, observe o conteúdo abaixo:\n",
    "\n",
    "```\n",
    "nome: linus torvalds\n",
    "dt_nascimento: 28-dez-1969\n",
    "profissao: engenheiro de software\n",
    "\n",
    "nome: alan mathison turing\n",
    "dt_nascimento: 23-jun-1912\n",
    "profissao: matematico\n",
    "\n",
    "nome: timothy john berners-lee\n",
    "dt_nascimento: 12-mar-1989\n",
    "profissao: físico\n",
    "```"
   ]
  },
  {
   "cell_type": "markdown",
   "metadata": {},
   "source": [
    "### Vamos iniciar criando a classe ''Pessoa'' que vai armazenar as informações da pessoa que constam nos arquivos. "
   ]
  },
  {
   "cell_type": "code",
   "execution_count": 2,
   "metadata": {},
   "outputs": [],
   "source": [
    "# dataclass que vai armazenar as informacoes da pessoa\n",
    "@dataclass\n",
    "class Pessoa:\n",
    "    nome: str\n",
    "    dt_nascimento: str\n",
    "    profissao: str\n",
    "\n",
    "    def __str__(self):\n",
    "        return f'Nome: {self.nome}, Data de Nascimento: {self.dt_nascimento}, Profissão: {self.profissao}'\n"
   ]
  },
  {
   "cell_type": "markdown",
   "metadata": {},
   "source": [
    "### Podemos iterar pelas linhas do arquivo usando um for.\n",
    "### A função open permite abrir um arquivo utilizando um encoding específico."
   ]
  },
  {
   "cell_type": "code",
   "execution_count": 3,
   "metadata": {},
   "outputs": [
    {
     "name": "stdout",
     "output_type": "stream",
     "text": [
      "utf-8\n",
      "0 nome: linus torvalds\n",
      "1 dt_nascimento: 28-dez-1969\n",
      "2 profissao: engenheiro de software\n",
      "3 \n",
      "4 nome: alan mathison turing\n",
      "5 dt_nascimento: 23-jun-1912\n",
      "6 profissao: matematico\n",
      "7 \n",
      "8 nome: timothy john berners-lee\n",
      "9 dt_nascimento: 12-mar-1989\n",
      "10 profissao: físico\n"
     ]
    }
   ],
   "source": [
    "with open('./pessoa.txt', 'r', encoding='utf-8') as file:\n",
    "    print(file.encoding)\n",
    "    for idx, line in enumerate(file):\n",
    "        print(idx, line.strip())"
   ]
  },
  {
   "cell_type": "code",
   "execution_count": 15,
   "metadata": {},
   "outputs": [
    {
     "name": "stdout",
     "output_type": "stream",
     "text": [
      "Nome: linus torvalds, Data de Nascimento: 28-dez-1969, Profissão: engenheiro de software\n",
      "Nome: alan mathison turing, Data de Nascimento: 23-jun-1912, Profissão: matematico\n",
      "Nome: timothy john berners-lee, Data de Nascimento: 12-mar-1989, Profissão: físico\n"
     ]
    }
   ],
   "source": [
    "def get_line_content(line):\n",
    "    return line.split(':')[1].strip()\n",
    "    \n",
    "with open('./pessoa.txt', 'r', encoding='utf-8') as file:\n",
    "    lines = file.readlines()\n",
    "    num_pessoas = len(lines) // 4 + 1\n",
    "    for i in range(num_pessoas):\n",
    "        idx = i * 4\n",
    "        nome = get_line_content(lines[idx])\n",
    "        dt_nascimento = get_line_content(lines[idx+1])\n",
    "        profissao = get_line_content(lines[idx+2])\n",
    "        pessoa = Pessoa(nome,dt_nascimento,profissao)\n",
    "        print(pessoa)\n",
    "    "
   ]
  },
  {
   "cell_type": "markdown",
   "metadata": {},
   "source": [
    "### Podemos importar arquivos csv da mesma forma, contudo é bem mais comum trabalharmos com numpy ou pandas para esses tipos de conjuntos de dados.\n",
    "### Repare que, ao realizar a leitura do arquivo csv usando pandas, temos acesso aos dados em formato de uma tabela, via a estrutura de dataframe."
   ]
  },
  {
   "cell_type": "code",
   "execution_count": 3,
   "metadata": {},
   "outputs": [
    {
     "data": {
      "text/html": [
       "<div>\n",
       "<style scoped>\n",
       "    .dataframe tbody tr th:only-of-type {\n",
       "        vertical-align: middle;\n",
       "    }\n",
       "\n",
       "    .dataframe tbody tr th {\n",
       "        vertical-align: top;\n",
       "    }\n",
       "\n",
       "    .dataframe thead th {\n",
       "        text-align: right;\n",
       "    }\n",
       "</style>\n",
       "<table border=\"1\" class=\"dataframe\">\n",
       "  <thead>\n",
       "    <tr style=\"text-align: right;\">\n",
       "      <th></th>\n",
       "      <th>nome</th>\n",
       "      <th>dt_nascimento</th>\n",
       "      <th>profissao</th>\n",
       "    </tr>\n",
       "  </thead>\n",
       "  <tbody>\n",
       "    <tr>\n",
       "      <th>0</th>\n",
       "      <td>linus torvalds</td>\n",
       "      <td>28-dez-1969</td>\n",
       "      <td>engenheiro de software</td>\n",
       "    </tr>\n",
       "    <tr>\n",
       "      <th>1</th>\n",
       "      <td>alan mathison turing</td>\n",
       "      <td>23-jun-1912</td>\n",
       "      <td>matemático</td>\n",
       "    </tr>\n",
       "    <tr>\n",
       "      <th>2</th>\n",
       "      <td>timothy john berners-lee</td>\n",
       "      <td>12-mar-1989</td>\n",
       "      <td>físico</td>\n",
       "    </tr>\n",
       "    <tr>\n",
       "      <th>3</th>\n",
       "      <td>lucas kupssinsku</td>\n",
       "      <td>25-01-1989</td>\n",
       "      <td>professor</td>\n",
       "    </tr>\n",
       "  </tbody>\n",
       "</table>\n",
       "</div>"
      ],
      "text/plain": [
       "                       nome dt_nascimento               profissao\n",
       "0            linus torvalds   28-dez-1969  engenheiro de software\n",
       "1      alan mathison turing   23-jun-1912              matemático\n",
       "2  timothy john berners-lee   12-mar-1989                  físico\n",
       "3          lucas kupssinsku    25-01-1989               professor"
      ]
     },
     "execution_count": 3,
     "metadata": {},
     "output_type": "execute_result"
    }
   ],
   "source": [
    "df = pd.read_csv('./pessoa.csv',sep=',')\n",
    "df"
   ]
  },
  {
   "cell_type": "code",
   "execution_count": 5,
   "metadata": {},
   "outputs": [
    {
     "name": "stdout",
     "output_type": "stream",
     "text": [
      "colunas Index(['nome', 'dt_nascimento', 'profissao'], dtype='object')\n",
      "<class 'pandas.core.frame.DataFrame'>\n",
      "RangeIndex: 4 entries, 0 to 3\n",
      "Data columns (total 3 columns):\n",
      " #   Column         Non-Null Count  Dtype \n",
      "---  ------         --------------  ----- \n",
      " 0   nome           4 non-null      object\n",
      " 1   dt_nascimento  4 non-null      object\n",
      " 2   profissao      4 non-null      object\n",
      "dtypes: object(3)\n",
      "memory usage: 228.0+ bytes\n"
     ]
    }
   ],
   "source": [
    "print('colunas', df.columns)\n",
    "df.info()\n"
   ]
  },
  {
   "cell_type": "markdown",
   "metadata": {},
   "source": [
    "### Podemos consultar de forma independente cada uma das colunas do dataframe"
   ]
  },
  {
   "cell_type": "code",
   "execution_count": 6,
   "metadata": {},
   "outputs": [
    {
     "data": {
      "text/plain": [
       "0              linus torvalds\n",
       "1        alan mathison turing\n",
       "2    timothy john berners-lee\n",
       "3            lucas kupssinsku\n",
       "Name: nome, dtype: object"
      ]
     },
     "execution_count": 6,
     "metadata": {},
     "output_type": "execute_result"
    }
   ],
   "source": [
    "df['nome']"
   ]
  },
  {
   "cell_type": "code",
   "execution_count": 7,
   "metadata": {},
   "outputs": [
    {
     "data": {
      "text/html": [
       "<div>\n",
       "<style scoped>\n",
       "    .dataframe tbody tr th:only-of-type {\n",
       "        vertical-align: middle;\n",
       "    }\n",
       "\n",
       "    .dataframe tbody tr th {\n",
       "        vertical-align: top;\n",
       "    }\n",
       "\n",
       "    .dataframe thead th {\n",
       "        text-align: right;\n",
       "    }\n",
       "</style>\n",
       "<table border=\"1\" class=\"dataframe\">\n",
       "  <thead>\n",
       "    <tr style=\"text-align: right;\">\n",
       "      <th></th>\n",
       "      <th>nome</th>\n",
       "      <th>dt_nascimento</th>\n",
       "      <th>profissao</th>\n",
       "    </tr>\n",
       "  </thead>\n",
       "  <tbody>\n",
       "    <tr>\n",
       "      <th>count</th>\n",
       "      <td>4</td>\n",
       "      <td>4</td>\n",
       "      <td>4</td>\n",
       "    </tr>\n",
       "    <tr>\n",
       "      <th>unique</th>\n",
       "      <td>4</td>\n",
       "      <td>4</td>\n",
       "      <td>4</td>\n",
       "    </tr>\n",
       "    <tr>\n",
       "      <th>top</th>\n",
       "      <td>linus torvalds</td>\n",
       "      <td>28-dez-1969</td>\n",
       "      <td>engenheiro de software</td>\n",
       "    </tr>\n",
       "    <tr>\n",
       "      <th>freq</th>\n",
       "      <td>1</td>\n",
       "      <td>1</td>\n",
       "      <td>1</td>\n",
       "    </tr>\n",
       "  </tbody>\n",
       "</table>\n",
       "</div>"
      ],
      "text/plain": [
       "                  nome dt_nascimento               profissao\n",
       "count                4             4                       4\n",
       "unique               4             4                       4\n",
       "top     linus torvalds   28-dez-1969  engenheiro de software\n",
       "freq                 1             1                       1"
      ]
     },
     "execution_count": 7,
     "metadata": {},
     "output_type": "execute_result"
    }
   ],
   "source": [
    "df.describe()"
   ]
  }
 ],
 "metadata": {
  "kernelspec": {
   "display_name": "meu_env",
   "language": "python",
   "name": "python3"
  },
  "language_info": {
   "codemirror_mode": {
    "name": "ipython",
    "version": 3
   },
   "file_extension": ".py",
   "mimetype": "text/x-python",
   "name": "python",
   "nbconvert_exporter": "python",
   "pygments_lexer": "ipython3",
   "version": "3.12.6"
  },
  "orig_nbformat": 4
 },
 "nbformat": 4,
 "nbformat_minor": 2
}
