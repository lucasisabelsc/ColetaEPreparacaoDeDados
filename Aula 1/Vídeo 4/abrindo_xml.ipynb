{
 "cells": [
  {
   "cell_type": "markdown",
   "metadata": {},
   "source": [
    "# Prática com XML\n",
    "\n",
    "Nesse notebook vamos aprender a realizar acesso a dados em formato xml."
   ]
  },
  {
   "cell_type": "markdown",
   "metadata": {},
   "source": [
    "### Importação das libs necessárias"
   ]
  },
  {
   "cell_type": "code",
   "execution_count": 10,
   "metadata": {},
   "outputs": [],
   "source": [
    "import pandas as pd\n",
    "import xml.etree.ElementTree as ET"
   ]
  },
  {
   "cell_type": "markdown",
   "metadata": {},
   "source": [
    "### xml.etree.ElementTree\n",
    "Módulo padrão de python para leitura de xml.\n",
    "Vamos abrir o arquivo xml de exemplo e exibir a raiz do arquivo. Percebam que a tag raiz do nosso exemplo não tem atributos."
   ]
  },
  {
   "cell_type": "code",
   "execution_count": 2,
   "metadata": {},
   "outputs": [
    {
     "name": "stdout",
     "output_type": "stream",
     "text": [
      "Tag raiz do arquivo: bookstore\n",
      "Atributos da tag raiz do arquivo: {}\n"
     ]
    }
   ],
   "source": [
    "xml_file = ET.parse('./exemplo01_xml')\n",
    "root_xml = xml_file.getroot()\n",
    "print(f'Tag raiz do arquivo: {root_xml.tag}')\n",
    "print(f'Atributos da tag raiz do arquivo: {root_xml.attrib}')"
   ]
  },
  {
   "cell_type": "markdown",
   "metadata": {},
   "source": [
    "Podemos iterar pelos filhos de *bookstore* e exibir seus conteúdos"
   ]
  },
  {
   "cell_type": "code",
   "execution_count": 8,
   "metadata": {},
   "outputs": [
    {
     "name": "stdout",
     "output_type": "stream",
     "text": [
      "Filho número 0\n",
      "  Tag: book\n",
      "  Atributos: {'category': 'cooking'}\n",
      "  title: Everyday Italian\n",
      "  author: Giada De Laurentiis\n",
      "  year: 2005\n",
      "  price: 30.00\n",
      "Filho número 1\n",
      "  Tag: book\n",
      "  Atributos: {'category': 'children'}\n",
      "  title: Harry Potter\n",
      "  author: J K. Rowling\n",
      "  year: 2005\n",
      "  price: 29.99\n",
      "Filho número 2\n",
      "  Tag: book\n",
      "  Atributos: {'category': 'web'}\n",
      "  title: Learning XML\n",
      "  author: Erik T. Ray\n",
      "  year: 2003\n",
      "  price: 39.95\n"
     ]
    }
   ],
   "source": [
    "for idx, child in enumerate(root_xml):\n",
    "    print(f'Filho número {idx}')\n",
    "    print(f'  Tag: {child.tag}')\n",
    "    print(f'  Atributos: {child.attrib}')\n",
    "    print(f'  title: {child[0].text}')\n",
    "    print(f'  author: {child[1].text}')\n",
    "    print(f'  year: {child[2].text}')\n",
    "    print(f'  price: {child[3].text}')"
   ]
  },
  {
   "cell_type": "markdown",
   "metadata": {},
   "source": [
    "Você consegue modificar a célula acima para exibir também as propriedades *author, year e price*?"
   ]
  },
  {
   "cell_type": "markdown",
   "metadata": {},
   "source": [
    "#### *iter* e *itertext*"
   ]
  },
  {
   "cell_type": "markdown",
   "metadata": {},
   "source": [
    "*iter* e *itertext* são funções interessantes para iterar pelos filhos de um nodo da árvore que representa o xml."
   ]
  },
  {
   "cell_type": "code",
   "execution_count": 8,
   "metadata": {},
   "outputs": [
    {
     "name": "stdout",
     "output_type": "stream",
     "text": [
      "Everyday Italian\n",
      "Harry Potter\n",
      "Learning XML\n"
     ]
    }
   ],
   "source": [
    "for title in root_xml.iter('title'):\n",
    "    print(title.text)"
   ]
  },
  {
   "cell_type": "markdown",
   "metadata": {},
   "source": [
    "Repare no exemplo abaixo que precisamos testar se a string não é vazia antes de usar o *print*. Isso é necessário pois temos diversas tags sem conteúdo texto em nosso arquivo de exemplo."
   ]
  },
  {
   "cell_type": "code",
   "execution_count": 9,
   "metadata": {},
   "outputs": [
    {
     "name": "stdout",
     "output_type": "stream",
     "text": [
      "Everyday Italian\n",
      "Giada De Laurentiis\n",
      "2005\n",
      "30.00\n",
      "Harry Potter\n",
      "J K. Rowling\n",
      "2005\n",
      "29.99\n",
      "Learning XML\n",
      "Erik T. Ray\n",
      "2003\n",
      "39.95\n"
     ]
    }
   ],
   "source": [
    "for text in root_xml.itertext():\n",
    "    if text.strip():\n",
    "        print(text)"
   ]
  },
  {
   "cell_type": "markdown",
   "metadata": {},
   "source": [
    "#### *find* e *findall*"
   ]
  },
  {
   "cell_type": "markdown",
   "metadata": {},
   "source": [
    "Para buscar entre os filhos diretos de um elemento podemos usar *find* e *findall*. A diferença entre eles é que *find* vai retornar apenas a primeira ocorrência da busca enquanto o *findall* retorna uma lista de resultados."
   ]
  },
  {
   "cell_type": "code",
   "execution_count": 10,
   "metadata": {},
   "outputs": [
    {
     "name": "stdout",
     "output_type": "stream",
     "text": [
      "Everyday Italian 30.00\n",
      "Harry Potter 29.99\n",
      "Learning XML 39.95\n"
     ]
    }
   ],
   "source": [
    "for book in root_xml.findall('book'):\n",
    "    title = book.find('title').text\n",
    "    price = book.find('price').text\n",
    "    print(title, price)\n"
   ]
  },
  {
   "cell_type": "markdown",
   "metadata": {},
   "source": [
    "### Usando pandas"
   ]
  },
  {
   "cell_type": "code",
   "execution_count": 12,
   "metadata": {},
   "outputs": [
    {
     "data": {
      "text/html": [
       "<div>\n",
       "<style scoped>\n",
       "    .dataframe tbody tr th:only-of-type {\n",
       "        vertical-align: middle;\n",
       "    }\n",
       "\n",
       "    .dataframe tbody tr th {\n",
       "        vertical-align: top;\n",
       "    }\n",
       "\n",
       "    .dataframe thead th {\n",
       "        text-align: right;\n",
       "    }\n",
       "</style>\n",
       "<table border=\"1\" class=\"dataframe\">\n",
       "  <thead>\n",
       "    <tr style=\"text-align: right;\">\n",
       "      <th></th>\n",
       "      <th>category</th>\n",
       "      <th>title</th>\n",
       "      <th>author</th>\n",
       "      <th>year</th>\n",
       "      <th>price</th>\n",
       "    </tr>\n",
       "  </thead>\n",
       "  <tbody>\n",
       "    <tr>\n",
       "      <th>0</th>\n",
       "      <td>cooking</td>\n",
       "      <td>Everyday Italian</td>\n",
       "      <td>Giada De Laurentiis</td>\n",
       "      <td>2005</td>\n",
       "      <td>30.00</td>\n",
       "    </tr>\n",
       "    <tr>\n",
       "      <th>1</th>\n",
       "      <td>children</td>\n",
       "      <td>Harry Potter</td>\n",
       "      <td>J K. Rowling</td>\n",
       "      <td>2005</td>\n",
       "      <td>29.99</td>\n",
       "    </tr>\n",
       "    <tr>\n",
       "      <th>2</th>\n",
       "      <td>web</td>\n",
       "      <td>Learning XML</td>\n",
       "      <td>Erik T. Ray</td>\n",
       "      <td>2003</td>\n",
       "      <td>39.95</td>\n",
       "    </tr>\n",
       "  </tbody>\n",
       "</table>\n",
       "</div>"
      ],
      "text/plain": [
       "   category             title               author  year  price\n",
       "0   cooking  Everyday Italian  Giada De Laurentiis  2005  30.00\n",
       "1  children      Harry Potter         J K. Rowling  2005  29.99\n",
       "2       web      Learning XML          Erik T. Ray  2003  39.95"
      ]
     },
     "execution_count": 12,
     "metadata": {},
     "output_type": "execute_result"
    }
   ],
   "source": [
    "pd.read_xml('./exemplo01_xml', encoding='utf-8')"
   ]
  },
  {
   "cell_type": "markdown",
   "metadata": {},
   "source": [
    "Podemos escolher importar somente atributos ou elementos. Para fazer isso usamos os parâmetros nomeados *elems_only* ou *attrs_only*."
   ]
  },
  {
   "cell_type": "code",
   "execution_count": 15,
   "metadata": {},
   "outputs": [
    {
     "data": {
      "text/html": [
       "<div>\n",
       "<style scoped>\n",
       "    .dataframe tbody tr th:only-of-type {\n",
       "        vertical-align: middle;\n",
       "    }\n",
       "\n",
       "    .dataframe tbody tr th {\n",
       "        vertical-align: top;\n",
       "    }\n",
       "\n",
       "    .dataframe thead th {\n",
       "        text-align: right;\n",
       "    }\n",
       "</style>\n",
       "<table border=\"1\" class=\"dataframe\">\n",
       "  <thead>\n",
       "    <tr style=\"text-align: right;\">\n",
       "      <th></th>\n",
       "      <th>title</th>\n",
       "      <th>author</th>\n",
       "      <th>year</th>\n",
       "      <th>price</th>\n",
       "    </tr>\n",
       "  </thead>\n",
       "  <tbody>\n",
       "    <tr>\n",
       "      <th>0</th>\n",
       "      <td>Everyday Italian</td>\n",
       "      <td>Giada De Laurentiis</td>\n",
       "      <td>2005</td>\n",
       "      <td>30.00</td>\n",
       "    </tr>\n",
       "    <tr>\n",
       "      <th>1</th>\n",
       "      <td>Harry Potter</td>\n",
       "      <td>J K. Rowling</td>\n",
       "      <td>2005</td>\n",
       "      <td>29.99</td>\n",
       "    </tr>\n",
       "    <tr>\n",
       "      <th>2</th>\n",
       "      <td>Learning XML</td>\n",
       "      <td>Erik T. Ray</td>\n",
       "      <td>2003</td>\n",
       "      <td>39.95</td>\n",
       "    </tr>\n",
       "  </tbody>\n",
       "</table>\n",
       "</div>"
      ],
      "text/plain": [
       "              title               author  year  price\n",
       "0  Everyday Italian  Giada De Laurentiis  2005  30.00\n",
       "1      Harry Potter         J K. Rowling  2005  29.99\n",
       "2      Learning XML          Erik T. Ray  2003  39.95"
      ]
     },
     "execution_count": 15,
     "metadata": {},
     "output_type": "execute_result"
    }
   ],
   "source": [
    "pd.read_xml('./exemplo01_xml', encoding='utf-8', elems_only=True)"
   ]
  },
  {
   "cell_type": "code",
   "execution_count": 16,
   "metadata": {},
   "outputs": [
    {
     "data": {
      "text/html": [
       "<div>\n",
       "<style scoped>\n",
       "    .dataframe tbody tr th:only-of-type {\n",
       "        vertical-align: middle;\n",
       "    }\n",
       "\n",
       "    .dataframe tbody tr th {\n",
       "        vertical-align: top;\n",
       "    }\n",
       "\n",
       "    .dataframe thead th {\n",
       "        text-align: right;\n",
       "    }\n",
       "</style>\n",
       "<table border=\"1\" class=\"dataframe\">\n",
       "  <thead>\n",
       "    <tr style=\"text-align: right;\">\n",
       "      <th></th>\n",
       "      <th>category</th>\n",
       "    </tr>\n",
       "  </thead>\n",
       "  <tbody>\n",
       "    <tr>\n",
       "      <th>0</th>\n",
       "      <td>cooking</td>\n",
       "    </tr>\n",
       "    <tr>\n",
       "      <th>1</th>\n",
       "      <td>children</td>\n",
       "    </tr>\n",
       "    <tr>\n",
       "      <th>2</th>\n",
       "      <td>web</td>\n",
       "    </tr>\n",
       "  </tbody>\n",
       "</table>\n",
       "</div>"
      ],
      "text/plain": [
       "   category\n",
       "0   cooking\n",
       "1  children\n",
       "2       web"
      ]
     },
     "execution_count": 16,
     "metadata": {},
     "output_type": "execute_result"
    }
   ],
   "source": [
    "pd.read_xml('./exemplo01_xml', encoding='utf-8', attrs_only=True)"
   ]
  }
 ],
 "metadata": {
  "kernelspec": {
   "display_name": "meu_env",
   "language": "python",
   "name": "python3"
  },
  "language_info": {
   "codemirror_mode": {
    "name": "ipython",
    "version": 3
   },
   "file_extension": ".py",
   "mimetype": "text/x-python",
   "name": "python",
   "nbconvert_exporter": "python",
   "pygments_lexer": "ipython3",
   "version": "3.12.6"
  },
  "orig_nbformat": 4
 },
 "nbformat": 4,
 "nbformat_minor": 2
}
