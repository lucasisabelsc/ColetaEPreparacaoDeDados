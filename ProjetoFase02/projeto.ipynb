{
 "cells": [
  {
   "cell_type": "markdown",
   "id": "1c7c5f1a",
   "metadata": {},
   "source": [
    "# Importação de Bibliotecas"
   ]
  },
  {
   "cell_type": "code",
   "execution_count": 72,
   "id": "87ec1acd",
   "metadata": {},
   "outputs": [],
   "source": [
    "import pandas as pd\n",
    "import numpy as np\n",
    "import matplotlib.pyplot as plt\n",
    "import seaborn as sns\n",
    "from scipy.stats import chi2_contingency, f_oneway\n",
    "pd.set_option('display.max_colwidth', None)\n",
    "pd.set_option('display.max_rows', 100)"
   ]
  },
  {
   "cell_type": "markdown",
   "id": "65cf36a9",
   "metadata": {},
   "source": [
    "# Leitura e Merge dos Dados"
   ]
  },
  {
   "cell_type": "code",
   "execution_count": 73,
   "id": "e189bd19",
   "metadata": {},
   "outputs": [],
   "source": [
    "dfs = []\n",
    "\n",
    "for ano in range(2016, 2021):\n",
    "    df = pd.read_csv(f'Base Finais/{ano}_f.csv')\n",
    "    df['ano'] = ano\n",
    "    dfs.append(df)\n",
    "\n",
    "dados = pd.concat(dfs, ignore_index=True)\n",
    "\n"
   ]
  },
  {
   "cell_type": "markdown",
   "id": "09a08a18",
   "metadata": {},
   "source": [
    "# Análise Inicial dos Dados"
   ]
  },
  {
   "cell_type": "code",
   "execution_count": 74,
   "id": "9848b24b",
   "metadata": {},
   "outputs": [
    {
     "data": {
      "text/html": [
       "<div>\n",
       "<style scoped>\n",
       "    .dataframe tbody tr th:only-of-type {\n",
       "        vertical-align: middle;\n",
       "    }\n",
       "\n",
       "    .dataframe tbody tr th {\n",
       "        vertical-align: top;\n",
       "    }\n",
       "\n",
       "    .dataframe thead th {\n",
       "        text-align: right;\n",
       "    }\n",
       "</style>\n",
       "<table border=\"1\" class=\"dataframe\">\n",
       "  <thead>\n",
       "    <tr style=\"text-align: right;\">\n",
       "      <th></th>\n",
       "      <th>A sua empresa oferece beneficios referentes a saude mental como parte dos beneficios de saude?</th>\n",
       "      <th>A sua empresa ja debateu saude mental formalmente (por exemplo, via um programa de concientizacao corporativo)?</th>\n",
       "      <th>A sua empresa oferece recursos para aprender mais sobre saude mental e alternativas para buscar ajuda?</th>\n",
       "      <th>A sua privacidade eh protegida se voce optar por um tratamento de saude mental oferecido pela sua empresa?</th>\n",
       "      <th>Caso voce sinta a necessidade de solicitar uma licenca do trabalho devido a saude mental, quao facil ou dificil seria fazer essa solicitacao?</th>\n",
       "      <th>Voce se sentiria confortavel discutindo uma questao de saude mental com o seu chefe direto?</th>\n",
       "      <th>Voce se sentiria confortavel discutindo uma questao de saude mental com os seus pares?</th>\n",
       "      <th>O quao propenso voce estaria em dividir com amigos e familiares que voce possui uma doenca mental?</th>\n",
       "      <th>Se voce revelou uma doenca mental para um cliente ou contato de negocio, como isso afetou voce e/ou o relacionamento?</th>\n",
       "      <th>Se voce revelou uma doenca mental para um para par ou funcionario, como isso afetou voce e/ou o relacionamento?</th>\n",
       "      <th>Idade</th>\n",
       "      <th>Genero</th>\n",
       "      <th>Qual pais voce reside?</th>\n",
       "      <th>Qual pais voce trabalha?</th>\n",
       "      <th>Voce ja foi diagnosticado com uma doenca mental?</th>\n",
       "      <th>Voce ja procurou tratamento profissional para uma doenca mental?</th>\n",
       "      <th>ano</th>\n",
       "    </tr>\n",
       "  </thead>\n",
       "  <tbody>\n",
       "    <tr>\n",
       "      <th>0</th>\n",
       "      <td>Nao elegivel</td>\n",
       "      <td>Nao</td>\n",
       "      <td>Nao</td>\n",
       "      <td>Eu nao sei</td>\n",
       "      <td>Muito Facil</td>\n",
       "      <td>Sim</td>\n",
       "      <td>Talvez</td>\n",
       "      <td>Um pouco aberto</td>\n",
       "      <td>NaN</td>\n",
       "      <td>NaN</td>\n",
       "      <td>39.0</td>\n",
       "      <td>Masculino</td>\n",
       "      <td>United Kingdom</td>\n",
       "      <td>United Kingdom</td>\n",
       "      <td>Sim</td>\n",
       "      <td>Nao</td>\n",
       "      <td>2016</td>\n",
       "    </tr>\n",
       "    <tr>\n",
       "      <th>1</th>\n",
       "      <td>Nao</td>\n",
       "      <td>Sim</td>\n",
       "      <td>Sim</td>\n",
       "      <td>Sim</td>\n",
       "      <td>Facil</td>\n",
       "      <td>Sim</td>\n",
       "      <td>Talvez</td>\n",
       "      <td>Um pouco aberto</td>\n",
       "      <td>NaN</td>\n",
       "      <td>NaN</td>\n",
       "      <td>29.0</td>\n",
       "      <td>masculino</td>\n",
       "      <td>United States</td>\n",
       "      <td>United States</td>\n",
       "      <td>Sim</td>\n",
       "      <td>Sim</td>\n",
       "      <td>2016</td>\n",
       "    </tr>\n",
       "    <tr>\n",
       "      <th>2</th>\n",
       "      <td>Nao</td>\n",
       "      <td>Nao</td>\n",
       "      <td>Nao</td>\n",
       "      <td>Eu nao sei</td>\n",
       "      <td>Nem facil nem dificil</td>\n",
       "      <td>Talvez</td>\n",
       "      <td>Talvez</td>\n",
       "      <td>Um pouco aberto</td>\n",
       "      <td>NaN</td>\n",
       "      <td>NaN</td>\n",
       "      <td>38.0</td>\n",
       "      <td>Masculino</td>\n",
       "      <td>United Kingdom</td>\n",
       "      <td>United Kingdom</td>\n",
       "      <td>Nao</td>\n",
       "      <td>Sim</td>\n",
       "      <td>2016</td>\n",
       "    </tr>\n",
       "    <tr>\n",
       "      <th>3</th>\n",
       "      <td>NaN</td>\n",
       "      <td>NaN</td>\n",
       "      <td>NaN</td>\n",
       "      <td>NaN</td>\n",
       "      <td>NaN</td>\n",
       "      <td>NaN</td>\n",
       "      <td>NaN</td>\n",
       "      <td>Neutro</td>\n",
       "      <td>Nao tenho certeza</td>\n",
       "      <td>Nao tenho certeza</td>\n",
       "      <td>43.0</td>\n",
       "      <td>masculino</td>\n",
       "      <td>United Kingdom</td>\n",
       "      <td>United Kingdom</td>\n",
       "      <td>Sim</td>\n",
       "      <td>Sim</td>\n",
       "      <td>2016</td>\n",
       "    </tr>\n",
       "    <tr>\n",
       "      <th>4</th>\n",
       "      <td>Sim</td>\n",
       "      <td>Nao</td>\n",
       "      <td>Nao</td>\n",
       "      <td>Nao</td>\n",
       "      <td>Nem facil nem dificil</td>\n",
       "      <td>Nao</td>\n",
       "      <td>Talvez</td>\n",
       "      <td>Um pouco aberto</td>\n",
       "      <td>NaN</td>\n",
       "      <td>NaN</td>\n",
       "      <td>43.0</td>\n",
       "      <td>Feminino</td>\n",
       "      <td>United States</td>\n",
       "      <td>United States</td>\n",
       "      <td>Sim</td>\n",
       "      <td>Sim</td>\n",
       "      <td>2016</td>\n",
       "    </tr>\n",
       "  </tbody>\n",
       "</table>\n",
       "</div>"
      ],
      "text/plain": [
       "  A sua empresa oferece beneficios referentes a saude mental como parte dos beneficios de saude?  \\\n",
       "0                                                                                   Nao elegivel   \n",
       "1                                                                                            Nao   \n",
       "2                                                                                            Nao   \n",
       "3                                                                                            NaN   \n",
       "4                                                                                            Sim   \n",
       "\n",
       "  A sua empresa ja debateu saude mental formalmente (por exemplo, via um programa de concientizacao corporativo)?  \\\n",
       "0                                                                                                             Nao   \n",
       "1                                                                                                             Sim   \n",
       "2                                                                                                             Nao   \n",
       "3                                                                                                             NaN   \n",
       "4                                                                                                             Nao   \n",
       "\n",
       "  A sua empresa oferece recursos para aprender mais sobre saude mental e alternativas para buscar ajuda?  \\\n",
       "0                                                                                                    Nao   \n",
       "1                                                                                                    Sim   \n",
       "2                                                                                                    Nao   \n",
       "3                                                                                                    NaN   \n",
       "4                                                                                                    Nao   \n",
       "\n",
       "  A sua privacidade eh protegida se voce optar por um tratamento de saude mental oferecido pela sua empresa?  \\\n",
       "0                                                                                                 Eu nao sei   \n",
       "1                                                                                                        Sim   \n",
       "2                                                                                                 Eu nao sei   \n",
       "3                                                                                                        NaN   \n",
       "4                                                                                                        Nao   \n",
       "\n",
       "  Caso voce sinta a necessidade de solicitar uma licenca do trabalho devido a saude mental, quao facil ou dificil seria fazer essa solicitacao?  \\\n",
       "0                                                                                                                                   Muito Facil   \n",
       "1                                                                                                                                         Facil   \n",
       "2                                                                                                                         Nem facil nem dificil   \n",
       "3                                                                                                                                           NaN   \n",
       "4                                                                                                                         Nem facil nem dificil   \n",
       "\n",
       "  Voce se sentiria confortavel discutindo uma questao de saude mental com o seu chefe direto?  \\\n",
       "0                                                                                         Sim   \n",
       "1                                                                                         Sim   \n",
       "2                                                                                      Talvez   \n",
       "3                                                                                         NaN   \n",
       "4                                                                                         Nao   \n",
       "\n",
       "  Voce se sentiria confortavel discutindo uma questao de saude mental com os seus pares?  \\\n",
       "0                                                                                 Talvez   \n",
       "1                                                                                 Talvez   \n",
       "2                                                                                 Talvez   \n",
       "3                                                                                    NaN   \n",
       "4                                                                                 Talvez   \n",
       "\n",
       "  O quao propenso voce estaria em dividir com amigos e familiares que voce possui uma doenca mental?  \\\n",
       "0                                                                                    Um pouco aberto   \n",
       "1                                                                                    Um pouco aberto   \n",
       "2                                                                                    Um pouco aberto   \n",
       "3                                                                                             Neutro   \n",
       "4                                                                                    Um pouco aberto   \n",
       "\n",
       "  Se voce revelou uma doenca mental para um cliente ou contato de negocio, como isso afetou voce e/ou o relacionamento?  \\\n",
       "0                                                                                                                   NaN   \n",
       "1                                                                                                                   NaN   \n",
       "2                                                                                                                   NaN   \n",
       "3                                                                                                     Nao tenho certeza   \n",
       "4                                                                                                                   NaN   \n",
       "\n",
       "  Se voce revelou uma doenca mental para um para par ou funcionario, como isso afetou voce e/ou o relacionamento?  \\\n",
       "0                                                                                                             NaN   \n",
       "1                                                                                                             NaN   \n",
       "2                                                                                                             NaN   \n",
       "3                                                                                               Nao tenho certeza   \n",
       "4                                                                                                             NaN   \n",
       "\n",
       "   Idade      Genero Qual pais voce reside? Qual pais voce trabalha?  \\\n",
       "0   39.0   Masculino         United Kingdom           United Kingdom   \n",
       "1   29.0   masculino          United States            United States   \n",
       "2   38.0  Masculino          United Kingdom           United Kingdom   \n",
       "3   43.0   masculino         United Kingdom           United Kingdom   \n",
       "4   43.0    Feminino          United States            United States   \n",
       "\n",
       "  Voce ja foi diagnosticado com uma doenca mental?  \\\n",
       "0                                              Sim   \n",
       "1                                              Sim   \n",
       "2                                              Nao   \n",
       "3                                              Sim   \n",
       "4                                              Sim   \n",
       "\n",
       "  Voce ja procurou tratamento profissional para uma doenca mental?   ano  \n",
       "0                                                              Nao  2016  \n",
       "1                                                              Sim  2016  \n",
       "2                                                              Sim  2016  \n",
       "3                                                              Sim  2016  \n",
       "4                                                              Sim  2016  "
      ]
     },
     "execution_count": 74,
     "metadata": {},
     "output_type": "execute_result"
    }
   ],
   "source": [
    "dados.head()"
   ]
  },
  {
   "cell_type": "markdown",
   "id": "200fc0b2",
   "metadata": {},
   "source": [
    "Os nomes das colunas são muito grandes e dificultam a visualização. Vamos usar o procedimento de criar um dicionário para essas perguntas."
   ]
  },
  {
   "cell_type": "code",
   "execution_count": 75,
   "id": "5054461c",
   "metadata": {},
   "outputs": [
    {
     "data": {
      "text/plain": [
       "Q1                                                    A sua empresa oferece beneficios referentes a saude mental como parte dos beneficios de saude?\n",
       "Q2                                   A sua empresa ja debateu saude mental formalmente (por exemplo, via um programa de concientizacao corporativo)?\n",
       "Q3                                            A sua empresa oferece recursos para aprender mais sobre saude mental e alternativas para buscar ajuda?\n",
       "Q4                                        A sua privacidade eh protegida se voce optar por um tratamento de saude mental oferecido pela sua empresa?\n",
       "Q5     Caso voce sinta a necessidade de solicitar uma licenca do trabalho devido a saude mental, quao facil ou dificil seria fazer essa solicitacao?\n",
       "Q6                                                       Voce se sentiria confortavel discutindo uma questao de saude mental com o seu chefe direto?\n",
       "Q7                                                            Voce se sentiria confortavel discutindo uma questao de saude mental com os seus pares?\n",
       "Q8                                                O quao propenso voce estaria em dividir com amigos e familiares que voce possui uma doenca mental?\n",
       "Q9                             Se voce revelou uma doenca mental para um cliente ou contato de negocio, como isso afetou voce e/ou o relacionamento?\n",
       "Q10                                  Se voce revelou uma doenca mental para um para par ou funcionario, como isso afetou voce e/ou o relacionamento?\n",
       "Q11                                                                                                                                            Idade\n",
       "Q12                                                                                                                                           Genero\n",
       "Q13                                                                                                                           Qual pais voce reside?\n",
       "Q14                                                                                                                         Qual pais voce trabalha?\n",
       "Q15                                                                                                 Voce ja foi diagnosticado com uma doenca mental?\n",
       "Q16                                                                                 Voce ja procurou tratamento profissional para uma doenca mental?\n",
       "Q17                                                                                                                                              ano\n",
       "dtype: object"
      ]
     },
     "execution_count": 75,
     "metadata": {},
     "output_type": "execute_result"
    }
   ],
   "source": [
    "chaves = ['Q{}'.format(i) for i in range(1,dados.shape[1]+1)]\n",
    "dicionario_colunas = pd.Series(dados.columns,index=chaves)\n",
    "dicionario_colunas"
   ]
  },
  {
   "cell_type": "code",
   "execution_count": 76,
   "id": "46d2137b",
   "metadata": {},
   "outputs": [
    {
     "data": {
      "text/html": [
       "<div>\n",
       "<style scoped>\n",
       "    .dataframe tbody tr th:only-of-type {\n",
       "        vertical-align: middle;\n",
       "    }\n",
       "\n",
       "    .dataframe tbody tr th {\n",
       "        vertical-align: top;\n",
       "    }\n",
       "\n",
       "    .dataframe thead th {\n",
       "        text-align: right;\n",
       "    }\n",
       "</style>\n",
       "<table border=\"1\" class=\"dataframe\">\n",
       "  <thead>\n",
       "    <tr style=\"text-align: right;\">\n",
       "      <th></th>\n",
       "      <th>Q1</th>\n",
       "      <th>Q2</th>\n",
       "      <th>Q3</th>\n",
       "      <th>Q4</th>\n",
       "      <th>Q5</th>\n",
       "      <th>Q6</th>\n",
       "      <th>Q7</th>\n",
       "      <th>Q8</th>\n",
       "      <th>Q9</th>\n",
       "      <th>Q10</th>\n",
       "      <th>Q11</th>\n",
       "      <th>Q12</th>\n",
       "      <th>Q13</th>\n",
       "      <th>Q14</th>\n",
       "      <th>Q15</th>\n",
       "      <th>Q16</th>\n",
       "      <th>Q17</th>\n",
       "    </tr>\n",
       "  </thead>\n",
       "  <tbody>\n",
       "    <tr>\n",
       "      <th>0</th>\n",
       "      <td>Nao elegivel</td>\n",
       "      <td>Nao</td>\n",
       "      <td>Nao</td>\n",
       "      <td>Eu nao sei</td>\n",
       "      <td>Muito Facil</td>\n",
       "      <td>Sim</td>\n",
       "      <td>Talvez</td>\n",
       "      <td>Um pouco aberto</td>\n",
       "      <td>NaN</td>\n",
       "      <td>NaN</td>\n",
       "      <td>39.0</td>\n",
       "      <td>Masculino</td>\n",
       "      <td>United Kingdom</td>\n",
       "      <td>United Kingdom</td>\n",
       "      <td>Sim</td>\n",
       "      <td>Nao</td>\n",
       "      <td>2016</td>\n",
       "    </tr>\n",
       "    <tr>\n",
       "      <th>1</th>\n",
       "      <td>Nao</td>\n",
       "      <td>Sim</td>\n",
       "      <td>Sim</td>\n",
       "      <td>Sim</td>\n",
       "      <td>Facil</td>\n",
       "      <td>Sim</td>\n",
       "      <td>Talvez</td>\n",
       "      <td>Um pouco aberto</td>\n",
       "      <td>NaN</td>\n",
       "      <td>NaN</td>\n",
       "      <td>29.0</td>\n",
       "      <td>masculino</td>\n",
       "      <td>United States</td>\n",
       "      <td>United States</td>\n",
       "      <td>Sim</td>\n",
       "      <td>Sim</td>\n",
       "      <td>2016</td>\n",
       "    </tr>\n",
       "    <tr>\n",
       "      <th>2</th>\n",
       "      <td>Nao</td>\n",
       "      <td>Nao</td>\n",
       "      <td>Nao</td>\n",
       "      <td>Eu nao sei</td>\n",
       "      <td>Nem facil nem dificil</td>\n",
       "      <td>Talvez</td>\n",
       "      <td>Talvez</td>\n",
       "      <td>Um pouco aberto</td>\n",
       "      <td>NaN</td>\n",
       "      <td>NaN</td>\n",
       "      <td>38.0</td>\n",
       "      <td>Masculino</td>\n",
       "      <td>United Kingdom</td>\n",
       "      <td>United Kingdom</td>\n",
       "      <td>Nao</td>\n",
       "      <td>Sim</td>\n",
       "      <td>2016</td>\n",
       "    </tr>\n",
       "    <tr>\n",
       "      <th>3</th>\n",
       "      <td>NaN</td>\n",
       "      <td>NaN</td>\n",
       "      <td>NaN</td>\n",
       "      <td>NaN</td>\n",
       "      <td>NaN</td>\n",
       "      <td>NaN</td>\n",
       "      <td>NaN</td>\n",
       "      <td>Neutro</td>\n",
       "      <td>Nao tenho certeza</td>\n",
       "      <td>Nao tenho certeza</td>\n",
       "      <td>43.0</td>\n",
       "      <td>masculino</td>\n",
       "      <td>United Kingdom</td>\n",
       "      <td>United Kingdom</td>\n",
       "      <td>Sim</td>\n",
       "      <td>Sim</td>\n",
       "      <td>2016</td>\n",
       "    </tr>\n",
       "    <tr>\n",
       "      <th>4</th>\n",
       "      <td>Sim</td>\n",
       "      <td>Nao</td>\n",
       "      <td>Nao</td>\n",
       "      <td>Nao</td>\n",
       "      <td>Nem facil nem dificil</td>\n",
       "      <td>Nao</td>\n",
       "      <td>Talvez</td>\n",
       "      <td>Um pouco aberto</td>\n",
       "      <td>NaN</td>\n",
       "      <td>NaN</td>\n",
       "      <td>43.0</td>\n",
       "      <td>Feminino</td>\n",
       "      <td>United States</td>\n",
       "      <td>United States</td>\n",
       "      <td>Sim</td>\n",
       "      <td>Sim</td>\n",
       "      <td>2016</td>\n",
       "    </tr>\n",
       "  </tbody>\n",
       "</table>\n",
       "</div>"
      ],
      "text/plain": [
       "             Q1   Q2   Q3          Q4                     Q5      Q6      Q7  \\\n",
       "0  Nao elegivel  Nao  Nao  Eu nao sei            Muito Facil     Sim  Talvez   \n",
       "1           Nao  Sim  Sim         Sim                  Facil     Sim  Talvez   \n",
       "2           Nao  Nao  Nao  Eu nao sei  Nem facil nem dificil  Talvez  Talvez   \n",
       "3           NaN  NaN  NaN         NaN                    NaN     NaN     NaN   \n",
       "4           Sim  Nao  Nao         Nao  Nem facil nem dificil     Nao  Talvez   \n",
       "\n",
       "                Q8                 Q9                Q10   Q11         Q12  \\\n",
       "0  Um pouco aberto                NaN                NaN  39.0   Masculino   \n",
       "1  Um pouco aberto                NaN                NaN  29.0   masculino   \n",
       "2  Um pouco aberto                NaN                NaN  38.0  Masculino    \n",
       "3           Neutro  Nao tenho certeza  Nao tenho certeza  43.0   masculino   \n",
       "4  Um pouco aberto                NaN                NaN  43.0    Feminino   \n",
       "\n",
       "              Q13             Q14  Q15  Q16   Q17  \n",
       "0  United Kingdom  United Kingdom  Sim  Nao  2016  \n",
       "1   United States   United States  Sim  Sim  2016  \n",
       "2  United Kingdom  United Kingdom  Nao  Sim  2016  \n",
       "3  United Kingdom  United Kingdom  Sim  Sim  2016  \n",
       "4   United States   United States  Sim  Sim  2016  "
      ]
     },
     "execution_count": 76,
     "metadata": {},
     "output_type": "execute_result"
    }
   ],
   "source": [
    "dados.columns = dicionario_colunas.index\n",
    "dados.columns\n",
    "dados.head() "
   ]
  },
  {
   "cell_type": "code",
   "execution_count": 77,
   "id": "388ff6f5",
   "metadata": {},
   "outputs": [
    {
     "name": "stdout",
     "output_type": "stream",
     "text": [
      "<class 'pandas.core.frame.DataFrame'>\n",
      "RangeIndex: 2739 entries, 0 to 2738\n",
      "Data columns (total 17 columns):\n",
      " #   Column  Non-Null Count  Dtype  \n",
      "---  ------  --------------  -----  \n",
      " 0   Q1      2315 non-null   object \n",
      " 1   Q2      2315 non-null   object \n",
      " 2   Q3      2315 non-null   object \n",
      " 3   Q4      2315 non-null   object \n",
      " 4   Q5      2315 non-null   object \n",
      " 5   Q6      2315 non-null   object \n",
      " 6   Q7      2315 non-null   object \n",
      " 7   Q8      2739 non-null   object \n",
      " 8   Q9      196 non-null    object \n",
      " 9   Q10     424 non-null    object \n",
      " 10  Q11     2739 non-null   float64\n",
      " 11  Q12     2719 non-null   object \n",
      " 12  Q13     2739 non-null   object \n",
      " 13  Q14     2739 non-null   object \n",
      " 14  Q15     1927 non-null   object \n",
      " 15  Q16     2739 non-null   object \n",
      " 16  Q17     2739 non-null   int64  \n",
      "dtypes: float64(1), int64(1), object(15)\n",
      "memory usage: 363.9+ KB\n"
     ]
    }
   ],
   "source": [
    "dados.info()"
   ]
  },
  {
   "cell_type": "code",
   "execution_count": 78,
   "id": "549c6476",
   "metadata": {},
   "outputs": [
    {
     "name": "stdout",
     "output_type": "stream",
     "text": [
      "Q1: 424 valores ausentes\n",
      "Q2: 424 valores ausentes\n",
      "Q3: 424 valores ausentes\n",
      "Q4: 424 valores ausentes\n",
      "Q5: 424 valores ausentes\n",
      "Q6: 424 valores ausentes\n",
      "Q7: 424 valores ausentes\n",
      "Q8: 0 valores ausentes\n",
      "Q9: 2543 valores ausentes\n",
      "Q10: 2315 valores ausentes\n",
      "Q11: 0 valores ausentes\n",
      "Q12: 20 valores ausentes\n",
      "Q13: 0 valores ausentes\n",
      "Q14: 0 valores ausentes\n",
      "Q15: 812 valores ausentes\n",
      "Q16: 0 valores ausentes\n",
      "Q17: 0 valores ausentes\n"
     ]
    }
   ],
   "source": [
    "for col in dados.columns:\n",
    "    print(f'{col}: {dados[col].isnull().sum()} valores ausentes')"
   ]
  },
  {
   "cell_type": "code",
   "execution_count": 79,
   "id": "b1cf78f2",
   "metadata": {},
   "outputs": [
    {
     "data": {
      "image/png": "[encoded data removed]",
      "text/plain": [
       "<Figure size 640x480 with 2 Axes>"
      ]
     },
     "metadata": {},
     "output_type": "display_data"
    }
   ],
   "source": [
    "sns.heatmap(dados.isna())\n",
    "plt.show()"
   ]
  },
  {
   "cell_type": "markdown",
   "id": "dcac72e1",
   "metadata": {},
   "source": [
    "# Limpeza dos Dados"
   ]
  },
  {
   "cell_type": "markdown",
   "id": "4ed1159d",
   "metadata": {},
   "source": [
    "Vemos os principais problemas nas colunas Q9, Q10 e Q15, além de várias linhas com dados faltantes de Q1 a Q7"
   ]
  },
  {
   "cell_type": "code",
   "execution_count": 86,
   "id": "6c15cda9",
   "metadata": {},
   "outputs": [
    {
     "name": "stdout",
     "output_type": "stream",
     "text": [
      "Se voce revelou uma doenca mental para um cliente ou contato de negocio, como isso afetou voce e/ou o relacionamento?\n",
      "Se voce revelou uma doenca mental para um para par ou funcionario, como isso afetou voce e/ou o relacionamento?\n",
      "Voce ja foi diagnosticado com uma doenca mental?\n"
     ]
    }
   ],
   "source": [
    "print(dicionario_colunas.Q9)\n",
    "print(dicionario_colunas.Q10)\n",
    "print(dicionario_colunas.Q15)"
   ]
  },
  {
   "cell_type": "markdown",
   "id": "4c04f9f8",
   "metadata": {},
   "source": [
    "Percebe-se que as perguntas Q9 e Q10 tem muitos dados faltantes por serem perguntas que não se aplicam a todo mundo, apenas à \"se você revelou uma doença mental\"."
   ]
  },
  {
   "cell_type": "markdown",
   "id": "af590a54",
   "metadata": {},
   "source": [
    "## Coluna Q15"
   ]
  },
  {
   "cell_type": "markdown",
   "id": "9ee94b44",
   "metadata": {},
   "source": [
    "Vou tentar entender por que os dados Q15 têm essa quebra."
   ]
  },
  {
   "cell_type": "code",
   "execution_count": 87,
   "id": "14950470",
   "metadata": {},
   "outputs": [
    {
     "data": {
      "text/plain": [
       "Q17\n",
       "2017    314\n",
       "2018    168\n",
       "2019    136\n",
       "2020     94\n",
       "Name: count, dtype: int64"
      ]
     },
     "execution_count": 87,
     "metadata": {},
     "output_type": "execute_result"
    }
   ],
   "source": [
    "dados[dados.Q15.isna()].Q17.value_counts()"
   ]
  },
  {
   "cell_type": "markdown",
   "id": "939ecbf0",
   "metadata": {},
   "source": [
    "Em 2016 não temos nenhum dado faltante na coluna Q15, nos demais anos temos muitos"
   ]
  },
  {
   "cell_type": "code",
   "execution_count": 88,
   "id": "26c3031b",
   "metadata": {},
   "outputs": [
    {
     "data": {
      "text/plain": [
       "Q15\n",
       "Sim    1087\n",
       "Nao     516\n",
       "Name: count, dtype: int64"
      ]
     },
     "execution_count": 88,
     "metadata": {},
     "output_type": "execute_result"
    }
   ],
   "source": [
    "dados.Q15.value_counts()"
   ]
  },
  {
   "cell_type": "markdown",
   "id": "3a7b06f0",
   "metadata": {},
   "source": [
    "## Linhas Faltantes"
   ]
  },
  {
   "cell_type": "code",
   "execution_count": 89,
   "id": "da1b9490",
   "metadata": {},
   "outputs": [
    {
     "data": {
      "text/html": [
       "<div>\n",
       "<style scoped>\n",
       "    .dataframe tbody tr th:only-of-type {\n",
       "        vertical-align: middle;\n",
       "    }\n",
       "\n",
       "    .dataframe tbody tr th {\n",
       "        vertical-align: top;\n",
       "    }\n",
       "\n",
       "    .dataframe thead th {\n",
       "        text-align: right;\n",
       "    }\n",
       "</style>\n",
       "<table border=\"1\" class=\"dataframe\">\n",
       "  <thead>\n",
       "    <tr style=\"text-align: right;\">\n",
       "      <th></th>\n",
       "      <th>Q1</th>\n",
       "      <th>Q2</th>\n",
       "      <th>Q3</th>\n",
       "      <th>Q4</th>\n",
       "      <th>Q5</th>\n",
       "      <th>Q6</th>\n",
       "      <th>Q7</th>\n",
       "      <th>Q8</th>\n",
       "      <th>Q9</th>\n",
       "      <th>Q10</th>\n",
       "      <th>Q11</th>\n",
       "      <th>Q12</th>\n",
       "      <th>Q13</th>\n",
       "      <th>Q14</th>\n",
       "      <th>Q15</th>\n",
       "      <th>Q16</th>\n",
       "      <th>Q17</th>\n",
       "    </tr>\n",
       "  </thead>\n",
       "  <tbody>\n",
       "  </tbody>\n",
       "</table>\n",
       "</div>"
      ],
      "text/plain": [
       "Empty DataFrame\n",
       "Columns: [Q1, Q2, Q3, Q4, Q5, Q6, Q7, Q8, Q9, Q10, Q11, Q12, Q13, Q14, Q15, Q16, Q17]\n",
       "Index: []"
      ]
     },
     "execution_count": 89,
     "metadata": {},
     "output_type": "execute_result"
    }
   ],
   "source": [
    "dados[dados[['Q1', 'Q2', 'Q3', 'Q4', 'Q5', 'Q6']].isnull().any(axis=1)]"
   ]
  },
  {
   "cell_type": "code",
   "execution_count": 90,
   "id": "86e7cc40",
   "metadata": {},
   "outputs": [
    {
     "name": "stdout",
     "output_type": "stream",
     "text": [
      "Q1                                                    A sua empresa oferece beneficios referentes a saude mental como parte dos beneficios de saude?\n",
      "Q2                                   A sua empresa ja debateu saude mental formalmente (por exemplo, via um programa de concientizacao corporativo)?\n",
      "Q3                                            A sua empresa oferece recursos para aprender mais sobre saude mental e alternativas para buscar ajuda?\n",
      "Q4                                        A sua privacidade eh protegida se voce optar por um tratamento de saude mental oferecido pela sua empresa?\n",
      "Q5     Caso voce sinta a necessidade de solicitar uma licenca do trabalho devido a saude mental, quao facil ou dificil seria fazer essa solicitacao?\n",
      "Q6                                                       Voce se sentiria confortavel discutindo uma questao de saude mental com o seu chefe direto?\n",
      "Q7                                                            Voce se sentiria confortavel discutindo uma questao de saude mental com os seus pares?\n",
      "Q8                                                O quao propenso voce estaria em dividir com amigos e familiares que voce possui uma doenca mental?\n",
      "Q9                             Se voce revelou uma doenca mental para um cliente ou contato de negocio, como isso afetou voce e/ou o relacionamento?\n",
      "Q10                                  Se voce revelou uma doenca mental para um para par ou funcionario, como isso afetou voce e/ou o relacionamento?\n",
      "Q11                                                                                                                                            Idade\n",
      "Q12                                                                                                                                           Genero\n",
      "Q13                                                                                                                           Qual pais voce reside?\n",
      "Q14                                                                                                                         Qual pais voce trabalha?\n",
      "Q15                                                                                                 Voce ja foi diagnosticado com uma doenca mental?\n",
      "Q16                                                                                 Voce ja procurou tratamento profissional para uma doenca mental?\n",
      "Q17                                                                                                                                              ano\n",
      "dtype: object\n"
     ]
    }
   ],
   "source": [
    "print(dicionario_colunas)"
   ]
  },
  {
   "cell_type": "markdown",
   "id": "3967663b",
   "metadata": {},
   "source": [
    "Como a Q1 será muito importante para a análise da Pergunta 5 proposta no Projeto, optei por excluir as linhas que não posuem essa resposta"
   ]
  },
  {
   "cell_type": "code",
   "execution_count": 91,
   "id": "833047a2",
   "metadata": {},
   "outputs": [],
   "source": [
    "dados.dropna(subset=['Q1'], inplace=True)"
   ]
  },
  {
   "cell_type": "markdown",
   "id": "c1f7ae80",
   "metadata": {},
   "source": [
    "# Redução dos Dados"
   ]
  },
  {
   "cell_type": "markdown",
   "id": "54342606",
   "metadata": {},
   "source": [
    "Vamos reduzir o banco para apenas as colunas relacionadas às nossas perguntas"
   ]
  },
  {
   "cell_type": "code",
   "execution_count": 92,
   "id": "987d921c",
   "metadata": {},
   "outputs": [
    {
     "data": {
      "text/plain": [
       "Q1                                                    A sua empresa oferece beneficios referentes a saude mental como parte dos beneficios de saude?\n",
       "Q2                                   A sua empresa ja debateu saude mental formalmente (por exemplo, via um programa de concientizacao corporativo)?\n",
       "Q3                                            A sua empresa oferece recursos para aprender mais sobre saude mental e alternativas para buscar ajuda?\n",
       "Q4                                        A sua privacidade eh protegida se voce optar por um tratamento de saude mental oferecido pela sua empresa?\n",
       "Q5     Caso voce sinta a necessidade de solicitar uma licenca do trabalho devido a saude mental, quao facil ou dificil seria fazer essa solicitacao?\n",
       "Q6                                                       Voce se sentiria confortavel discutindo uma questao de saude mental com o seu chefe direto?\n",
       "Q7                                                            Voce se sentiria confortavel discutindo uma questao de saude mental com os seus pares?\n",
       "Q8                                                O quao propenso voce estaria em dividir com amigos e familiares que voce possui uma doenca mental?\n",
       "Q9                             Se voce revelou uma doenca mental para um cliente ou contato de negocio, como isso afetou voce e/ou o relacionamento?\n",
       "Q10                                  Se voce revelou uma doenca mental para um para par ou funcionario, como isso afetou voce e/ou o relacionamento?\n",
       "Q11                                                                                                                                            Idade\n",
       "Q12                                                                                                                                           Genero\n",
       "Q13                                                                                                                           Qual pais voce reside?\n",
       "Q14                                                                                                                         Qual pais voce trabalha?\n",
       "Q15                                                                                                 Voce ja foi diagnosticado com uma doenca mental?\n",
       "Q16                                                                                 Voce ja procurou tratamento profissional para uma doenca mental?\n",
       "Q17                                                                                                                                              ano\n",
       "dtype: object"
      ]
     },
     "execution_count": 92,
     "metadata": {},
     "output_type": "execute_result"
    }
   ],
   "source": [
    "dicionario_colunas"
   ]
  },
  {
   "cell_type": "markdown",
   "id": "25752eb4",
   "metadata": {},
   "source": [
    "As perguntas de Q2 a Q8 serão eliminadas"
   ]
  },
  {
   "cell_type": "code",
   "execution_count": 93,
   "id": "62f3395e",
   "metadata": {},
   "outputs": [
    {
     "data": {
      "text/html": [
       "<div>\n",
       "<style scoped>\n",
       "    .dataframe tbody tr th:only-of-type {\n",
       "        vertical-align: middle;\n",
       "    }\n",
       "\n",
       "    .dataframe tbody tr th {\n",
       "        vertical-align: top;\n",
       "    }\n",
       "\n",
       "    .dataframe thead th {\n",
       "        text-align: right;\n",
       "    }\n",
       "</style>\n",
       "<table border=\"1\" class=\"dataframe\">\n",
       "  <thead>\n",
       "    <tr style=\"text-align: right;\">\n",
       "      <th></th>\n",
       "      <th>Q1</th>\n",
       "      <th>Q9</th>\n",
       "      <th>Q10</th>\n",
       "      <th>Q11</th>\n",
       "      <th>Q12</th>\n",
       "      <th>Q13</th>\n",
       "      <th>Q14</th>\n",
       "      <th>Q15</th>\n",
       "      <th>Q16</th>\n",
       "      <th>Q17</th>\n",
       "    </tr>\n",
       "  </thead>\n",
       "  <tbody>\n",
       "    <tr>\n",
       "      <th>0</th>\n",
       "      <td>Nao elegivel</td>\n",
       "      <td>NaN</td>\n",
       "      <td>NaN</td>\n",
       "      <td>39.0</td>\n",
       "      <td>Masculino</td>\n",
       "      <td>United Kingdom</td>\n",
       "      <td>United Kingdom</td>\n",
       "      <td>Sim</td>\n",
       "      <td>Nao</td>\n",
       "      <td>2016</td>\n",
       "    </tr>\n",
       "    <tr>\n",
       "      <th>1</th>\n",
       "      <td>Nao</td>\n",
       "      <td>NaN</td>\n",
       "      <td>NaN</td>\n",
       "      <td>29.0</td>\n",
       "      <td>masculino</td>\n",
       "      <td>United States</td>\n",
       "      <td>United States</td>\n",
       "      <td>Sim</td>\n",
       "      <td>Sim</td>\n",
       "      <td>2016</td>\n",
       "    </tr>\n",
       "    <tr>\n",
       "      <th>2</th>\n",
       "      <td>Nao</td>\n",
       "      <td>NaN</td>\n",
       "      <td>NaN</td>\n",
       "      <td>38.0</td>\n",
       "      <td>Masculino</td>\n",
       "      <td>United Kingdom</td>\n",
       "      <td>United Kingdom</td>\n",
       "      <td>Nao</td>\n",
       "      <td>Sim</td>\n",
       "      <td>2016</td>\n",
       "    </tr>\n",
       "    <tr>\n",
       "      <th>4</th>\n",
       "      <td>Sim</td>\n",
       "      <td>NaN</td>\n",
       "      <td>NaN</td>\n",
       "      <td>43.0</td>\n",
       "      <td>Feminino</td>\n",
       "      <td>United States</td>\n",
       "      <td>United States</td>\n",
       "      <td>Sim</td>\n",
       "      <td>Sim</td>\n",
       "      <td>2016</td>\n",
       "    </tr>\n",
       "    <tr>\n",
       "      <th>5</th>\n",
       "      <td>Sim</td>\n",
       "      <td>NaN</td>\n",
       "      <td>NaN</td>\n",
       "      <td>42.0</td>\n",
       "      <td>Masculino</td>\n",
       "      <td>United Kingdom</td>\n",
       "      <td>United Kingdom</td>\n",
       "      <td>Nao</td>\n",
       "      <td>Sim</td>\n",
       "      <td>2016</td>\n",
       "    </tr>\n",
       "  </tbody>\n",
       "</table>\n",
       "</div>"
      ],
      "text/plain": [
       "             Q1   Q9  Q10   Q11         Q12             Q13             Q14  \\\n",
       "0  Nao elegivel  NaN  NaN  39.0   Masculino  United Kingdom  United Kingdom   \n",
       "1           Nao  NaN  NaN  29.0   masculino   United States   United States   \n",
       "2           Nao  NaN  NaN  38.0  Masculino   United Kingdom  United Kingdom   \n",
       "4           Sim  NaN  NaN  43.0    Feminino   United States   United States   \n",
       "5           Sim  NaN  NaN  42.0   Masculino  United Kingdom  United Kingdom   \n",
       "\n",
       "   Q15  Q16   Q17  \n",
       "0  Sim  Nao  2016  \n",
       "1  Sim  Sim  2016  \n",
       "2  Nao  Sim  2016  \n",
       "4  Sim  Sim  2016  \n",
       "5  Nao  Sim  2016  "
      ]
     },
     "execution_count": 93,
     "metadata": {},
     "output_type": "execute_result"
    }
   ],
   "source": [
    "colunas_remover = dados.loc[:,'Q2':'Q8'].columns\n",
    "dados_reduzidos = dados.drop(columns=colunas_remover)\n",
    "dados_reduzidos.head()"
   ]
  },
  {
   "cell_type": "code",
   "execution_count": 94,
   "id": "1089d5e8",
   "metadata": {},
   "outputs": [
    {
     "data": {
      "text/plain": [
       "Q1                            A sua empresa oferece beneficios referentes a saude mental como parte dos beneficios de saude?\n",
       "Q9     Se voce revelou uma doenca mental para um cliente ou contato de negocio, como isso afetou voce e/ou o relacionamento?\n",
       "Q10          Se voce revelou uma doenca mental para um para par ou funcionario, como isso afetou voce e/ou o relacionamento?\n",
       "Q11                                                                                                                    Idade\n",
       "Q12                                                                                                                   Genero\n",
       "Q13                                                                                                   Qual pais voce reside?\n",
       "Q14                                                                                                 Qual pais voce trabalha?\n",
       "Q15                                                                         Voce ja foi diagnosticado com uma doenca mental?\n",
       "Q16                                                         Voce ja procurou tratamento profissional para uma doenca mental?\n",
       "Q17                                                                                                                      ano\n",
       "dtype: object"
      ]
     },
     "execution_count": 94,
     "metadata": {},
     "output_type": "execute_result"
    }
   ],
   "source": [
    "dicionario_reduzido = dicionario_colunas[dados_reduzidos.columns]\n",
    "dicionario_reduzido"
   ]
  },
  {
   "cell_type": "markdown",
   "id": "86e390ff",
   "metadata": {},
   "source": [
    "# Transformação de Dados"
   ]
  },
  {
   "cell_type": "markdown",
   "id": "bbfae068",
   "metadata": {},
   "source": [
    "## Q1"
   ]
  },
  {
   "cell_type": "code",
   "execution_count": 95,
   "id": "039f6c21",
   "metadata": {},
   "outputs": [
    {
     "name": "stdout",
     "output_type": "stream",
     "text": [
      "A sua empresa oferece beneficios referentes a saude mental como parte dos beneficios de saude?\n",
      "Q1\n",
      "Sim                  1276\n",
      "Eu nao sei            624\n",
      "Nao                   295\n",
      "Nao elegivel           66\n",
      "Nao elegivel - NA      54\n",
      "Name: count, dtype: int64\n",
      "0\n"
     ]
    }
   ],
   "source": [
    "print(dicionario_colunas.Q1)\n",
    "print(dados_reduzidos.Q1.value_counts())\n",
    "print(dados_reduzidos.Q1.isna().sum())"
   ]
  },
  {
   "cell_type": "code",
   "execution_count": 96,
   "id": "3710e7bd",
   "metadata": {},
   "outputs": [],
   "source": [
    "mapeamento_q1 = {\n",
    "    \"Sim\": \"Sim\",\n",
    "    \"Nao\": \"Não\",\n",
    "    \"Eu nao sei\": \"Não sei\",\n",
    "    \"Nao elegivel\": \"Não Aplica\",\n",
    "    \"Nao elegivel - NA\": \"Não Aplica\"\n",
    "}\n",
    "\n",
    "dados_reduzidos['Q1'] = dados_reduzidos['Q1'].replace(mapeamento_q1)"
   ]
  },
  {
   "cell_type": "code",
   "execution_count": 97,
   "id": "c8aeb01e",
   "metadata": {},
   "outputs": [
    {
     "name": "stdout",
     "output_type": "stream",
     "text": [
      "A sua empresa oferece beneficios referentes a saude mental como parte dos beneficios de saude?\n",
      "Q1\n",
      "Sim           1276\n",
      "Não sei        624\n",
      "Não            295\n",
      "Não Aplica     120\n",
      "Name: count, dtype: int64\n",
      "0\n"
     ]
    }
   ],
   "source": [
    "print(dicionario_colunas.Q1)\n",
    "print(dados_reduzidos.Q1.value_counts())\n",
    "print(dados_reduzidos.Q1.isna().sum())"
   ]
  },
  {
   "cell_type": "markdown",
   "id": "255b051f",
   "metadata": {},
   "source": [
    "## Q9"
   ]
  },
  {
   "cell_type": "code",
   "execution_count": 98,
   "id": "82c94501",
   "metadata": {},
   "outputs": [
    {
     "name": "stdout",
     "output_type": "stream",
     "text": [
      "Shape: (2315, 10)\n",
      "Se voce revelou uma doenca mental para um cliente ou contato de negocio, como isso afetou voce e/ou o relacionamento?\n",
      "Series([], Name: count, dtype: int64)\n",
      "2315\n"
     ]
    }
   ],
   "source": [
    "print(f'Shape: {dados_reduzidos.shape}')\n",
    "print(dicionario_colunas.Q9)\n",
    "print(dados_reduzidos.Q9.value_counts())\n",
    "print(dados_reduzidos.Q9.isna().sum())"
   ]
  },
  {
   "cell_type": "code",
   "execution_count": 99,
   "id": "5ec98864",
   "metadata": {},
   "outputs": [
    {
     "data": {
      "text/plain": [
       "Q9\n",
       "Não Aplica    2315\n",
       "Name: count, dtype: int64"
      ]
     },
     "execution_count": 99,
     "metadata": {},
     "output_type": "execute_result"
    }
   ],
   "source": [
    "dados_reduzidos.Q9 = dados_reduzidos.Q9.fillna('Não Aplica')\n",
    "dados_reduzidos.Q9.value_counts()"
   ]
  },
  {
   "cell_type": "markdown",
   "id": "e031e663",
   "metadata": {},
   "source": [
    "## Q10"
   ]
  },
  {
   "cell_type": "code",
   "execution_count": 100,
   "id": "871ceff5",
   "metadata": {},
   "outputs": [
    {
     "name": "stdout",
     "output_type": "stream",
     "text": [
      "Shape: (2315, 10)\n",
      "Se voce revelou uma doenca mental para um para par ou funcionario, como isso afetou voce e/ou o relacionamento?\n",
      "Series([], Name: count, dtype: int64)\n",
      "2315\n"
     ]
    }
   ],
   "source": [
    "print(f'Shape: {dados_reduzidos.shape}')\n",
    "print(dicionario_colunas.Q10)\n",
    "print(dados_reduzidos.Q10.value_counts())\n",
    "print(dados_reduzidos.Q10.isna().sum())"
   ]
  },
  {
   "cell_type": "code",
   "execution_count": 101,
   "id": "af97171c",
   "metadata": {},
   "outputs": [
    {
     "data": {
      "text/plain": [
       "Q10\n",
       "Não Aplica    2315\n",
       "Name: count, dtype: int64"
      ]
     },
     "execution_count": 101,
     "metadata": {},
     "output_type": "execute_result"
    }
   ],
   "source": [
    "dados_reduzidos.Q10 = dados_reduzidos.Q10.fillna('Não Aplica')\n",
    "dados_reduzidos.Q10.value_counts()"
   ]
  },
  {
   "cell_type": "markdown",
   "id": "aa674ad2",
   "metadata": {},
   "source": [
    "## Q11"
   ]
  },
  {
   "cell_type": "code",
   "execution_count": 102,
   "id": "975da574",
   "metadata": {},
   "outputs": [
    {
     "name": "stdout",
     "output_type": "stream",
     "text": [
      "Shape: (2315, 10)\n",
      "Idade\n",
      "Q11\n",
      "30.0     149\n",
      "28.0     129\n",
      "32.0     125\n",
      "35.0     112\n",
      "37.0     109\n",
      "29.0     108\n",
      "31.0     107\n",
      "27.0     106\n",
      "34.0     105\n",
      "33.0      98\n",
      "26.0      96\n",
      "39.0      86\n",
      "36.0      81\n",
      "38.0      78\n",
      "40.0      76\n",
      "42.0      72\n",
      "25.0      71\n",
      "24.0      67\n",
      "41.0      52\n",
      "44.0      50\n",
      "45.0      50\n",
      "22.0      48\n",
      "23.0      48\n",
      "43.0      34\n",
      "46.0      34\n",
      "47.0      30\n",
      "49.0      25\n",
      "21.0      22\n",
      "48.0      17\n",
      "50.0      15\n",
      "51.0      13\n",
      "52.0      13\n",
      "55.0      12\n",
      "53.0      11\n",
      "20.0      10\n",
      "54.0       7\n",
      "57.0       7\n",
      "19.0       7\n",
      "61.0       5\n",
      "62.0       4\n",
      "56.0       4\n",
      "63.0       3\n",
      "59.0       3\n",
      "66.0       2\n",
      "60.0       2\n",
      "58.0       2\n",
      "3.0        1\n",
      "17.0       1\n",
      "323.0      1\n",
      "74.0       1\n",
      "70.0       1\n",
      "18.0       1\n",
      "64.0       1\n",
      "99.0       1\n",
      "65.0       1\n",
      "0.0        1\n",
      "Name: count, dtype: int64\n",
      "0\n"
     ]
    }
   ],
   "source": [
    "print(f'Shape: {dados_reduzidos.shape}')\n",
    "print(dicionario_colunas.Q11)\n",
    "print(dados_reduzidos.Q11.value_counts())\n",
    "print(dados_reduzidos.Q11.isna().sum())"
   ]
  },
  {
   "cell_type": "markdown",
   "id": "8e2267ca",
   "metadata": {},
   "source": [
    "Não temos dados faltantes, mas tem um dado com idade 0. Vamos substituir esse numero pela média"
   ]
  },
  {
   "cell_type": "code",
   "execution_count": 103,
   "id": "66e61fa3",
   "metadata": {},
   "outputs": [
    {
     "data": {
      "text/plain": [
       "np.float64(34.0)"
      ]
     },
     "execution_count": 103,
     "metadata": {},
     "output_type": "execute_result"
    }
   ],
   "source": [
    "media_idade = dados_reduzidos[dados_reduzidos['Q11'] != 0]['Q11'].mean().round(0)\n",
    "media_idade"
   ]
  },
  {
   "cell_type": "code",
   "execution_count": 104,
   "id": "9a322f7f",
   "metadata": {},
   "outputs": [
    {
     "data": {
      "text/plain": [
       "Q11\n",
       "17.0      1\n",
       "18.0      1\n",
       "19.0      7\n",
       "20.0     10\n",
       "21.0     22\n",
       "22.0     48\n",
       "23.0     48\n",
       "24.0     67\n",
       "25.0     71\n",
       "26.0     96\n",
       "27.0    106\n",
       "28.0    129\n",
       "29.0    108\n",
       "30.0    149\n",
       "31.0    107\n",
       "32.0    125\n",
       "33.0     98\n",
       "34.0    106\n",
       "35.0    112\n",
       "36.0     81\n",
       "37.0    109\n",
       "38.0     78\n",
       "39.0     86\n",
       "40.0     76\n",
       "41.0     52\n",
       "42.0     72\n",
       "43.0     34\n",
       "44.0     50\n",
       "45.0     50\n",
       "46.0     34\n",
       "47.0     30\n",
       "48.0     17\n",
       "49.0     25\n",
       "50.0     15\n",
       "51.0     13\n",
       "52.0     13\n",
       "53.0     11\n",
       "54.0      7\n",
       "55.0     12\n",
       "56.0      4\n",
       "57.0      7\n",
       "58.0      2\n",
       "59.0      3\n",
       "60.0      2\n",
       "61.0      5\n",
       "62.0      4\n",
       "63.0      3\n",
       "64.0      1\n",
       "65.0      1\n",
       "66.0      2\n",
       "70.0      1\n",
       "74.0      1\n",
       "Name: count, dtype: int64"
      ]
     },
     "execution_count": 104,
     "metadata": {},
     "output_type": "execute_result"
    }
   ],
   "source": [
    "dados_reduzidos.Q11 = dados_reduzidos.Q11.replace(0, media_idade)\n",
    "dados_reduzidos = dados_reduzidos[(dados_reduzidos.Q11 >= 16)&(dados_reduzidos.Q11 <= 80)]\n",
    "\n",
    "dados_reduzidos.Q11.value_counts().sort_index()"
   ]
  },
  {
   "cell_type": "markdown",
   "id": "9e6f3ef2",
   "metadata": {},
   "source": [
    "## Q12"
   ]
  },
  {
   "cell_type": "code",
   "execution_count": 105,
   "id": "e171149c",
   "metadata": {},
   "outputs": [
    {
     "name": "stdout",
     "output_type": "stream",
     "text": [
      "Shape: (2312, 10)\n",
      "Genero\n",
      "Q12\n",
      "Masculino                                 978\n",
      "masculino                                 340\n",
      "Feminino                                  318\n",
      "feminino                                  181\n",
      "M                                         117\n",
      "m                                          79\n",
      "F                                          58\n",
      "f                                          41\n",
      "cisgênero masculino                        22\n",
      "cisgênero feminino                         15\n",
      "Masculino                                  14\n",
      "Feminino                                   13\n",
      "Mulher                                     11\n",
      "queer                                      10\n",
      "não binário                                10\n",
      "mulher                                      8\n",
      "Homem                                       7\n",
      "outros                                      6\n",
      "não-binário                                 6\n",
      "Transgênero                                 6\n",
      "sem gênero                                  5\n",
      "Outro                                       3\n",
      "Nenhum                                      3\n",
      "outro                                       2\n",
      "masculino                                   2\n",
      "Gênero Fluido                               2\n",
      "feminino                                    2\n",
      "homem                                       2\n",
      "Sexo é masculino                            1\n",
      "Me identifico como mulher                   1\n",
      "\\----                                       1\n",
      "transgênero                                 1\n",
      "Bi-gênero                                   1\n",
      "cara                                        1\n",
      "Ostensivamente Masculino                    1\n",
      "Me identifico como feminina                 1\n",
      "nenhum                                      1\n",
      "Contextual                                  1\n",
      "Vamos manter simples e dizer masculino      1\n",
      "Me identifico como homem                    1\n",
      "Em dúvida                                   1\n",
      "Maskulino                                   1\n",
      "Femenino                                    1\n",
      "FEMININO                                    1\n",
      "Feminino, Ela/Dela                          1\n",
      "Não binário                                 1\n",
      "Meu sexo é feminino                         1\n",
      "não é da sua conta                          1\n",
      "mascolino                                   1\n",
      "90% masculino, 10% feminino                 1\n",
      "Humano                                      1\n",
      "Andrôgeno                                   1\n",
      "Masculino.                                  1\n",
      "feminino/mulher                             1\n",
      "Cara                                        1\n",
      "fem                                         1\n",
      "Registrada no nascimento como feminino      1\n",
      "Fluidez de gênero (nascida feminino)        1\n",
      " Feminino                                   1\n",
      "cisgênero mulher                            1\n",
      "Transgênero feminina                        1\n",
      "Mascolino                                   1\n",
      "femininu                                    1\n",
      "majoritariamente masculino                  1\n",
      "Name: count, dtype: int64\n",
      "15\n"
     ]
    }
   ],
   "source": [
    "print(f'Shape: {dados_reduzidos.shape}')\n",
    "print(dicionario_colunas.Q12)\n",
    "print(dados_reduzidos.Q12.value_counts())\n",
    "print(dados_reduzidos.Q12.isna().sum())"
   ]
  },
  {
   "cell_type": "code",
   "execution_count": 106,
   "id": "8dfead2a",
   "metadata": {},
   "outputs": [],
   "source": [
    "def padronizar_genero(valor):\n",
    "    valor = str(valor).strip().lower()\n",
    "    \n",
    "    if valor in ['masculino', 'm', 'male', 'cisgênero masculino', 'masculine', 'homem', 'homem cis','Homem']:\n",
    "        return 'Masculino'\n",
    "    elif valor in ['feminino', 'f', 'female', 'cisgênero mulher', 'feminina', 'mulher', 'mulher cis','Mulher']:\n",
    "        return 'Feminino'\n",
    "    else:\n",
    "        return 'Outro'\n"
   ]
  },
  {
   "cell_type": "code",
   "execution_count": 107,
   "id": "6f8cd169",
   "metadata": {},
   "outputs": [
    {
     "data": {
      "text/plain": [
       "Q12\n",
       "Masculino    1561\n",
       "Feminino      635\n",
       "Outro         116\n",
       "Name: count, dtype: int64"
      ]
     },
     "execution_count": 107,
     "metadata": {},
     "output_type": "execute_result"
    }
   ],
   "source": [
    "dados_reduzidos['Q12'] = dados_reduzidos['Q12'].apply(padronizar_genero)\n",
    "dados_reduzidos['Q12'].value_counts()"
   ]
  },
  {
   "cell_type": "markdown",
   "id": "080f854b",
   "metadata": {},
   "source": [
    "## Q13"
   ]
  },
  {
   "cell_type": "code",
   "execution_count": 108,
   "id": "6ddb8070",
   "metadata": {},
   "outputs": [
    {
     "name": "stdout",
     "output_type": "stream",
     "text": [
      "Shape: (2312, 10)\n",
      "Qual pais voce reside?\n",
      "Q13\n",
      "United States     1684\n",
      "United Kingdom     233\n",
      "Canada             103\n",
      "Germany             75\n",
      "India               63\n",
      "Netherlands         51\n",
      "Australia           40\n",
      "France              33\n",
      "Brazil              30\n",
      "Name: count, dtype: int64\n",
      "0\n"
     ]
    }
   ],
   "source": [
    "print(f'Shape: {dados_reduzidos.shape}')\n",
    "print(dicionario_colunas.Q13)\n",
    "print(dados_reduzidos.Q13.value_counts())\n",
    "print(dados_reduzidos.Q13.isna().sum())"
   ]
  },
  {
   "cell_type": "markdown",
   "id": "c2701b52",
   "metadata": {},
   "source": [
    "## Q14"
   ]
  },
  {
   "cell_type": "code",
   "execution_count": 109,
   "id": "b920d30b",
   "metadata": {},
   "outputs": [
    {
     "name": "stdout",
     "output_type": "stream",
     "text": [
      "Shape: (2312, 10)\n",
      "Qual pais voce trabalha?\n",
      "Q14\n",
      "United States     1684\n",
      "United Kingdom     233\n",
      "Canada             103\n",
      "Germany             75\n",
      "India               63\n",
      "Netherlands         51\n",
      "Australia           40\n",
      "France              33\n",
      "Brazil              30\n",
      "Name: count, dtype: int64\n",
      "0\n"
     ]
    }
   ],
   "source": [
    "print(f'Shape: {dados_reduzidos.shape}')\n",
    "print(dicionario_colunas.Q14)\n",
    "print(dados_reduzidos.Q14.value_counts())\n",
    "print(dados_reduzidos.Q14.isna().sum())"
   ]
  },
  {
   "cell_type": "markdown",
   "id": "b51315eb",
   "metadata": {},
   "source": [
    "## Q15"
   ]
  },
  {
   "cell_type": "code",
   "execution_count": 110,
   "id": "43f550cd",
   "metadata": {},
   "outputs": [
    {
     "name": "stdout",
     "output_type": "stream",
     "text": [
      "Shape: (2312, 10)\n",
      "Voce ja foi diagnosticado com uma doenca mental?\n",
      "Q15\n",
      "Sim    1085\n",
      "Nao     515\n",
      "Name: count, dtype: int64\n",
      "712\n"
     ]
    }
   ],
   "source": [
    "print(f'Shape: {dados_reduzidos.shape}')\n",
    "print(dicionario_colunas.Q15)\n",
    "print(dados_reduzidos.Q15.value_counts())\n",
    "print(dados_reduzidos.Q15.isna().sum())"
   ]
  },
  {
   "cell_type": "markdown",
   "id": "329303bd",
   "metadata": {},
   "source": [
    "Assumimos que os valores nulos indicam ausência de diagnóstico, uma vez que quem foi diagnosticado provavelmente respondeu conscientemente 'Sim'. Portanto, substituímos os nulos por 'Não' para preservar consistência e aumentar a base de dados utilizável."
   ]
  },
  {
   "cell_type": "code",
   "execution_count": 111,
   "id": "b4e172ab",
   "metadata": {},
   "outputs": [
    {
     "data": {
      "text/plain": [
       "Q15\n",
       "Não    1227\n",
       "Sim    1085\n",
       "Name: count, dtype: int64"
      ]
     },
     "execution_count": 111,
     "metadata": {},
     "output_type": "execute_result"
    }
   ],
   "source": [
    "dados_reduzidos['Q15'] = dados_reduzidos['Q15'].fillna('Não')\n",
    "dados_reduzidos.Q15 = dados_reduzidos.Q15.replace('Nao', 'Não')\n",
    "dados_reduzidos.Q15.value_counts()\n"
   ]
  },
  {
   "cell_type": "markdown",
   "id": "79f657c1",
   "metadata": {},
   "source": [
    "## Q16"
   ]
  },
  {
   "cell_type": "code",
   "execution_count": 112,
   "id": "88ecdcab",
   "metadata": {},
   "outputs": [
    {
     "name": "stdout",
     "output_type": "stream",
     "text": [
      "Shape: (2312, 10)\n",
      "Voce ja procurou tratamento profissional para uma doenca mental?\n",
      "Q16\n",
      "Sim    1414\n",
      "Nao     898\n",
      "Name: count, dtype: int64\n",
      "0\n"
     ]
    }
   ],
   "source": [
    "print(f'Shape: {dados_reduzidos.shape}')\n",
    "print(dicionario_colunas.Q16)\n",
    "print(dados_reduzidos.Q16.value_counts())\n",
    "print(dados_reduzidos.Q16.isna().sum())"
   ]
  },
  {
   "cell_type": "code",
   "execution_count": 113,
   "id": "77a9e8b7",
   "metadata": {},
   "outputs": [
    {
     "name": "stdout",
     "output_type": "stream",
     "text": [
      "Q16\n",
      "Sim    1414\n",
      "Não     898\n",
      "Name: count, dtype: int64\n"
     ]
    }
   ],
   "source": [
    "dados_reduzidos.Q16 = dados_reduzidos.Q16.replace('Nao', 'Não')\n",
    "print(dados_reduzidos.Q16.value_counts())"
   ]
  },
  {
   "cell_type": "markdown",
   "id": "84583d15",
   "metadata": {},
   "source": [
    "## Q17"
   ]
  },
  {
   "cell_type": "code",
   "execution_count": 114,
   "id": "76784fd9",
   "metadata": {},
   "outputs": [
    {
     "name": "stdout",
     "output_type": "stream",
     "text": [
      "Shape: (2312, 10)\n",
      "ano\n",
      "Q17\n",
      "2016    1031\n",
      "2017     578\n",
      "2018     326\n",
      "2019     254\n",
      "2020     123\n",
      "Name: count, dtype: int64\n",
      "0\n"
     ]
    }
   ],
   "source": [
    "print(f'Shape: {dados_reduzidos.shape}')\n",
    "print(dicionario_colunas.Q17)\n",
    "print(dados_reduzidos.Q17.value_counts())\n",
    "print(dados_reduzidos.Q17.isna().sum())"
   ]
  },
  {
   "cell_type": "markdown",
   "id": "1c9adc82",
   "metadata": {},
   "source": [
    "# Consolidando Dados"
   ]
  },
  {
   "cell_type": "code",
   "execution_count": 115,
   "id": "1f944d23",
   "metadata": {},
   "outputs": [],
   "source": [
    "df = dados_reduzidos\n",
    "dic = dicionario_reduzido"
   ]
  },
  {
   "cell_type": "markdown",
   "id": "2bf3d231",
   "metadata": {},
   "source": [
    "# Respondendo Perguntas"
   ]
  },
  {
   "cell_type": "code",
   "execution_count": 40,
   "id": "0a332a94",
   "metadata": {},
   "outputs": [
    {
     "data": {
      "text/plain": [
       "Q1                            A sua empresa oferece beneficios referentes a saude mental como parte dos beneficios de saude?\n",
       "Q9     Se voce revelou uma doenca mental para um cliente ou contato de negocio, como isso afetou voce e/ou o relacionamento?\n",
       "Q10          Se voce revelou uma doenca mental para um para par ou funcionario, como isso afetou voce e/ou o relacionamento?\n",
       "Q11                                                                                                                    Idade\n",
       "Q12                                                                                                                   Genero\n",
       "Q13                                                                                                   Qual pais voce reside?\n",
       "Q14                                                                                                 Qual pais voce trabalha?\n",
       "Q15                                                                         Voce ja foi diagnosticado com uma doenca mental?\n",
       "Q16                                                         Voce ja procurou tratamento profissional para uma doenca mental?\n",
       "Q17                                                                                                                      ano\n",
       "dtype: object"
      ]
     },
     "execution_count": 40,
     "metadata": {},
     "output_type": "execute_result"
    }
   ],
   "source": [
    "dic"
   ]
  },
  {
   "cell_type": "markdown",
   "id": "734518be",
   "metadata": {},
   "source": [
    "## P1: Existe uma diferença significativa de saúde mental entre os gêneros de colaboradores ao longo do tempo em que a pesquisa foi realizada?"
   ]
  },
  {
   "cell_type": "code",
   "execution_count": 41,
   "id": "fd85ce55",
   "metadata": {},
   "outputs": [
    {
     "data": {
      "image/png": "[encoded data removed]",
      "text/plain": [
       "<Figure size 640x480 with 1 Axes>"
      ]
     },
     "metadata": {},
     "output_type": "display_data"
    }
   ],
   "source": [
    "dados = []\n",
    "\n",
    "for ano in range(2016, 2021):\n",
    "    df_valido = df[(df.Q17 == ano) & (df.Q15.isin(['Sim', 'Não'])) & (df.Q12.isin(['Feminino', 'Masculino']))]\n",
    "    contagem_df = df_valido.groupby('Q12')['Q15'].value_counts().unstack()\n",
    "    proporcao_sim = contagem_df['Sim'] / contagem_df.sum(axis=1)\n",
    "    proporcao_sim = proporcao_sim.reset_index()\n",
    "    proporcao_sim['ano'] = ano\n",
    "    proporcao_sim.columns = ['Gênero', 'Proporção de Sim', 'Ano']\n",
    "    dados.append(proporcao_sim)\n",
    "dados = pd.concat(dados, ignore_index=True)\n",
    "serie_feminino = dados[dados['Gênero'] == 'Feminino']\n",
    "serie_masculino = dados[dados['Gênero'] == 'Masculino']\n",
    "# plt.figure(figsize=(12, 6))\n",
    "sns.lineplot(data=serie_feminino, x='Ano', y='Proporção de Sim', label='Feminino', marker='o')\n",
    "sns.lineplot(data=serie_masculino, x='Ano', y='Proporção de Sim', label='Masculino', marker='o')\n",
    "plt.title('Proporção de Respostas \"Sim\" por Gênero ao Longo dos Anos')\n",
    "plt.xlabel('Ano')\n",
    "plt.ylabel('Proporção de Sim')\n",
    "plt.legend(title='Gênero')\n",
    "plt.xticks(serie_feminino['Ano'].unique())\n",
    "plt.grid(True)\n",
    "plt.show()\n"
   ]
  },
  {
   "cell_type": "markdown",
   "id": "ae30afa9",
   "metadata": {},
   "source": [
    "Observa-se que há claramente uma diferença na proporção de colaboradores que já foram diagnosticados com alguma doença mental entre o gênero masculino e o feminino, onde há uma presença maior de respostas positivas no público feminino.\n",
    "\n",
    "Além disso, nota-se que há uma tendência de crescimento entre 2017 e 2019 para o gênero feminino enquanto para o gênero masculino a tendência parece ser constante, ou até mesmo uma redução de respostas \"Sim\"."
   ]
  },
  {
   "cell_type": "markdown",
   "id": "71554d44",
   "metadata": {},
   "source": [
    "## P2: Existe uma diferença significativa de quem busca tratamento entre os gêneros de colaboradores ao longo do tempo em que a pesquisa foi realizada?"
   ]
  },
  {
   "cell_type": "code",
   "execution_count": 42,
   "id": "91e68f1b",
   "metadata": {},
   "outputs": [
    {
     "data": {
      "text/plain": [
       "Q1                            A sua empresa oferece beneficios referentes a saude mental como parte dos beneficios de saude?\n",
       "Q9     Se voce revelou uma doenca mental para um cliente ou contato de negocio, como isso afetou voce e/ou o relacionamento?\n",
       "Q10          Se voce revelou uma doenca mental para um para par ou funcionario, como isso afetou voce e/ou o relacionamento?\n",
       "Q11                                                                                                                    Idade\n",
       "Q12                                                                                                                   Genero\n",
       "Q13                                                                                                   Qual pais voce reside?\n",
       "Q14                                                                                                 Qual pais voce trabalha?\n",
       "Q15                                                                         Voce ja foi diagnosticado com uma doenca mental?\n",
       "Q16                                                         Voce ja procurou tratamento profissional para uma doenca mental?\n",
       "Q17                                                                                                                      ano\n",
       "dtype: object"
      ]
     },
     "execution_count": 42,
     "metadata": {},
     "output_type": "execute_result"
    }
   ],
   "source": [
    "dic"
   ]
  },
  {
   "cell_type": "code",
   "execution_count": 43,
   "id": "1e2ba1d0",
   "metadata": {},
   "outputs": [
    {
     "data": {
      "text/html": [
       "<div>\n",
       "<style scoped>\n",
       "    .dataframe tbody tr th:only-of-type {\n",
       "        vertical-align: middle;\n",
       "    }\n",
       "\n",
       "    .dataframe tbody tr th {\n",
       "        vertical-align: top;\n",
       "    }\n",
       "\n",
       "    .dataframe thead th {\n",
       "        text-align: right;\n",
       "    }\n",
       "</style>\n",
       "<table border=\"1\" class=\"dataframe\">\n",
       "  <thead>\n",
       "    <tr style=\"text-align: right;\">\n",
       "      <th></th>\n",
       "      <th>Q1</th>\n",
       "      <th>Q9</th>\n",
       "      <th>Q10</th>\n",
       "      <th>Q11</th>\n",
       "      <th>Q12</th>\n",
       "      <th>Q13</th>\n",
       "      <th>Q14</th>\n",
       "      <th>Q15</th>\n",
       "      <th>Q16</th>\n",
       "      <th>Q17</th>\n",
       "    </tr>\n",
       "  </thead>\n",
       "  <tbody>\n",
       "    <tr>\n",
       "      <th>0</th>\n",
       "      <td>Não Aplica</td>\n",
       "      <td>Não Aplica</td>\n",
       "      <td>Não Aplica</td>\n",
       "      <td>39.0</td>\n",
       "      <td>Masculino</td>\n",
       "      <td>United Kingdom</td>\n",
       "      <td>United Kingdom</td>\n",
       "      <td>Sim</td>\n",
       "      <td>Não</td>\n",
       "      <td>2016</td>\n",
       "    </tr>\n",
       "    <tr>\n",
       "      <th>1</th>\n",
       "      <td>Não</td>\n",
       "      <td>Não Aplica</td>\n",
       "      <td>Não Aplica</td>\n",
       "      <td>29.0</td>\n",
       "      <td>Masculino</td>\n",
       "      <td>United States</td>\n",
       "      <td>United States</td>\n",
       "      <td>Sim</td>\n",
       "      <td>Sim</td>\n",
       "      <td>2016</td>\n",
       "    </tr>\n",
       "    <tr>\n",
       "      <th>2</th>\n",
       "      <td>Não</td>\n",
       "      <td>Não Aplica</td>\n",
       "      <td>Não Aplica</td>\n",
       "      <td>38.0</td>\n",
       "      <td>Masculino</td>\n",
       "      <td>United Kingdom</td>\n",
       "      <td>United Kingdom</td>\n",
       "      <td>Não</td>\n",
       "      <td>Sim</td>\n",
       "      <td>2016</td>\n",
       "    </tr>\n",
       "    <tr>\n",
       "      <th>4</th>\n",
       "      <td>Sim</td>\n",
       "      <td>Não Aplica</td>\n",
       "      <td>Não Aplica</td>\n",
       "      <td>43.0</td>\n",
       "      <td>Feminino</td>\n",
       "      <td>United States</td>\n",
       "      <td>United States</td>\n",
       "      <td>Sim</td>\n",
       "      <td>Sim</td>\n",
       "      <td>2016</td>\n",
       "    </tr>\n",
       "    <tr>\n",
       "      <th>5</th>\n",
       "      <td>Sim</td>\n",
       "      <td>Não Aplica</td>\n",
       "      <td>Não Aplica</td>\n",
       "      <td>42.0</td>\n",
       "      <td>Masculino</td>\n",
       "      <td>United Kingdom</td>\n",
       "      <td>United Kingdom</td>\n",
       "      <td>Não</td>\n",
       "      <td>Sim</td>\n",
       "      <td>2016</td>\n",
       "    </tr>\n",
       "  </tbody>\n",
       "</table>\n",
       "</div>"
      ],
      "text/plain": [
       "           Q1          Q9         Q10   Q11        Q12             Q13  \\\n",
       "0  Não Aplica  Não Aplica  Não Aplica  39.0  Masculino  United Kingdom   \n",
       "1         Não  Não Aplica  Não Aplica  29.0  Masculino   United States   \n",
       "2         Não  Não Aplica  Não Aplica  38.0  Masculino  United Kingdom   \n",
       "4         Sim  Não Aplica  Não Aplica  43.0   Feminino   United States   \n",
       "5         Sim  Não Aplica  Não Aplica  42.0  Masculino  United Kingdom   \n",
       "\n",
       "              Q14  Q15  Q16   Q17  \n",
       "0  United Kingdom  Sim  Não  2016  \n",
       "1   United States  Sim  Sim  2016  \n",
       "2  United Kingdom  Não  Sim  2016  \n",
       "4   United States  Sim  Sim  2016  \n",
       "5  United Kingdom  Não  Sim  2016  "
      ]
     },
     "execution_count": 43,
     "metadata": {},
     "output_type": "execute_result"
    }
   ],
   "source": [
    "df.head()"
   ]
  },
  {
   "cell_type": "code",
   "execution_count": 44,
   "id": "ba7f97f6",
   "metadata": {},
   "outputs": [
    {
     "data": {
      "image/png": "[encoded data removed]",
      "text/plain": [
       "<Figure size 640x480 with 1 Axes>"
      ]
     },
     "metadata": {},
     "output_type": "display_data"
    }
   ],
   "source": [
    "dados = []\n",
    "\n",
    "for ano in range(2016, 2021):\n",
    "    df_valido = df[(df.Q17 == ano) & (df.Q16.isin(['Sim', 'Não'])) & (df.Q12.isin(['Feminino', 'Masculino']))]\n",
    "    contagem_df = df_valido.groupby('Q12')['Q16'].value_counts().unstack()\n",
    "    proporcao_sim = contagem_df['Sim'] / contagem_df.sum(axis=1)\n",
    "    proporcao_sim = proporcao_sim.reset_index()\n",
    "    proporcao_sim['ano'] = ano\n",
    "    proporcao_sim.columns = ['Gênero', 'Proporção de Sim', 'Ano']\n",
    "    dados.append(proporcao_sim)\n",
    "dados = pd.concat(dados, ignore_index=True)\n",
    "serie_feminino = dados[dados['Gênero'] == 'Feminino']\n",
    "serie_masculino = dados[dados['Gênero'] == 'Masculino']\n",
    "sns.lineplot(data=serie_feminino, x='Ano', y='Proporção de Sim', label='Feminino', marker='o')\n",
    "sns.lineplot(data=serie_masculino, x='Ano', y='Proporção de Sim', label='Masculino', marker='o')\n",
    "plt.title('Proporção de Procura por Ajuda ao Longo dos Anos para Cada Gênero')\n",
    "plt.xlabel('Ano')\n",
    "plt.ylabel('Proporção de Sim')\n",
    "plt.legend(title='Gênero')\n",
    "plt.xticks(serie_feminino['Ano'].unique())\n",
    "plt.grid(True)\n",
    "plt.show()\n"
   ]
  },
  {
   "cell_type": "markdown",
   "id": "eb38b1d2",
   "metadata": {},
   "source": [
    "Através do gráfico, pode-se notar que há um aumento na procura por tratamento profissional para ambos os gêneros. Também observa-se que há mais procura entre o público feminino do que entre o público masculino. "
   ]
  },
  {
   "cell_type": "markdown",
   "id": "2a8747a1",
   "metadata": {},
   "source": [
    "## P3: Existe uma diferença significativa de saúde mental entre as idades dos colaboradores ao longo do tempo em que a pesquisa foi realizada?"
   ]
  },
  {
   "cell_type": "code",
   "execution_count": 45,
   "id": "23e648da",
   "metadata": {},
   "outputs": [
    {
     "data": {
      "text/plain": [
       "Q1                            A sua empresa oferece beneficios referentes a saude mental como parte dos beneficios de saude?\n",
       "Q9     Se voce revelou uma doenca mental para um cliente ou contato de negocio, como isso afetou voce e/ou o relacionamento?\n",
       "Q10          Se voce revelou uma doenca mental para um para par ou funcionario, como isso afetou voce e/ou o relacionamento?\n",
       "Q11                                                                                                                    Idade\n",
       "Q12                                                                                                                   Genero\n",
       "Q13                                                                                                   Qual pais voce reside?\n",
       "Q14                                                                                                 Qual pais voce trabalha?\n",
       "Q15                                                                         Voce ja foi diagnosticado com uma doenca mental?\n",
       "Q16                                                         Voce ja procurou tratamento profissional para uma doenca mental?\n",
       "Q17                                                                                                                      ano\n",
       "dtype: object"
      ]
     },
     "execution_count": 45,
     "metadata": {},
     "output_type": "execute_result"
    }
   ],
   "source": [
    "dic"
   ]
  },
  {
   "cell_type": "code",
   "execution_count": 46,
   "id": "e8075101",
   "metadata": {},
   "outputs": [
    {
     "data": {
      "text/plain": [
       "<Axes: xlabel='Idade', ylabel='Proporção de Sim'>"
      ]
     },
     "execution_count": 46,
     "metadata": {},
     "output_type": "execute_result"
    },
    {
     "data": {
      "image/png": "[encoded data removed]",
      "text/plain": [
       "<Figure size 640x480 with 1 Axes>"
      ]
     },
     "metadata": {},
     "output_type": "display_data"
    }
   ],
   "source": [
    "contagem_df = df.groupby('Q11')['Q15'].value_counts().unstack().fillna(0)\n",
    "proporcao_sim = contagem_df['Sim'] / contagem_df.sum(axis=1)\n",
    "proporcao_sim = proporcao_sim.reset_index()\n",
    "proporcao_sim.columns = ['Idade', 'Proporção de Sim']\n",
    "\n",
    "sns.barplot(data=proporcao_sim, x='Idade', y='Proporção de Sim')"
   ]
  },
  {
   "cell_type": "code",
   "execution_count": 47,
   "id": "be44c324",
   "metadata": {},
   "outputs": [
    {
     "data": {
      "image/png": "[encoded data removed]",
      "text/plain": [
       "<Figure size 640x480 with 1 Axes>"
      ]
     },
     "metadata": {},
     "output_type": "display_data"
    }
   ],
   "source": [
    "df['Q11'].hist(bins=10, edgecolor='black')\n",
    "plt.title('Distribuição de idade')\n",
    "plt.xlabel('Idade')\n",
    "plt.ylabel('Frequência')\n",
    "plt.grid(axis='y')\n",
    "plt.show()\n",
    "\n"
   ]
  },
  {
   "cell_type": "code",
   "execution_count": 48,
   "id": "ee53c76b",
   "metadata": {},
   "outputs": [
    {
     "data": {
      "image/png": "[encoded data removed]",
      "text/plain": [
       "<Figure size 640x480 with 1 Axes>"
      ]
     },
     "metadata": {},
     "output_type": "display_data"
    }
   ],
   "source": [
    "df[df['Q15'] == 'Sim']['Q11'].plot.hist(bins=10, edgecolor='black')\n",
    "plt.title('Distribuição de idade entre pessoas diagnosticadas')\n",
    "plt.xlabel('Idade')\n",
    "plt.ylabel('Frequência')\n",
    "plt.grid(axis='y')\n",
    "plt.show()\n"
   ]
  },
  {
   "cell_type": "code",
   "execution_count": 49,
   "id": "3ad05ccf",
   "metadata": {},
   "outputs": [
    {
     "name": "stderr",
     "output_type": "stream",
     "text": [
      "/var/folders/q2/yns_t6qs1rj_8b_hj6y1t8z80000gn/T/ipykernel_2925/3838740007.py:6: FutureWarning: The default of observed=False is deprecated and will be changed to True in a future version of pandas. Pass observed=False to retain current behavior or observed=True to adopt the future default and silence this warning.\n",
      "  contagem_df = df[df['Q15'].isin(['Sim', 'Não'])].groupby('faixa_etaria')['Q15'].value_counts().unstack().fillna(0)\n"
     ]
    },
    {
     "data": {
      "image/png": "[encoded data removed]",
      "text/plain": [
       "<Figure size 640x480 with 1 Axes>"
      ]
     },
     "metadata": {},
     "output_type": "display_data"
    }
   ],
   "source": [
    "bins = [18, 25, 35, 45, 55, 65, 100]\n",
    "labels = ['18–24', '25–34', '35–44', '45–54', '55–64', '65+']\n",
    "df['faixa_etaria'] = pd.cut(df['Q11'], bins=bins, labels=labels)\n",
    "\n",
    "\n",
    "contagem_df = df[df['Q15'].isin(['Sim', 'Não'])].groupby('faixa_etaria')['Q15'].value_counts().unstack().fillna(0)\n",
    "proporcao_sim = contagem_df['Sim'] / contagem_df.sum(axis=1)\n",
    "proporcao_sim = proporcao_sim.reset_index()\n",
    "proporcao_sim.columns = ['Faixa Etária', 'Proporção de Sim']\n",
    "\n",
    "\n",
    "sns.barplot(data=proporcao_sim, x='Faixa Etária', y='Proporção de Sim', color='#66bb6a')\n",
    "plt.title('Proporção de Diagnóstico por Faixa Etária')\n",
    "plt.ylim(0, 1)\n",
    "plt.ylabel('Proporção de \"Sim\"')\n",
    "plt.xlabel('Faixa Etária')\n",
    "plt.grid(axis='y')\n",
    "plt.show()"
   ]
  },
  {
   "cell_type": "code",
   "execution_count": 50,
   "id": "a1341b58",
   "metadata": {},
   "outputs": [
    {
     "data": {
      "image/png": "[encoded data removed]",
      "text/plain": [
       "<Figure size 640x480 with 1 Axes>"
      ]
     },
     "metadata": {},
     "output_type": "display_data"
    }
   ],
   "source": [
    "import seaborn as sns\n",
    "\n",
    "sns.histplot(data=df[df['Q15'].isin(['Sim', 'Não'])], x='Q11', hue='Q15', bins=10, multiple='fill')\n",
    "plt.title('Proporção de Diagnóstico por Idade')\n",
    "plt.xlabel('Idade')\n",
    "plt.ylabel('Proporção')\n",
    "plt.grid(axis='y')\n",
    "plt.show()\n"
   ]
  },
  {
   "cell_type": "markdown",
   "id": "575a9c99",
   "metadata": {},
   "source": [
    "Fiz alguns gráficos para tentar entender o comportamento dos respondentes. É possível ver que temos uma densidade de respondentes \"Sim\" para a pergunta Q15 na idade entre 25-45 anos, porém essa também é a faixa etária com quantidade de respondentes e é esperado que tenha mais quantidade de \"Sim\".\n",
    "\n",
    "Para contornar isso, pensei em usar novamente a proporção de \"Sim\" em comparação com o número de pessoas em cada faixa etária. Neste caso, observa-se que temos uma constante entre 50-60% de respostas \"Sim\", com um pico maior para as idades 65+, com porcentagem chegando quase em 80%."
   ]
  },
  {
   "cell_type": "markdown",
   "id": "498e694c",
   "metadata": {},
   "source": [
    "## P4: Existe uma diferença significativa de quem busca tratamento entre as idades dos colaboradores ao longo do tempo em que a pesquisa foi realizada?"
   ]
  },
  {
   "cell_type": "code",
   "execution_count": 51,
   "id": "a884b2f8",
   "metadata": {},
   "outputs": [
    {
     "name": "stderr",
     "output_type": "stream",
     "text": [
      "/var/folders/q2/yns_t6qs1rj_8b_hj6y1t8z80000gn/T/ipykernel_2925/4126159694.py:6: FutureWarning: The default of observed=False is deprecated and will be changed to True in a future version of pandas. Pass observed=False to retain current behavior or observed=True to adopt the future default and silence this warning.\n",
      "  contagem_df = df[df['Q16'].isin(['Sim', 'Não'])].groupby('faixa_etaria')['Q16'].value_counts().unstack().fillna(0)\n"
     ]
    },
    {
     "data": {
      "image/png": "[encoded data removed]",
      "text/plain": [
       "<Figure size 640x480 with 1 Axes>"
      ]
     },
     "metadata": {},
     "output_type": "display_data"
    }
   ],
   "source": [
    "bins = [18, 25, 35, 45, 55, 65, 100]\n",
    "labels = ['18–24', '25–34', '35–44', '45–54', '55–64', '65+']\n",
    "df['faixa_etaria'] = pd.cut(df['Q11'], bins=bins, labels=labels)\n",
    "\n",
    "\n",
    "contagem_df = df[df['Q16'].isin(['Sim', 'Não'])].groupby('faixa_etaria')['Q16'].value_counts().unstack().fillna(0)\n",
    "proporcao_sim = contagem_df['Sim'] / contagem_df.sum(axis=1)\n",
    "proporcao_sim = proporcao_sim.reset_index()\n",
    "proporcao_sim.columns = ['Faixa Etária', 'Proporção de Sim']\n",
    "\n",
    "\n",
    "sns.barplot(data=proporcao_sim, x='Faixa Etária', y='Proporção de Sim', color='#66bb6a')\n",
    "plt.title('Proporção de Busca por Tratamento por Faixa Etária')\n",
    "plt.ylim(0, 1)\n",
    "plt.ylabel('Proporção de \"Sim\"')\n",
    "plt.xlabel('Faixa Etária')\n",
    "plt.grid(axis='y')\n",
    "plt.show()"
   ]
  },
  {
   "cell_type": "markdown",
   "id": "bfaa7845",
   "metadata": {},
   "source": [
    "O gráfico resultante mostra que há diferenças claras entre as faixas etárias:\n",
    "\n",
    "Faixas mais jovens (18–34) apresentam proporções mais baixas de busca por tratamento.\n",
    "\n",
    "A tendência é de aumento gradual na proporção de respostas \"Sim\" conforme a idade avança, com destaque para os grupos de 55–64 e 65+, que apresentam as maiores proporções.\n",
    "\n",
    "Isso pode indicar que pessoas mais velhas tendem a buscar mais tratamento ou que se sentem mais confortáveis para relatar isso na pesquisa."
   ]
  },
  {
   "cell_type": "markdown",
   "id": "fddcb59d",
   "metadata": {},
   "source": [
    "## P5: Os funcionários de empresas que possuem benefícios de saúde para tratamento de saúde mental buscam mais tratamento?"
   ]
  },
  {
   "cell_type": "code",
   "execution_count": 53,
   "id": "a29b073c",
   "metadata": {},
   "outputs": [
    {
     "data": {
      "text/plain": [
       "Q1                            A sua empresa oferece beneficios referentes a saude mental como parte dos beneficios de saude?\n",
       "Q9     Se voce revelou uma doenca mental para um cliente ou contato de negocio, como isso afetou voce e/ou o relacionamento?\n",
       "Q10          Se voce revelou uma doenca mental para um para par ou funcionario, como isso afetou voce e/ou o relacionamento?\n",
       "Q11                                                                                                                    Idade\n",
       "Q12                                                                                                                   Genero\n",
       "Q13                                                                                                   Qual pais voce reside?\n",
       "Q14                                                                                                 Qual pais voce trabalha?\n",
       "Q15                                                                         Voce ja foi diagnosticado com uma doenca mental?\n",
       "Q16                                                         Voce ja procurou tratamento profissional para uma doenca mental?\n",
       "Q17                                                                                                                      ano\n",
       "dtype: object"
      ]
     },
     "execution_count": 53,
     "metadata": {},
     "output_type": "execute_result"
    }
   ],
   "source": [
    "dic"
   ]
  },
  {
   "cell_type": "code",
   "execution_count": 67,
   "id": "107b0bc8",
   "metadata": {},
   "outputs": [
    {
     "data": {
      "image/png": "[encoded data removed]",
      "text/plain": [
       "<Figure size 640x480 with 1 Axes>"
      ]
     },
     "metadata": {},
     "output_type": "display_data"
    }
   ],
   "source": [
    "df_valido = df[(df.Q1.isin(['Sim', 'Não']))]\n",
    "df_valido = df_valido.groupby('Q1')['Q16'].value_counts().unstack().fillna(0)\n",
    "proporcao_sim = df_valido['Sim'] / df_valido.sum(axis=1)\n",
    "proporcao_sim = proporcao_sim.reset_index()\n",
    "proporcao_sim.columns = ['Resposta Q1', 'Proporção de Sim']\n",
    "sns.barplot(data=proporcao_sim, x='Resposta Q1', y='Proporção de Sim', color='#66bb6a')\n",
    "plt.title('Proporção de Busca por Tratamento em Relação à Resposta Q1')\n",
    "plt.ylim(0, 1)\n",
    "plt.ylabel('Proporção de \"Sim\"')\n",
    "plt.xlabel('Empresa oferece benefício')\n",
    "plt.grid(axis='y')\n",
    "plt.show()"
   ]
  },
  {
   "cell_type": "markdown",
   "id": "9e8b6f6c",
   "metadata": {},
   "source": [
    "Os dados indicam que colaboradores cujas empresas oferecem benefícios voltados à saúde mental têm uma probabilidade significativamente maior de buscar tratamento profissional.\n",
    "\n",
    "Aproximadamente 70% dos funcionários com acesso a esses benefícios afirmaram ter buscado tratamento, em contraste com apenas 53% daqueles cujas empresas não oferecem esse tipo de suporte."
   ]
  },
  {
   "cell_type": "markdown",
   "id": "502d45fc",
   "metadata": {},
   "source": [
    "## P6: Existe uma diferença significativa de saúde mental entre países mais ricos (com um PIB elevado) no ano de 2016? "
   ]
  },
  {
   "cell_type": "code",
   "execution_count": 121,
   "id": "91d148dd",
   "metadata": {},
   "outputs": [
    {
     "data": {
      "text/plain": [
       "Q1                            A sua empresa oferece beneficios referentes a saude mental como parte dos beneficios de saude?\n",
       "Q9     Se voce revelou uma doenca mental para um cliente ou contato de negocio, como isso afetou voce e/ou o relacionamento?\n",
       "Q10          Se voce revelou uma doenca mental para um para par ou funcionario, como isso afetou voce e/ou o relacionamento?\n",
       "Q11                                                                                                                    Idade\n",
       "Q12                                                                                                                   Genero\n",
       "Q13                                                                                                   Qual pais voce reside?\n",
       "Q14                                                                                                 Qual pais voce trabalha?\n",
       "Q15                                                                         Voce ja foi diagnosticado com uma doenca mental?\n",
       "Q16                                                         Voce ja procurou tratamento profissional para uma doenca mental?\n",
       "Q17                                                                                                                      ano\n",
       "dtype: object"
      ]
     },
     "execution_count": 121,
     "metadata": {},
     "output_type": "execute_result"
    }
   ],
   "source": [
    "dic"
   ]
  },
  {
   "cell_type": "code",
   "execution_count": 126,
   "id": "42bfae37",
   "metadata": {},
   "outputs": [
    {
     "data": {
      "image/png": "[encoded data removed]",
      "text/plain": [
       "<Figure size 640x480 with 1 Axes>"
      ]
     },
     "metadata": {},
     "output_type": "display_data"
    }
   ],
   "source": [
    "df_2016 = df[(df['Q17'] == 2016) & df['Q15'].isin(['Sim', 'Não'])]\n",
    "paises_ricos = ['United States', 'Germany', 'United Kingdom', 'Canada', 'Australia', 'France']\n",
    "df_ricos = df_2016[df_2016['Q13'].isin(paises_ricos)]\n",
    "contagem = df_ricos.groupby('Q13')['Q15'].value_counts().unstack().fillna(0)\n",
    "proporcao_sim = contagem['Sim'] / contagem.sum(axis=1)\n",
    "sns.barplot(x=proporcao_sim.index, y=proporcao_sim.values, color='#66bb6a')\n",
    "plt.title('Proporção de Diagnóstico em Países Ricos (2016)')\n",
    "plt.xlabel('País')\n",
    "plt.ylabel('Proporção de \"Sim\" em Q15')\n",
    "plt.tight_layout()\n",
    "plt.show()"
   ]
  },
  {
   "cell_type": "markdown",
   "id": "92e5d5b4",
   "metadata": {},
   "source": [
    "Os dados demonstram uma diferença significativa entre os países de maior PIB no que diz respeito ao diagnóstico de doenças mentais em 2016.\n",
    "Enquanto países como a França apresentaram uma proporção inferior a 20% de diagnósticos entre os respondentes, na Austrália esse número superou 60%, evidenciando uma disparidade marcante."
   ]
  }
 ],
 "metadata": {
  "kernelspec": {
   "display_name": "meu_env",
   "language": "python",
   "name": "python3"
  },
  "language_info": {
   "codemirror_mode": {
    "name": "ipython",
    "version": 3
   },
   "file_extension": ".py",
   "mimetype": "text/x-python",
   "name": "python",
   "nbconvert_exporter": "python",
   "pygments_lexer": "ipython3",
   "version": "3.12.6"
  }
 },
 "nbformat": 4,
 "nbformat_minor": 5
}
