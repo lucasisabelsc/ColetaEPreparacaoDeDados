{
 "cells": [
  {
   "cell_type": "markdown",
   "id": "910fa36d",
   "metadata": {},
   "source": [
    "Abra o arquivo mbox-short.txt usando python"
   ]
  },
  {
   "cell_type": "code",
   "execution_count": 45,
   "id": "12dad4e9",
   "metadata": {},
   "outputs": [],
   "source": [
    "import re\n",
    "import pandas as pd"
   ]
  },
  {
   "cell_type": "code",
   "execution_count": 10,
   "id": "3587d342",
   "metadata": {},
   "outputs": [],
   "source": [
    "with open('mbox-short.txt', 'r') as f:\n",
    "    lines = f.readlines()"
   ]
  },
  {
   "cell_type": "code",
   "execution_count": 17,
   "id": "8ab47449",
   "metadata": {},
   "outputs": [],
   "source": [
    "regex = re.compile(r'X-DSPAM-(\\w+): (.*$)')\n",
    "filtered = list(filter(regex.match, lines))"
   ]
  },
  {
   "cell_type": "code",
   "execution_count": 43,
   "id": "8800173f",
   "metadata": {},
   "outputs": [],
   "source": [
    "records = []\n",
    "for i in range(0, len(filtered), 4):\n",
    "    group = filtered[i:i+4]\n",
    "    record = {}\n",
    "    for line in group:\n",
    "        match = regex.match(line)\n",
    "        if match:\n",
    "            key = match.group(1).capitalize()\n",
    "            value = match.group(2).strip()\n",
    "            record[key] = value\n",
    "    if set(record.keys()) == {'Result', 'Processed', 'Confidence', 'Probability'}:\n",
    "        records.append(record)\n"
   ]
  },
  {
   "cell_type": "code",
   "execution_count": 47,
   "id": "f24a8e29",
   "metadata": {},
   "outputs": [],
   "source": [
    "df = pd.DataFrame(records)"
   ]
  },
  {
   "cell_type": "code",
   "execution_count": 49,
   "id": "20b35c83",
   "metadata": {},
   "outputs": [],
   "source": [
    "df['Processed'] = pd.to_datetime(df['Processed'])"
   ]
  },
  {
   "cell_type": "markdown",
   "id": "5194e86f",
   "metadata": {},
   "source": [
    "Considerando o site https://www.scrapethissite.com/pages/simple/"
   ]
  },
  {
   "cell_type": "code",
   "execution_count": 63,
   "id": "34781217",
   "metadata": {},
   "outputs": [],
   "source": [
    "import requests\n",
    "from bs4 import BeautifulSoup\n",
    "from bs4.element import Tag\n",
    "from dataclasses import dataclass"
   ]
  },
  {
   "cell_type": "code",
   "execution_count": 64,
   "id": "17ac0ec6",
   "metadata": {},
   "outputs": [],
   "source": [
    "@dataclass(init=False)\n",
    "class Country:\n",
    "    name: str\n",
    "    capital: str\n",
    "    population: str\n",
    "    area: float"
   ]
  },
  {
   "cell_type": "code",
   "execution_count": 66,
   "id": "fad42d85",
   "metadata": {},
   "outputs": [
    {
     "name": "stdout",
     "output_type": "stream",
     "text": [
      "200\n",
      "<!doctype html>\n",
      "<html lang=\"en\">\n",
      "  <head>\n",
      "    <meta charset=\"utf-8\">\n",
      "    <title>Countries of the Wor\n"
     ]
    }
   ],
   "source": [
    "r = requests.get(r'https://www.scrapethissite.com/pages/simple/')\n",
    "print(r.status_code)\n",
    "print(r.text[:100])"
   ]
  },
  {
   "cell_type": "code",
   "execution_count": 68,
   "id": "c1391ef5",
   "metadata": {},
   "outputs": [],
   "source": [
    "soup = BeautifulSoup(r.text,'html5lib')"
   ]
  }
 ],
 "metadata": {
  "kernelspec": {
   "display_name": "meu_env",
   "language": "python",
   "name": "python3"
  },
  "language_info": {
   "codemirror_mode": {
    "name": "ipython",
    "version": 3
   },
   "file_extension": ".py",
   "mimetype": "text/x-python",
   "name": "python",
   "nbconvert_exporter": "python",
   "pygments_lexer": "ipython3",
   "version": "3.12.6"
  }
 },
 "nbformat": 4,
 "nbformat_minor": 5
}
