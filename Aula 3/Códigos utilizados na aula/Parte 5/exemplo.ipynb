{
 "cells": [
  {
   "attachments": {},
   "cell_type": "markdown",
   "metadata": {},
   "source": [
    "Vamos fazer uma pequena demonstração sobre o uso do BeautifulSoup para fazer parse de xml."
   ]
  },
  {
   "cell_type": "code",
   "execution_count": 1,
   "metadata": {},
   "outputs": [],
   "source": [
    "from bs4 import BeautifulSoup\n",
    "from bs4.element import Tag"
   ]
  },
  {
   "attachments": {},
   "cell_type": "markdown",
   "metadata": {},
   "source": [
    "O primeiro passo é igual para arquivos xml e html, criamos um objeto BeautifulSoup."
   ]
  },
  {
   "cell_type": "code",
   "execution_count": 3,
   "metadata": {},
   "outputs": [],
   "source": [
    "with open('exemplo.xml', 'r') as f:\n",
    "    soup = BeautifulSoup(f, features='xml')"
   ]
  },
  {
   "cell_type": "code",
   "execution_count": 4,
   "metadata": {},
   "outputs": [
    {
     "name": "stdout",
     "output_type": "stream",
     "text": [
      "<?xml version=\"1.0\" encoding=\"utf-8\"?>\n",
      "<bookstore>\n",
      " <book category=\"cooking\">\n",
      "  <title lang=\"en\">\n",
      "   Everyday Italian\n",
      "  </title>\n",
      "  <author>\n",
      "   Giada De Laurentiis\n",
      "  </author>\n",
      "  <year>\n",
      "   2005\n",
      "  </year>\n",
      "  <price>\n",
      "   30.00\n",
      "  </price>\n",
      " </book>\n",
      " <book category=\"children\">\n",
      "  <title lang=\"en\">\n",
      "   Harry Potter\n",
      "  </title>\n",
      "  <author>\n",
      "   J K. Rowling\n",
      "  </author>\n",
      "  <year>\n",
      "   2005\n",
      "  </year>\n",
      "  <price>\n",
      "   29.99\n",
      "  </price>\n",
      " </book>\n",
      " <book category=\"web\">\n",
      "  <title lang=\"en\">\n",
      "   Learning XML\n",
      "  </title>\n",
      "  <author>\n",
      "   Erik T. Ray\n",
      "  </author>\n",
      "  <year>\n",
      "   2003\n",
      "  </year>\n",
      "  <price>\n",
      "   39.95\n",
      "  </price>\n",
      " </book>\n",
      "</bookstore>\n"
     ]
    }
   ],
   "source": [
    "print(soup.prettify())"
   ]
  },
  {
   "attachments": {},
   "cell_type": "markdown",
   "metadata": {},
   "source": [
    "Para acessar o primeiro livro podemos usar a sintaxe abaixo."
   ]
  },
  {
   "cell_type": "code",
   "execution_count": 6,
   "metadata": {},
   "outputs": [
    {
     "data": {
      "text/plain": [
       "<book category=\"cooking\">\n",
       "<title lang=\"en\">Everyday Italian</title>\n",
       "<author>Giada De Laurentiis</author>\n",
       "<year>2005</year>\n",
       "<price>30.00</price>\n",
       "</book>"
      ]
     },
     "execution_count": 6,
     "metadata": {},
     "output_type": "execute_result"
    }
   ],
   "source": [
    "soup.bookstore.book"
   ]
  },
  {
   "cell_type": "code",
   "execution_count": 9,
   "metadata": {},
   "outputs": [
    {
     "data": {
      "text/plain": [
       "'Everyday Italian'"
      ]
     },
     "execution_count": 9,
     "metadata": {},
     "output_type": "execute_result"
    }
   ],
   "source": [
    "soup.bookstore.book.title.string"
   ]
  },
  {
   "attachments": {},
   "cell_type": "markdown",
   "metadata": {},
   "source": [
    "Se for necessário passar por todos os livros é necessário fazer um loop."
   ]
  },
  {
   "cell_type": "code",
   "execution_count": 10,
   "metadata": {},
   "outputs": [
    {
     "name": "stdout",
     "output_type": "stream",
     "text": [
      "<class 'bs4.element.NavigableString'>\n",
      "\n",
      "\n",
      "<class 'bs4.element.Tag'>\n",
      "<book category=\"cooking\">\n",
      "<title lang=\"en\">Everyday Italian</title>\n",
      "<author>Giada De Laurentiis</author>\n",
      "<year>2005</year>\n",
      "<price>30.00</price>\n",
      "</book>\n",
      "<class 'bs4.element.NavigableString'>\n",
      "\n",
      "\n",
      "<class 'bs4.element.Tag'>\n",
      "<book category=\"children\">\n",
      "<title lang=\"en\">Harry Potter</title>\n",
      "<author>J K. Rowling</author>\n",
      "<year>2005</year>\n",
      "<price>29.99</price>\n",
      "</book>\n",
      "<class 'bs4.element.NavigableString'>\n",
      "\n",
      "\n",
      "<class 'bs4.element.Tag'>\n",
      "<book category=\"web\">\n",
      "<title lang=\"en\">Learning XML</title>\n",
      "<author>Erik T. Ray</author>\n",
      "<year>2003</year>\n",
      "<price>39.95</price>\n",
      "</book>\n",
      "<class 'bs4.element.NavigableString'>\n",
      "\n",
      "\n"
     ]
    }
   ],
   "source": [
    "for t in soup.bookstore:\n",
    "    print(type(t))\n",
    "    print(t)"
   ]
  },
  {
   "cell_type": "code",
   "execution_count": 11,
   "metadata": {},
   "outputs": [
    {
     "name": "stdout",
     "output_type": "stream",
     "text": [
      "Título: Everyday Italian\n",
      " Autor: Giada De Laurentiis\n",
      "   Ano: 2005\n",
      " Valor: 30.00\n",
      "Título: Harry Potter\n",
      " Autor: J K. Rowling\n",
      "   Ano: 2005\n",
      " Valor: 29.99\n",
      "Título: Learning XML\n",
      " Autor: Erik T. Ray\n",
      "   Ano: 2003\n",
      " Valor: 39.95\n"
     ]
    }
   ],
   "source": [
    "for t in soup.bookstore:\n",
    "    if not isinstance(t, Tag):\n",
    "        continue\n",
    "    print(f'Título: {t.title.text}')\n",
    "    print(f' Autor: {t.author.text}')\n",
    "    print(f'   Ano: {t.year.text}')\n",
    "    print(f' Valor: {t.price.text}')\n",
    "    "
   ]
  }
 ],
 "metadata": {
  "kernelspec": {
   "display_name": "dinamica",
   "language": "python",
   "name": "python3"
  },
  "language_info": {
   "codemirror_mode": {
    "name": "ipython",
    "version": 3
   },
   "file_extension": ".py",
   "mimetype": "text/x-python",
   "name": "python",
   "nbconvert_exporter": "python",
   "pygments_lexer": "ipython3",
   "version": "3.10.8"
  },
  "orig_nbformat": 4,
  "vscode": {
   "interpreter": {
    "hash": "83fea9013fa004fa566e04742ae3acfb5b93bc5963c3d022f8eeeeb52dc9bc1c"
   }
  }
 },
 "nbformat": 4,
 "nbformat_minor": 2
}
