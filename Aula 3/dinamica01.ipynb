{
 "cells": [
  {
   "cell_type": "code",
   "execution_count": 1,
   "metadata": {},
   "outputs": [],
   "source": [
    "import pandas as pd"
   ]
  },
  {
   "attachments": {},
   "cell_type": "markdown",
   "metadata": {},
   "source": [
    "# Questões 1"
   ]
  },
  {
   "cell_type": "code",
   "execution_count": 2,
   "metadata": {},
   "outputs": [
    {
     "data": {
      "text/html": [
       "<div>\n",
       "<style scoped>\n",
       "    .dataframe tbody tr th:only-of-type {\n",
       "        vertical-align: middle;\n",
       "    }\n",
       "\n",
       "    .dataframe tbody tr th {\n",
       "        vertical-align: top;\n",
       "    }\n",
       "\n",
       "    .dataframe thead th {\n",
       "        text-align: right;\n",
       "    }\n",
       "</style>\n",
       "<table border=\"1\" class=\"dataframe\">\n",
       "  <thead>\n",
       "    <tr style=\"text-align: right;\">\n",
       "      <th></th>\n",
       "      <th>id</th>\n",
       "      <th>company-name</th>\n",
       "      <th>description</th>\n",
       "      <th>tagline</th>\n",
       "      <th>company-email</th>\n",
       "      <th>ein</th>\n",
       "    </tr>\n",
       "  </thead>\n",
       "  <tbody>\n",
       "    <tr>\n",
       "      <th>0</th>\n",
       "      <td>1</td>\n",
       "      <td>Blick, Haag and Lockman</td>\n",
       "      <td>Ergonomic Actuating Alliance</td>\n",
       "      <td>Cultivate Strategic Content</td>\n",
       "      <td>maye88@foo.com</td>\n",
       "      <td>66-6026508</td>\n",
       "    </tr>\n",
       "    <tr>\n",
       "      <th>1</th>\n",
       "      <td>2</td>\n",
       "      <td>O'Hara, Halvorson and Nienow</td>\n",
       "      <td>Organic Mobile Info-Mediaries</td>\n",
       "      <td>Facilitate Intuitive Initiatives</td>\n",
       "      <td>jordon39@bar.com</td>\n",
       "      <td>63-9648851</td>\n",
       "    </tr>\n",
       "    <tr>\n",
       "      <th>2</th>\n",
       "      <td>3</td>\n",
       "      <td>Yundt, Goyette and Mayert</td>\n",
       "      <td>Cloned Attitude-Oriented Adapter</td>\n",
       "      <td>Reinvent Granular Webservices</td>\n",
       "      <td>jazlyn.dickinson@ankunding.info</td>\n",
       "      <td>91-9287758</td>\n",
       "    </tr>\n",
       "    <tr>\n",
       "      <th>3</th>\n",
       "      <td>4</td>\n",
       "      <td>Lindgren-Sporer</td>\n",
       "      <td>Compatible 4Thgeneration Analyzer</td>\n",
       "      <td>Architect 24/365 Models</td>\n",
       "      <td>jailyn.cruickshank@foo.com</td>\n",
       "      <td>75-5636305</td>\n",
       "    </tr>\n",
       "    <tr>\n",
       "      <th>4</th>\n",
       "      <td>5</td>\n",
       "      <td>Thompson, Brakus and Weber</td>\n",
       "      <td>Adaptive Responsive Portal</td>\n",
       "      <td>Innovate B2C Metrics</td>\n",
       "      <td>simonis.janiya@bar.com</td>\n",
       "      <td>87-5846037</td>\n",
       "    </tr>\n",
       "  </tbody>\n",
       "</table>\n",
       "</div>"
      ],
      "text/plain": [
       "   id                  company-name                        description  \\\n",
       "0   1       Blick, Haag and Lockman       Ergonomic Actuating Alliance   \n",
       "1   2  O'Hara, Halvorson and Nienow      Organic Mobile Info-Mediaries   \n",
       "2   3     Yundt, Goyette and Mayert   Cloned Attitude-Oriented Adapter   \n",
       "3   4               Lindgren-Sporer  Compatible 4Thgeneration Analyzer   \n",
       "4   5    Thompson, Brakus and Weber         Adaptive Responsive Portal   \n",
       "\n",
       "                            tagline                    company-email  \\\n",
       "0       Cultivate Strategic Content                   maye88@foo.com   \n",
       "1  Facilitate Intuitive Initiatives                 jordon39@bar.com   \n",
       "2     Reinvent Granular Webservices  jazlyn.dickinson@ankunding.info   \n",
       "3           Architect 24/365 Models       jailyn.cruickshank@foo.com   \n",
       "4              Innovate B2C Metrics           simonis.janiya@bar.com   \n",
       "\n",
       "          ein  \n",
       "0  66-6026508  \n",
       "1  63-9648851  \n",
       "2  91-9287758  \n",
       "3  75-5636305  \n",
       "4  87-5846037  "
      ]
     },
     "execution_count": 2,
     "metadata": {},
     "output_type": "execute_result"
    }
   ],
   "source": [
    "df = pd.read_csv('./companies.csv')\n",
    "df.head()"
   ]
  },
  {
   "cell_type": "code",
   "execution_count": 3,
   "metadata": {},
   "outputs": [
    {
     "data": {
      "text/plain": [
       "0                      maye88@foo.com\n",
       "1                    jordon39@bar.com\n",
       "2     jazlyn.dickinson@ankunding.info\n",
       "3          jailyn.cruickshank@foo.com\n",
       "4              simonis.janiya@bar.com\n",
       "5              jasmin.wuckert@foo.com\n",
       "6                    darien23@bar.org\n",
       "7          heaney.misael@medhurst.org\n",
       "8            brianne.skiles@lemke.com\n",
       "9       orlando.denesik@hermiston.com\n",
       "10             rebecca.larkin@foo.com\n",
       "11          cronin.adah@greenholt.com\n",
       "12                 emily91@barton.net\n",
       "13                 richmond99@bar.org\n",
       "14             schultz.bertha@bar.org\n",
       "15           larson.margarita@bar.org\n",
       "16            bernhard.eudora@foo.com\n",
       "17        wendell.pollich@denesik.com\n",
       "18              kenneth68@harris.info\n",
       "19              rosanna86@abbott.info\n",
       "Name: company-email, dtype: object"
      ]
     },
     "execution_count": 3,
     "metadata": {},
     "output_type": "execute_result"
    }
   ],
   "source": [
    "df['company-email']"
   ]
  },
  {
   "attachments": {},
   "cell_type": "markdown",
   "metadata": {},
   "source": [
    "# Questões 2"
   ]
  },
  {
   "cell_type": "code",
   "execution_count": 8,
   "metadata": {},
   "outputs": [
    {
     "data": {
      "text/html": [
       "<div>\n",
       "<style scoped>\n",
       "    .dataframe tbody tr th:only-of-type {\n",
       "        vertical-align: middle;\n",
       "    }\n",
       "\n",
       "    .dataframe tbody tr th {\n",
       "        vertical-align: top;\n",
       "    }\n",
       "\n",
       "    .dataframe thead th {\n",
       "        text-align: right;\n",
       "    }\n",
       "</style>\n",
       "<table border=\"1\" class=\"dataframe\">\n",
       "  <thead>\n",
       "    <tr style=\"text-align: right;\">\n",
       "      <th></th>\n",
       "      <th>id</th>\n",
       "      <th>company-name</th>\n",
       "      <th>description</th>\n",
       "      <th>tagline</th>\n",
       "      <th>ein</th>\n",
       "      <th>domain</th>\n",
       "      <th>tld</th>\n",
       "    </tr>\n",
       "  </thead>\n",
       "  <tbody>\n",
       "    <tr>\n",
       "      <th>0</th>\n",
       "      <td>1</td>\n",
       "      <td>Blick, Haag and Lockman</td>\n",
       "      <td>Ergonomic Actuating Alliance</td>\n",
       "      <td>Cultivate Strategic Content</td>\n",
       "      <td>66-6026508</td>\n",
       "      <td>foo</td>\n",
       "      <td>com</td>\n",
       "    </tr>\n",
       "    <tr>\n",
       "      <th>1</th>\n",
       "      <td>2</td>\n",
       "      <td>O'Hara, Halvorson and Nienow</td>\n",
       "      <td>Organic Mobile Info-Mediaries</td>\n",
       "      <td>Facilitate Intuitive Initiatives</td>\n",
       "      <td>63-9648851</td>\n",
       "      <td>bar</td>\n",
       "      <td>com</td>\n",
       "    </tr>\n",
       "    <tr>\n",
       "      <th>2</th>\n",
       "      <td>3</td>\n",
       "      <td>Yundt, Goyette and Mayert</td>\n",
       "      <td>Cloned Attitude-Oriented Adapter</td>\n",
       "      <td>Reinvent Granular Webservices</td>\n",
       "      <td>91-9287758</td>\n",
       "      <td>ankunding</td>\n",
       "      <td>info</td>\n",
       "    </tr>\n",
       "    <tr>\n",
       "      <th>3</th>\n",
       "      <td>4</td>\n",
       "      <td>Lindgren-Sporer</td>\n",
       "      <td>Compatible 4Thgeneration Analyzer</td>\n",
       "      <td>Architect 24/365 Models</td>\n",
       "      <td>75-5636305</td>\n",
       "      <td>foo</td>\n",
       "      <td>com</td>\n",
       "    </tr>\n",
       "    <tr>\n",
       "      <th>4</th>\n",
       "      <td>5</td>\n",
       "      <td>Thompson, Brakus and Weber</td>\n",
       "      <td>Adaptive Responsive Portal</td>\n",
       "      <td>Innovate B2C Metrics</td>\n",
       "      <td>87-5846037</td>\n",
       "      <td>bar</td>\n",
       "      <td>com</td>\n",
       "    </tr>\n",
       "  </tbody>\n",
       "</table>\n",
       "</div>"
      ],
      "text/plain": [
       "   id                  company-name                        description  \\\n",
       "0   1       Blick, Haag and Lockman       Ergonomic Actuating Alliance   \n",
       "1   2  O'Hara, Halvorson and Nienow      Organic Mobile Info-Mediaries   \n",
       "2   3     Yundt, Goyette and Mayert   Cloned Attitude-Oriented Adapter   \n",
       "3   4               Lindgren-Sporer  Compatible 4Thgeneration Analyzer   \n",
       "4   5    Thompson, Brakus and Weber         Adaptive Responsive Portal   \n",
       "\n",
       "                            tagline         ein     domain   tld  \n",
       "0       Cultivate Strategic Content  66-6026508        foo   com  \n",
       "1  Facilitate Intuitive Initiatives  63-9648851        bar   com  \n",
       "2     Reinvent Granular Webservices  91-9287758  ankunding  info  \n",
       "3           Architect 24/365 Models  75-5636305        foo   com  \n",
       "4              Innovate B2C Metrics  87-5846037        bar   com  "
      ]
     },
     "execution_count": 8,
     "metadata": {},
     "output_type": "execute_result"
    }
   ],
   "source": [
    "df = pd.concat([df.drop(columns='company-email'),\n",
    "                (\n",
    "    df\n",
    "    .loc[:, 'company-email']\n",
    "    .str\n",
    "    .extract(r'.+?@(\\w+)\\.(\\w+)')\n",
    "    .rename(columns={0: 'domain', 1: 'tld'})\n",
    ")\n",
    "],\n",
    "    axis=1)\n",
    "\n",
    "df.head()\n"
   ]
  },
  {
   "cell_type": "code",
   "execution_count": 10,
   "metadata": {},
   "outputs": [
    {
     "ename": "ValueError",
     "evalue": "pattern contains no capture groups",
     "output_type": "error",
     "traceback": [
      "\u001b[31m---------------------------------------------------------------------------\u001b[39m",
      "\u001b[31mValueError\u001b[39m                                Traceback (most recent call last)",
      "\u001b[36mCell\u001b[39m\u001b[36m \u001b[39m\u001b[32mIn[10]\u001b[39m\u001b[32m, line 4\u001b[39m\n\u001b[32m      1\u001b[39m (\n\u001b[32m      2\u001b[39m \u001b[43mdf\u001b[49m\u001b[43m[\u001b[49m\u001b[33;43m'\u001b[39;49m\u001b[33;43mcompany-email\u001b[39;49m\u001b[33;43m'\u001b[39;49m\u001b[43m]\u001b[49m\n\u001b[32m      3\u001b[39m \u001b[43m.\u001b[49m\u001b[43mstr\u001b[49m\n\u001b[32m----> \u001b[39m\u001b[32m4\u001b[39m \u001b[43m.\u001b[49m\u001b[43mextract\u001b[49m\u001b[43m(\u001b[49m\u001b[33;43mr\u001b[39;49m\u001b[33;43m'\u001b[39;49m\u001b[33;43mw.+?@\u001b[39;49m\u001b[33;43m'\u001b[39;49m\u001b[43m)\u001b[49m\n\u001b[32m      5\u001b[39m )\n",
      "\u001b[36mFile \u001b[39m\u001b[32m~/.pyenv/versions/meu_env/lib/python3.12/site-packages/pandas/core/strings/accessor.py:137\u001b[39m, in \u001b[36mforbid_nonstring_types.<locals>._forbid_nonstring_types.<locals>.wrapper\u001b[39m\u001b[34m(self, *args, **kwargs)\u001b[39m\n\u001b[32m    132\u001b[39m     msg = (\n\u001b[32m    133\u001b[39m         \u001b[33mf\u001b[39m\u001b[33m\"\u001b[39m\u001b[33mCannot use .str.\u001b[39m\u001b[38;5;132;01m{\u001b[39;00mfunc_name\u001b[38;5;132;01m}\u001b[39;00m\u001b[33m with values of \u001b[39m\u001b[33m\"\u001b[39m\n\u001b[32m    134\u001b[39m         \u001b[33mf\u001b[39m\u001b[33m\"\u001b[39m\u001b[33minferred dtype \u001b[39m\u001b[33m'\u001b[39m\u001b[38;5;132;01m{\u001b[39;00m\u001b[38;5;28mself\u001b[39m._inferred_dtype\u001b[38;5;132;01m}\u001b[39;00m\u001b[33m'\u001b[39m\u001b[33m.\u001b[39m\u001b[33m\"\u001b[39m\n\u001b[32m    135\u001b[39m     )\n\u001b[32m    136\u001b[39m     \u001b[38;5;28;01mraise\u001b[39;00m \u001b[38;5;167;01mTypeError\u001b[39;00m(msg)\n\u001b[32m--> \u001b[39m\u001b[32m137\u001b[39m \u001b[38;5;28;01mreturn\u001b[39;00m \u001b[43mfunc\u001b[49m\u001b[43m(\u001b[49m\u001b[38;5;28;43mself\u001b[39;49m\u001b[43m,\u001b[49m\u001b[43m \u001b[49m\u001b[43m*\u001b[49m\u001b[43margs\u001b[49m\u001b[43m,\u001b[49m\u001b[43m \u001b[49m\u001b[43m*\u001b[49m\u001b[43m*\u001b[49m\u001b[43mkwargs\u001b[49m\u001b[43m)\u001b[49m\n",
      "\u001b[36mFile \u001b[39m\u001b[32m~/.pyenv/versions/meu_env/lib/python3.12/site-packages/pandas/core/strings/accessor.py:2740\u001b[39m, in \u001b[36mStringMethods.extract\u001b[39m\u001b[34m(self, pat, flags, expand)\u001b[39m\n\u001b[32m   2738\u001b[39m regex = re.compile(pat, flags=flags)\n\u001b[32m   2739\u001b[39m \u001b[38;5;28;01mif\u001b[39;00m regex.groups == \u001b[32m0\u001b[39m:\n\u001b[32m-> \u001b[39m\u001b[32m2740\u001b[39m     \u001b[38;5;28;01mraise\u001b[39;00m \u001b[38;5;167;01mValueError\u001b[39;00m(\u001b[33m\"\u001b[39m\u001b[33mpattern contains no capture groups\u001b[39m\u001b[33m\"\u001b[39m)\n\u001b[32m   2742\u001b[39m \u001b[38;5;28;01mif\u001b[39;00m \u001b[38;5;129;01mnot\u001b[39;00m expand \u001b[38;5;129;01mand\u001b[39;00m regex.groups > \u001b[32m1\u001b[39m \u001b[38;5;129;01mand\u001b[39;00m \u001b[38;5;28misinstance\u001b[39m(\u001b[38;5;28mself\u001b[39m._data, ABCIndex):\n\u001b[32m   2743\u001b[39m     \u001b[38;5;28;01mraise\u001b[39;00m \u001b[38;5;167;01mValueError\u001b[39;00m(\u001b[33m\"\u001b[39m\u001b[33monly one regex group is supported with Index\u001b[39m\u001b[33m\"\u001b[39m)\n",
      "\u001b[31mValueError\u001b[39m: pattern contains no capture groups"
     ]
    }
   ],
   "source": [
    "(\n",
    "df['company-email']\n",
    ".str\n",
    ".extract(r'w.+?@')\n",
    ")"
   ]
  },
  {
   "attachments": {},
   "cell_type": "markdown",
   "metadata": {},
   "source": [
    "# Questão 3"
   ]
  },
  {
   "cell_type": "code",
   "execution_count": 9,
   "metadata": {},
   "outputs": [
    {
     "data": {
      "text/html": [
       "<div>\n",
       "<style scoped>\n",
       "    .dataframe tbody tr th:only-of-type {\n",
       "        vertical-align: middle;\n",
       "    }\n",
       "\n",
       "    .dataframe tbody tr th {\n",
       "        vertical-align: top;\n",
       "    }\n",
       "\n",
       "    .dataframe thead th {\n",
       "        text-align: right;\n",
       "    }\n",
       "</style>\n",
       "<table border=\"1\" class=\"dataframe\">\n",
       "  <thead>\n",
       "    <tr style=\"text-align: right;\">\n",
       "      <th></th>\n",
       "      <th>id</th>\n",
       "    </tr>\n",
       "    <tr>\n",
       "      <th>tld</th>\n",
       "      <th></th>\n",
       "    </tr>\n",
       "  </thead>\n",
       "  <tbody>\n",
       "    <tr>\n",
       "      <th>com</th>\n",
       "      <td>11</td>\n",
       "    </tr>\n",
       "    <tr>\n",
       "      <th>org</th>\n",
       "      <td>5</td>\n",
       "    </tr>\n",
       "    <tr>\n",
       "      <th>info</th>\n",
       "      <td>3</td>\n",
       "    </tr>\n",
       "    <tr>\n",
       "      <th>net</th>\n",
       "      <td>1</td>\n",
       "    </tr>\n",
       "  </tbody>\n",
       "</table>\n",
       "</div>"
      ],
      "text/plain": [
       "      id\n",
       "tld     \n",
       "com   11\n",
       "org    5\n",
       "info   3\n",
       "net    1"
      ]
     },
     "execution_count": 9,
     "metadata": {},
     "output_type": "execute_result"
    }
   ],
   "source": [
    "(\n",
    "    df\n",
    "    .groupby(['tld'])\n",
    "    .aggregate({'id': 'count'})\n",
    "    .sort_values(by='id', ascending=False)\n",
    ")"
   ]
  },
  {
   "cell_type": "code",
   "execution_count": 10,
   "metadata": {},
   "outputs": [
    {
     "data": {
      "text/plain": [
       "com     11\n",
       "org      5\n",
       "info     3\n",
       "net      1\n",
       "Name: tld, dtype: int64"
      ]
     },
     "execution_count": 10,
     "metadata": {},
     "output_type": "execute_result"
    }
   ],
   "source": [
    "(\n",
    "    df\n",
    "    .tld\n",
    "    .value_counts()\n",
    ")"
   ]
  }
 ],
 "metadata": {
  "kernelspec": {
   "display_name": "meu_env",
   "language": "python",
   "name": "python3"
  },
  "language_info": {
   "codemirror_mode": {
    "name": "ipython",
    "version": 3
   },
   "file_extension": ".py",
   "mimetype": "text/x-python",
   "name": "python",
   "nbconvert_exporter": "python",
   "pygments_lexer": "ipython3",
   "version": "3.12.6"
  },
  "orig_nbformat": 4
 },
 "nbformat": 4,
 "nbformat_minor": 2
}
